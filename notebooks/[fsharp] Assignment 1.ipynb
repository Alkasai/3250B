{
 "cells": [
  {
   "cell_type": "markdown",
   "metadata": {},
   "source": [
    "Before you turn this problem in, make sure everything runs as expected. First, **restart the kernel** (in the menu bar, select Kernel$\\rightarrow$Restart) and then **run all cells** (in the menu bar, select Cell$\\rightarrow$Run All).\n",
    "\n",
    "Make sure that in addition to the code, you provide written answers for all questions of the assignment. \n",
    "\n",
    "Below, please fill in your name:"
   ]
  },
  {
   "cell_type": "code",
   "execution_count": 267,
   "metadata": {
    "dotnet_interactive": {
     "language": "fsharp"
    },
    "vscode": {
     "languageId": "dotnet-interactive.fsharp"
    }
   },
   "outputs": [],
   "source": [
    "let NAME = \"Alexey Adamsky\""
   ]
  },
  {
   "cell_type": "markdown",
   "metadata": {},
   "source": [
    "## Assignment 1 - Data Cleaning & Exploration\n",
    "**(30 points total)**"
   ]
  },
  {
   "cell_type": "markdown",
   "metadata": {},
   "source": [
    "For this assignment, we will use an open dataset with data on various types of cereal and the corresponding customer ratings. Use the .csv file provided.\n",
    "\n",
    "Create a dataframe by importing the file into Jupyter, and complete the tasks below. Be sure to show your Python code. You will not be graded on code efficiency, but your code should return a correct answer."
   ]
  },
  {
   "cell_type": "markdown",
   "metadata": {},
   "source": [
    "**Question 1.**  _(4 points)_\n",
    "* Create a new 'Type of Cereal' column in your dataframe (1 point) by copying the 'name' column. Write a function to replace the names of the cereal in your new column with one of these categories Bran, Wheat, Fiber, Protein, Crunch, Corn, Nut, Rice and Other (3 points). Hint: the function should look through the text in the cereal name and determine, based on its contents, how to categorize the cereal type.\n",
    "\n",
    "**Question 2.**  _(2 points)_\n",
    "* Identify the negative values in the data set and replace them with the median value for that column.\n",
    "\n",
    "**Question 3.** _(5 points)_\n",
    "* Standardize the 'weight' column to 1. For this question, you will need to write a function to divide the remaining columns which contain nutritional information by the corresponding value in the weight column, and you will need to divide the value in the weight column by itself in order to get 1. For example, if an observation has a weight value of 1.33 and a calories value of 250, if you divide 250/1.33 you should get a calories value of 188 and a weight value of 1.\n",
    "\n",
    "**Question 4.**  _(5 points)_\n",
    "* Create a new column to categorize cereals as 'healthy' vs. 'unhealthy'. You can define your own version of healthy vs. unhealthy, or you can use the following: healthy cereals can be defined as those which have low calories (<100), low sodium (<150), low sugar (<9) high fiber (>3), and high protein (>2). All other cereals are unhealthy.\n",
    "\n",
    "**Question 5.** _(2 points)_\n",
    "* Based on your newly prepared data set identify what % of cereals that each manufacturer produces are healthy.\n",
    "\n",
    "**Question 6.** _(2 points)_\n",
    "* Calculate the average, minimum and maximum ratings for healthy vs. unhealthy cereals.\n",
    "\n",
    "**Question 7.** _(2 points)_\n",
    "* Calculate the average, minimum and maximum ratings for each type of cereal: Bran, Wheat, Fiber, Protein, Crunch, Corn, Nut, Rice and Other.\n",
    "\n",
    "**Question 8.** _(3 points)_\n",
    "* Create a stacked bar chart which shows how many of each type of cereal each manufacturer produces.\n",
    "\n",
    "**Question 9.** _(3 points)_\n",
    "* Create a 3-dimensional scatterplot which shows the relationship between rating and calories; the 3-rd dimension should be reflected in the color of the dots and should highlight whether the cereal is categorized as healthy or unhealthy.\n",
    "\n",
    "**Question 10.** _(1 point)_\n",
    "* Which shelf has the most healthy cereals?\n",
    "\n",
    "**Question 11.** _(1 point)_\n",
    "* Based on the analysis conducted, what can you conclude about the cereal data set?"
   ]
  },
  {
   "cell_type": "code",
   "execution_count": 268,
   "metadata": {
    "dotnet_interactive": {
     "language": "fsharp"
    },
    "vscode": {
     "languageId": "dotnet-interactive.fsharp"
    }
   },
   "outputs": [
    {
     "data": {
      "text/html": [
       "<div><div></div><div></div><div><strong>Installed Packages</strong><ul><li><span>Deedle.Interactive, 3.0.0-beta.1</span></li><li><span>FSharp.Stats, 0.4.9</span></li><li><span>Plotly.NET.Interactive, 3.0.2</span></li></ul></div></div>"
      ]
     },
     "metadata": {},
     "output_type": "display_data"
    }
   ],
   "source": [
    "#r \"nuget:Deedle.Interactive,3.0.0-beta.1\"\n",
    "#r \"nuget:FSharp.Stats\"\n",
    "#r \"nuget:Plotly.NET.Interactive\""
   ]
  },
  {
   "cell_type": "code",
   "execution_count": 269,
   "metadata": {
    "dotnet_interactive": {
     "language": "fsharp"
    },
    "vscode": {
     "languageId": "dotnet-interactive.fsharp"
    }
   },
   "outputs": [],
   "source": [
    "open Deedle\n",
    "open FSharp.Stats\n",
    "open Plotly.NET\n",
    "open FSharp.Stats.Fitting.LinearRegression"
   ]
  },
  {
   "cell_type": "code",
   "execution_count": 270,
   "metadata": {
    "dotnet_interactive": {
     "language": "fsharp"
    },
    "vscode": {
     "languageId": "dotnet-interactive.fsharp"
    }
   },
   "outputs": [],
   "source": [
    "let df = Frame.ReadCsv(\"cereal.csv\")"
   ]
  },
  {
   "cell_type": "code",
   "execution_count": 271,
   "metadata": {
    "dotnet_interactive": {
     "language": "fsharp"
    },
    "vscode": {
     "languageId": "dotnet-interactive.fsharp"
    }
   },
   "outputs": [
    {
     "data": {
      "text/html": [
       "<div>\r\n",
       "<style scoped>,\r\n",
       "  .dataframe tbody tr th:only-of-type {\r\n",
       "    vertical-align: middle;\r\n",
       "  }\r\n",
       "  .dataframe tbody tr th {,\r\n",
       "    vertical-align: top\r\n",
       "  }\r\n",
       "  .dataframe thead th {\r\n",
       "    text-align: right;\r\n",
       "  }\r\n",
       "  .no-wrap {\r\n",
       "    white-space: nowrap;\r\n",
       "  }\r\n",
       "</style>\r\n",
       "<table border='1' class='dataframe'>\r\n",
       "<thead><th></th><th></th><th>name</th><th>mfr</th><th>type</th><th>calories</th><th>protein</th><th>fat</th><th>sodium</th><th>fiber</th><th>carbo</th><th>sugars</th><th>potass</th><th>vitamins</th><th>shelf</th><th>weight</th><th>cups</th><th>rating</th></thead><thead><th></th><th></th><th>(string)</th><th>(string)</th><th>(string)</th><th>(int)</th><th>(int)</th><th>(int)</th><th>(int)</th><th>(Decimal)</th><th>(Decimal)</th><th>(int)</th><th>(int)</th><th>(int)</th><th>(int)</th><th>(Decimal)</th><th>(Decimal)</th><th>(Decimal)</th></thead>\r\n",
       "<tr><td><b>0</b></td><td class=\"no-wrap\">-></td><td>100% Bran</td><td>N</td><td>C</td><td>70</td><td>4</td><td>1</td><td>130</td><td>10</td><td>5</td><td>6</td><td>280</td><td>25</td><td>3</td><td>1</td><td>0.33</td><td>68.402973</td></tr><tr><td><b>1</b></td><td class=\"no-wrap\">-></td><td>100% Natural Bran</td><td>Q</td><td>C</td><td>120</td><td>3</td><td>5</td><td>15</td><td>2</td><td>8</td><td>8</td><td>135</td><td>0</td><td>3</td><td>1</td><td>1</td><td>33.983679</td></tr><tr><td><b>2</b></td><td class=\"no-wrap\">-></td><td>All-Bran</td><td>K</td><td>C</td><td>70</td><td>4</td><td>1</td><td>260</td><td>9</td><td>7</td><td>5</td><td>320</td><td>25</td><td>3</td><td>1</td><td>0.33</td><td>59.425505</td></tr><tr><td><b>3</b></td><td class=\"no-wrap\">-></td><td>All-Bran with Extra Fiber</td><td>K</td><td>C</td><td>50</td><td>4</td><td>0</td><td>140</td><td>14</td><td>8</td><td>0</td><td>330</td><td>25</td><td>3</td><td>1</td><td>0.5</td><td>93.704912</td></tr><tr><td><b>4</b></td><td class=\"no-wrap\">-></td><td>Almond Delight</td><td>R</td><td>C</td><td>110</td><td>2</td><td>2</td><td>200</td><td>1</td><td>14</td><td>8</td><td>-1</td><td>25</td><td>3</td><td>1</td><td>0.75</td><td>34.384843</td></tr><tr><td><b>:</b></td><td class=\"no-wrap\"></td><td>...</td><td>...</td><td>...</td><td>...</td><td>...</td><td>...</td><td>...</td><td>...</td><td>...</td><td>...</td><td>...</td><td>...</td><td>...</td><td>...</td><td>...</td><td>...</td></tr><tr><td><b>72</b></td><td class=\"no-wrap\">-></td><td>Triples</td><td>G</td><td>C</td><td>110</td><td>2</td><td>1</td><td>250</td><td>0</td><td>21</td><td>3</td><td>60</td><td>25</td><td>3</td><td>1</td><td>0.75</td><td>39.106174</td></tr><tr><td><b>73</b></td><td class=\"no-wrap\">-></td><td>Trix</td><td>G</td><td>C</td><td>110</td><td>1</td><td>1</td><td>140</td><td>0</td><td>13</td><td>12</td><td>25</td><td>25</td><td>2</td><td>1</td><td>1</td><td>27.753301</td></tr><tr><td><b>74</b></td><td class=\"no-wrap\">-></td><td>Wheat Chex</td><td>R</td><td>C</td><td>100</td><td>3</td><td>1</td><td>230</td><td>3</td><td>17</td><td>3</td><td>115</td><td>25</td><td>1</td><td>1</td><td>0.67</td><td>49.787445</td></tr><tr><td><b>75</b></td><td class=\"no-wrap\">-></td><td>Wheaties</td><td>G</td><td>C</td><td>100</td><td>3</td><td>1</td><td>200</td><td>3</td><td>17</td><td>3</td><td>110</td><td>25</td><td>1</td><td>1</td><td>1</td><td>51.592193</td></tr><tr><td><b>76</b></td><td class=\"no-wrap\">-></td><td>Wheaties Honey Gold</td><td>G</td><td>C</td><td>110</td><td>2</td><td>1</td><td>200</td><td>1</td><td>16</td><td>8</td><td>60</td><td>25</td><td>1</td><td>1</td><td>0.75</td><td>36.187559</td></tr>\r\n",
       "</table>\r\n",
       "<p><b>77</b> rows x <b>16</b> columns</p><p><b>0</b> missing values</p>\r\n",
       "</div>\r\n"
      ]
     },
     "metadata": {},
     "output_type": "display_data"
    }
   ],
   "source": [
    "df"
   ]
  },
  {
   "cell_type": "markdown",
   "metadata": {},
   "source": [
    "### Helpers"
   ]
  },
  {
   "cell_type": "code",
   "execution_count": 272,
   "metadata": {
    "dotnet_interactive": {
     "language": "fsharp"
    },
    "vscode": {
     "languageId": "dotnet-interactive.fsharp"
    }
   },
   "outputs": [],
   "source": [
    "// https://stackoverflow.com/a/74260934/977406\n",
    "\n",
    "let info (df: Deedle.Frame<'a,'b>) =\n",
    "    let dt = df.GetFrameData()\n",
    "    let countOptionalValues d =\n",
    "        d\n",
    "        |> Seq.filter (\n",
    "            function\n",
    "            | OptionalValue.Present _ -> true\n",
    "            | _ -> false\n",
    "        )\n",
    "        |> Seq.length\n",
    "\n",
    "    Seq.zip dt.ColumnKeys dt.Columns\n",
    "    |> Seq.map (fun (col, (ty, vec)) ->\n",
    "        {|\n",
    "            Column = col\n",
    "            ``Non-Null Count`` =\n",
    "                match vec.Data with\n",
    "                | Vectors.VectorData.DenseList d -> $\"%i{d |> Seq.length} non-null\"\n",
    "                | Vectors.VectorData.SparseList d -> $\"%i{d |> countOptionalValues} non-null\"\n",
    "                | Vectors.VectorData.Sequence d -> $\"%i{d |> countOptionalValues} non-null\"\n",
    "            Dtype = ty\n",
    "        |}\n",
    "    )\n",
    "\n",
    "let unique (col: string) (df: Deedle.Frame<'a, string>)=\n",
    "    df.GetColumn<string> col\n",
    "    |> Series.values\n",
    "    |> Seq.distinct\n",
    "    |> String.concat \", \"\n",
    "\n",
    "let describe (df: Frame<'a, 'b>) =\n",
    "    let describeable =\n",
    "        df.ColumnTypes\n",
    "        |> Seq.mapi (\n",
    "            fun i v ->\n",
    "                match v.Name with\n",
    "                | nameof System.Int32\n",
    "                | nameof System.Decimal\n",
    "                | nameof System.Double -> true\n",
    "                | _ -> false\n",
    "        )\n",
    "\n",
    "    let colNames =\n",
    "        Seq.zip df.ColumnKeys describeable\n",
    "        |> Seq.filter (fun (_, d) -> d)\n",
    "        |> Seq.map (fun (n, _) -> n)\n",
    "\n",
    "    Frame.ofRowsOrdinal (\n",
    "        colNames\n",
    "        |> Seq.map (fun c -> df.GetColumn<decimal> c |> Stats.describe) // TODO: can we add \"count\"? similar to pandas\n",
    "    )\n",
    "    |> Frame.transpose\n",
    "    |> Frame.indexColsWith colNames\n",
    "\n",
    "let mapAndReplaceCol n fn (df: Frame<'a, 'b>) =\n",
    "    df.ReplaceColumn (n, df[n] |> Series.map (fun i v -> v |> fn))\n",
    "\n",
    "let aggregateRowsBy grpBy rowsAggs df =\n",
    "    let rec aggRowsBy rowsAggs (aggDf: Frame<string,'a> option) =\n",
    "        match rowsAggs with\n",
    "        | [] ->\n",
    "            aggDf.Value // will throw an expecption if value is None\n",
    "        | (rowName, aggFn, aggName)::tail ->\n",
    "            let aggregatedDf =\n",
    "                df\n",
    "                |> Frame.aggregateRowsBy [grpBy] [rowName] aggFn\n",
    "                |> Frame.indexRowsString grpBy\n",
    "            aggregatedDf.RenameColumn(rowName,aggName)\n",
    "\n",
    "            match aggDf with\n",
    "            | None ->\n",
    "                aggregatedDf\n",
    "                |> Some\n",
    "                |> aggRowsBy tail\n",
    "            | Some aDf ->\n",
    "                aggregatedDf\n",
    "                |> Frame.join JoinKind.Left aDf\n",
    "                |> Some\n",
    "                |> aggRowsBy tail\n",
    "\n",
    "    aggRowsBy rowsAggs None\n",
    "\n",
    "let getColVector col (df: Frame<'a, 'b>) =\n",
    "    vector <| df.[col].Values\n",
    "\n",
    "let singleGroupLmplot yCol xCol valuesName df =\n",
    "    let y = df |> getColVector yCol\n",
    "    let x = df |> getColVector xCol\n",
    "\n",
    "    let coefs = OrdinaryLeastSquares.Linear.Univariable.coefficient x y\n",
    "    let fittinFunc x = OrdinaryLeastSquares.Linear.Univariable.fit coefs x\n",
    "    let xRange = [for i in Seq.min(x)..Seq.max(x) -> i]\n",
    "    let yPredicted = [for x in xRange -> fittinFunc x]\n",
    "\n",
    "    let xy = Seq.zip xRange yPredicted\n",
    "    [\n",
    "        Chart.Point(x, y, ShowLegend=true, Name=valuesName)\n",
    "        |> Chart.withXAxisStyle(TitleText=xCol)\n",
    "        |> Chart.withYAxisStyle(TitleText=yCol)\n",
    "\n",
    "        Chart.Line(xy, ShowLegend=true, Name=($\"Reg. {valuesName}\"))\n",
    "    ]\n",
    "    |> Chart.combine\n",
    "\n",
    "let filterByKey fn (df: Frame<'a, 'b>) =\n",
    "    df.Where(fun (KeyValue(k, _)) -> fn k)\n",
    "\n",
    "let lmplot xCol yCol hue df =\n",
    "    match hue with\n",
    "    | None ->\n",
    "        [ singleGroupLmplot xCol yCol ($\"{xCol} vs {yCol}\") df ]\n",
    "    | Some h ->\n",
    "        let groupedDf = df |> Frame.groupRowsByString h\n",
    "\n",
    "        groupedDf.RowKeys\n",
    "        |> Seq.map (fun (g, _) -> g)\n",
    "        |> Seq.distinct\n",
    "        |> List.ofSeq\n",
    "        |> List.map (fun k ->\n",
    "            groupedDf\n",
    "            |> filterByKey (fun (g, _) -> g = k)\n",
    "            |> singleGroupLmplot xCol yCol k\n",
    "        )\n",
    "    |> Chart.combine\n",
    "    |> Chart.withLegendStyle(Orientation=StyleParam.Orientation.Horizontal)"
   ]
  },
  {
   "cell_type": "code",
   "execution_count": 273,
   "metadata": {
    "dotnet_interactive": {
     "language": "fsharp"
    },
    "vscode": {
     "languageId": "dotnet-interactive.fsharp"
    }
   },
   "outputs": [
    {
     "data": {
      "text/html": [
       "<table><thead><tr><th><i>index</i></th><th>Column</th><th>Dtype</th><th>Non-Null Count</th></tr></thead><tbody><tr><td>0</td><td><div class=\"dni-plaintext\">[ name ]</div></td><td><span><a href=\"https://docs.microsoft.com/dotnet/api/system.string?view=net-5.0\">System.String</a></span></td><td>77 non-null</td></tr><tr><td>1</td><td><div class=\"dni-plaintext\">[ mfr ]</div></td><td><span><a href=\"https://docs.microsoft.com/dotnet/api/system.string?view=net-5.0\">System.String</a></span></td><td>77 non-null</td></tr><tr><td>2</td><td><div class=\"dni-plaintext\">[ type ]</div></td><td><span><a href=\"https://docs.microsoft.com/dotnet/api/system.string?view=net-5.0\">System.String</a></span></td><td>77 non-null</td></tr><tr><td>3</td><td><div class=\"dni-plaintext\">[ calories ]</div></td><td><span><a href=\"https://docs.microsoft.com/dotnet/api/system.int32?view=net-5.0\">System.Int32</a></span></td><td>77 non-null</td></tr><tr><td>4</td><td><div class=\"dni-plaintext\">[ protein ]</div></td><td><span><a href=\"https://docs.microsoft.com/dotnet/api/system.int32?view=net-5.0\">System.Int32</a></span></td><td>77 non-null</td></tr><tr><td>5</td><td><div class=\"dni-plaintext\">[ fat ]</div></td><td><span><a href=\"https://docs.microsoft.com/dotnet/api/system.int32?view=net-5.0\">System.Int32</a></span></td><td>77 non-null</td></tr><tr><td>6</td><td><div class=\"dni-plaintext\">[ sodium ]</div></td><td><span><a href=\"https://docs.microsoft.com/dotnet/api/system.int32?view=net-5.0\">System.Int32</a></span></td><td>77 non-null</td></tr><tr><td>7</td><td><div class=\"dni-plaintext\">[ fiber ]</div></td><td><span><a href=\"https://docs.microsoft.com/dotnet/api/system.decimal?view=net-5.0\">System.Decimal</a></span></td><td>77 non-null</td></tr><tr><td>8</td><td><div class=\"dni-plaintext\">[ carbo ]</div></td><td><span><a href=\"https://docs.microsoft.com/dotnet/api/system.decimal?view=net-5.0\">System.Decimal</a></span></td><td>77 non-null</td></tr><tr><td>9</td><td><div class=\"dni-plaintext\">[ sugars ]</div></td><td><span><a href=\"https://docs.microsoft.com/dotnet/api/system.int32?view=net-5.0\">System.Int32</a></span></td><td>77 non-null</td></tr><tr><td>10</td><td><div class=\"dni-plaintext\">[ potass ]</div></td><td><span><a href=\"https://docs.microsoft.com/dotnet/api/system.int32?view=net-5.0\">System.Int32</a></span></td><td>77 non-null</td></tr><tr><td>11</td><td><div class=\"dni-plaintext\">[ vitamins ]</div></td><td><span><a href=\"https://docs.microsoft.com/dotnet/api/system.int32?view=net-5.0\">System.Int32</a></span></td><td>77 non-null</td></tr><tr><td>12</td><td><div class=\"dni-plaintext\">[ shelf ]</div></td><td><span><a href=\"https://docs.microsoft.com/dotnet/api/system.int32?view=net-5.0\">System.Int32</a></span></td><td>77 non-null</td></tr><tr><td>13</td><td><div class=\"dni-plaintext\">[ weight ]</div></td><td><span><a href=\"https://docs.microsoft.com/dotnet/api/system.decimal?view=net-5.0\">System.Decimal</a></span></td><td>77 non-null</td></tr><tr><td>14</td><td><div class=\"dni-plaintext\">[ cups ]</div></td><td><span><a href=\"https://docs.microsoft.com/dotnet/api/system.decimal?view=net-5.0\">System.Decimal</a></span></td><td>77 non-null</td></tr><tr><td>15</td><td><div class=\"dni-plaintext\">[ rating ]</div></td><td><span><a href=\"https://docs.microsoft.com/dotnet/api/system.decimal?view=net-5.0\">System.Decimal</a></span></td><td>77 non-null</td></tr></tbody></table>"
      ]
     },
     "metadata": {},
     "output_type": "display_data"
    }
   ],
   "source": [
    "// make sure `name` doesn't have any missing values\n",
    "// we also see there are no missing values in any of the columns\n",
    "df |> info"
   ]
  },
  {
   "cell_type": "code",
   "execution_count": 274,
   "metadata": {
    "dotnet_interactive": {
     "language": "fsharp"
    },
    "vscode": {
     "languageId": "dotnet-interactive.fsharp"
    }
   },
   "outputs": [
    {
     "data": {
      "text/plain": [
       "100% Bran, 100% Natural Bran, All-Bran, All-Bran with Extra Fiber, Almond Delight, Apple Cinnamon Cheerios, Apple Jacks, Basic 4, Bran Chex, Bran Flakes, Cap'n'Crunch, Cheerios, Cinnamon Toast Crunch, Clusters, Cocoa Puffs, Corn Chex, Corn Flakes, Corn Pops, Count Chocula, Cracklin' Oat Bran, Cream of Wheat (Quick), Crispix, Crispy Wheat & Raisins, Double Chex, Froot Loops, Frosted Flakes, Frosted Mini-Wheats, Fruit & Fibre Dates; Walnuts; and Oats, Fruitful Bran, Fruity Pebbles, Golden Crisp, Golden Grahams, Grape Nuts Flakes, Grape-Nuts, Great Grains Pecan, Honey Graham Ohs, Honey Nut Cheerios, Honey-comb, Just Right Crunchy  Nuggets, Just Right Fruit & Nut, Kix, Life, Lucky Charms, Maypo, Muesli Raisins; Dates; & Almonds, Muesli Raisins; Peaches; & Pecans, Mueslix Crispy Blend, Multi-Grain Cheerios, Nut&Honey Crunch, Nutri-Grain Almond-Raisin, Nutri-grain Wheat, Oatmeal Raisin Crisp, Post Nat. Raisin Bran, Product 19, Puffed Rice, Puffed Wheat, Quaker Oat Squares, Quaker Oatmeal, Raisin Bran, Raisin Nut Bran, Raisin Squares, Rice Chex, Rice Krispies, Shredded Wheat, Shredded Wheat 'n'Bran, Shredded Wheat spoon size, Smacks, Special K, Strawberry Fruit Wheats, Total Corn Flakes, Total Raisin Bran, Total Whole Grain, Triples, Trix, Wheat Chex, Wheaties, Wheaties Honey Gold"
      ]
     },
     "metadata": {},
     "output_type": "display_data"
    }
   ],
   "source": [
    "df |> unique \"name\""
   ]
  },
  {
   "cell_type": "code",
   "execution_count": 275,
   "metadata": {
    "dotnet_interactive": {
     "language": "fsharp"
    },
    "vscode": {
     "languageId": "dotnet-interactive.fsharp"
    }
   },
   "outputs": [],
   "source": [
    "// Bran, Wheat, Fiber, Protein, Crunch, Corn, Nut, Rice and Other\n",
    "let nameToCategory (n: string) =\n",
    "    if (n.Contains \"Bran\") then \"Bran\"\n",
    "    else if (n.Contains \"Wheat\") then \"Wheat\"\n",
    "    else if (n.Contains \"Fiber\") then \"Fiber\"\n",
    "    else if (n.Contains \"Protein\") then \"Protein\"\n",
    "    else if (n.Contains \"Crunch\") then \"Crunch\"\n",
    "    else if (n.Contains \"Corn\") then \"Corn\"\n",
    "    else if (n.Contains \"Nut\") || (n.Contains \"Almond\") || (n.Contains \"Walnut\") || (n.Contains \"Pecan\") then \"Nut\"\n",
    "    else if (n.Contains \"Rice\") then \"Rice\"\n",
    "    else \"Other\""
   ]
  },
  {
   "cell_type": "code",
   "execution_count": 276,
   "metadata": {
    "dotnet_interactive": {
     "language": "fsharp"
    },
    "vscode": {
     "languageId": "dotnet-interactive.fsharp"
    }
   },
   "outputs": [
    {
     "data": {
      "text/html": [
       "<div>\r\n",
       "<style scoped>,\r\n",
       "  .series tbody tr th:only-of-type {\r\n",
       "vertical-align: middle;\r\n",
       "  }\r\n",
       "  .series tbody tr {,\r\n",
       "vertical-align: top\r\n",
       "  }\r\n",
       "  .no-wrap {\r\n",
       "white-space: nowrap;\r\n",
       "  }\r\n",
       "</style>\r\n",
       "<table border='1' class='series'>\r\n",
       "<tr><td><b>0</b></td><td class=\"no-wrap\">-></td><td>Bran</td></tr><tr><td><b>1</b></td><td class=\"no-wrap\">-></td><td>Bran</td></tr><tr><td><b>2</b></td><td class=\"no-wrap\">-></td><td>Bran</td></tr><tr><td><b>3</b></td><td class=\"no-wrap\">-></td><td>Bran</td></tr><tr><td><b>4</b></td><td class=\"no-wrap\">-></td><td>Nut</td></tr><tr><td><b>...</b></td><td class=\"no-wrap\">-></td><td>...</td></tr><tr><td><b>72</b></td><td class=\"no-wrap\">-></td><td>Other</td></tr><tr><td><b>73</b></td><td class=\"no-wrap\">-></td><td>Other</td></tr><tr><td><b>74</b></td><td class=\"no-wrap\">-></td><td>Wheat</td></tr><tr><td><b>75</b></td><td class=\"no-wrap\">-></td><td>Wheat</td></tr><tr><td><b>76</b></td><td class=\"no-wrap\">-></td><td>Wheat</td></tr>\r\n",
       "</table>\r\n",
       "<p>Series of <b>77</b> items<p><b>0</b> missing values</p>\r\n",
       "</div>\r\n"
      ]
     },
     "metadata": {},
     "output_type": "display_data"
    }
   ],
   "source": [
    "df.GetColumn<string>(\"name\")\n",
    "|> Series.mapValues nameToCategory"
   ]
  },
  {
   "cell_type": "code",
   "execution_count": 277,
   "metadata": {
    "dotnet_interactive": {
     "language": "fsharp"
    },
    "vscode": {
     "languageId": "dotnet-interactive.fsharp"
    }
   },
   "outputs": [],
   "source": [
    "(\n",
    "    \"Type of Cereal\",\n",
    "    df.GetColumn<string>(\"name\")\n",
    "    |> Series.mapValues nameToCategory\n",
    ")\n",
    "|> df.AddColumn"
   ]
  },
  {
   "cell_type": "code",
   "execution_count": 278,
   "metadata": {
    "dotnet_interactive": {
     "language": "fsharp"
    },
    "vscode": {
     "languageId": "dotnet-interactive.fsharp"
    }
   },
   "outputs": [
    {
     "data": {
      "text/html": [
       "<div>\r\n",
       "<style scoped>,\r\n",
       "  .dataframe tbody tr th:only-of-type {\r\n",
       "    vertical-align: middle;\r\n",
       "  }\r\n",
       "  .dataframe tbody tr th {,\r\n",
       "    vertical-align: top\r\n",
       "  }\r\n",
       "  .dataframe thead th {\r\n",
       "    text-align: right;\r\n",
       "  }\r\n",
       "  .no-wrap {\r\n",
       "    white-space: nowrap;\r\n",
       "  }\r\n",
       "</style>\r\n",
       "<table border='1' class='dataframe'>\r\n",
       "<thead><th></th><th></th><th>name</th><th>mfr</th><th>type</th><th>calories</th><th>protein</th><th>fat</th><th>sodium</th><th>fiber</th><th>carbo</th><th>sugars</th><th>potass</th><th>vitamins</th><th>shelf</th><th>weight</th><th>cups</th><th>rating</th><th>Type of Cereal</th></thead><thead><th></th><th></th><th>(string)</th><th>(string)</th><th>(string)</th><th>(int)</th><th>(int)</th><th>(int)</th><th>(int)</th><th>(Decimal)</th><th>(Decimal)</th><th>(int)</th><th>(int)</th><th>(int)</th><th>(int)</th><th>(Decimal)</th><th>(Decimal)</th><th>(Decimal)</th><th>(string)</th></thead>\r\n",
       "<tr><td><b>0</b></td><td class=\"no-wrap\">-></td><td>100% Bran</td><td>N</td><td>C</td><td>70</td><td>4</td><td>1</td><td>130</td><td>10</td><td>5</td><td>6</td><td>280</td><td>25</td><td>3</td><td>1</td><td>0.33</td><td>68.402973</td><td>Bran</td></tr><tr><td><b>1</b></td><td class=\"no-wrap\">-></td><td>100% Natural Bran</td><td>Q</td><td>C</td><td>120</td><td>3</td><td>5</td><td>15</td><td>2</td><td>8</td><td>8</td><td>135</td><td>0</td><td>3</td><td>1</td><td>1</td><td>33.983679</td><td>Bran</td></tr><tr><td><b>2</b></td><td class=\"no-wrap\">-></td><td>All-Bran</td><td>K</td><td>C</td><td>70</td><td>4</td><td>1</td><td>260</td><td>9</td><td>7</td><td>5</td><td>320</td><td>25</td><td>3</td><td>1</td><td>0.33</td><td>59.425505</td><td>Bran</td></tr><tr><td><b>3</b></td><td class=\"no-wrap\">-></td><td>All-Bran with Extra Fiber</td><td>K</td><td>C</td><td>50</td><td>4</td><td>0</td><td>140</td><td>14</td><td>8</td><td>0</td><td>330</td><td>25</td><td>3</td><td>1</td><td>0.5</td><td>93.704912</td><td>Bran</td></tr><tr><td><b>4</b></td><td class=\"no-wrap\">-></td><td>Almond Delight</td><td>R</td><td>C</td><td>110</td><td>2</td><td>2</td><td>200</td><td>1</td><td>14</td><td>8</td><td>-1</td><td>25</td><td>3</td><td>1</td><td>0.75</td><td>34.384843</td><td>Nut</td></tr><tr><td><b>:</b></td><td class=\"no-wrap\"></td><td>...</td><td>...</td><td>...</td><td>...</td><td>...</td><td>...</td><td>...</td><td>...</td><td>...</td><td>...</td><td>...</td><td>...</td><td>...</td><td>...</td><td>...</td><td>...</td><td>...</td></tr><tr><td><b>72</b></td><td class=\"no-wrap\">-></td><td>Triples</td><td>G</td><td>C</td><td>110</td><td>2</td><td>1</td><td>250</td><td>0</td><td>21</td><td>3</td><td>60</td><td>25</td><td>3</td><td>1</td><td>0.75</td><td>39.106174</td><td>Other</td></tr><tr><td><b>73</b></td><td class=\"no-wrap\">-></td><td>Trix</td><td>G</td><td>C</td><td>110</td><td>1</td><td>1</td><td>140</td><td>0</td><td>13</td><td>12</td><td>25</td><td>25</td><td>2</td><td>1</td><td>1</td><td>27.753301</td><td>Other</td></tr><tr><td><b>74</b></td><td class=\"no-wrap\">-></td><td>Wheat Chex</td><td>R</td><td>C</td><td>100</td><td>3</td><td>1</td><td>230</td><td>3</td><td>17</td><td>3</td><td>115</td><td>25</td><td>1</td><td>1</td><td>0.67</td><td>49.787445</td><td>Wheat</td></tr><tr><td><b>75</b></td><td class=\"no-wrap\">-></td><td>Wheaties</td><td>G</td><td>C</td><td>100</td><td>3</td><td>1</td><td>200</td><td>3</td><td>17</td><td>3</td><td>110</td><td>25</td><td>1</td><td>1</td><td>1</td><td>51.592193</td><td>Wheat</td></tr><tr><td><b>76</b></td><td class=\"no-wrap\">-></td><td>Wheaties Honey Gold</td><td>G</td><td>C</td><td>110</td><td>2</td><td>1</td><td>200</td><td>1</td><td>16</td><td>8</td><td>60</td><td>25</td><td>1</td><td>1</td><td>0.75</td><td>36.187559</td><td>Wheat</td></tr>\r\n",
       "</table>\r\n",
       "<p><b>77</b> rows x <b>17</b> columns</p><p><b>0</b> missing values</p>\r\n",
       "</div>\r\n"
      ]
     },
     "metadata": {},
     "output_type": "display_data"
    }
   ],
   "source": [
    "df"
   ]
  },
  {
   "cell_type": "code",
   "execution_count": 279,
   "metadata": {
    "dotnet_interactive": {
     "language": "fsharp"
    },
    "vscode": {
     "languageId": "dotnet-interactive.fsharp"
    }
   },
   "outputs": [
    {
     "data": {
      "text/plain": [
       "Bran, Nut, Other, Crunch, Corn, Wheat, Rice"
      ]
     },
     "metadata": {},
     "output_type": "display_data"
    }
   ],
   "source": [
    "// resulting categories\n",
    "df |> unique \"Type of Cereal\""
   ]
  },
  {
   "cell_type": "markdown",
   "metadata": {},
   "source": [
    "### **Question 2.**  _(2 points)_\n",
    "* Identify the negative values in the data set and replace them with the median value for that column."
   ]
  },
  {
   "cell_type": "code",
   "execution_count": 280,
   "metadata": {
    "dotnet_interactive": {
     "language": "fsharp"
    },
    "vscode": {
     "languageId": "dotnet-interactive.fsharp"
    }
   },
   "outputs": [
    {
     "data": {
      "text/html": [
       "<div>\r\n",
       "<style scoped>,\r\n",
       "  .dataframe tbody tr th:only-of-type {\r\n",
       "    vertical-align: middle;\r\n",
       "  }\r\n",
       "  .dataframe tbody tr th {,\r\n",
       "    vertical-align: top\r\n",
       "  }\r\n",
       "  .dataframe thead th {\r\n",
       "    text-align: right;\r\n",
       "  }\r\n",
       "  .no-wrap {\r\n",
       "    white-space: nowrap;\r\n",
       "  }\r\n",
       "</style>\r\n",
       "<table border='1' class='dataframe'>\r\n",
       "<thead><th></th><th></th><th>calories</th><th>protein</th><th>fat</th><th>sodium</th><th>fiber</th><th>carbo</th><th>sugars</th><th>potass</th><th>vitamins</th><th>shelf</th><th>weight</th><th>cups</th><th>rating</th></thead><thead><th></th><th></th><th>(float)</th><th>(float)</th><th>(float)</th><th>(float)</th><th>(float)</th><th>(float)</th><th>(float)</th><th>(float)</th><th>(float)</th><th>(float)</th><th>(float)</th><th>(float)</th><th>(float)</th></thead>\r\n",
       "<tr><td><b>unique</b></td><td class=\"no-wrap\">-></td><td>11</td><td>6</td><td>5</td><td>27</td><td>13</td><td>22</td><td>17</td><td>36</td><td>3</td><td>3</td><td>7</td><td>12</td><td>77</td></tr><tr><td><b>mean</b></td><td class=\"no-wrap\">-></td><td>106.88311688311688</td><td>2.5454545454545454</td><td>1.0129870129870129</td><td>159.67532467532467</td><td>2.1519480519480516</td><td>14.597402597402597</td><td>6.922077922077922</td><td>96.07792207792208</td><td>28.246753246753247</td><td>2.207792207792208</td><td>1.0296103896103894</td><td>0.8210389610389613</td><td>42.66570498701299</td></tr><tr><td><b>std</b></td><td class=\"no-wrap\">-></td><td>19.48411905682084</td><td>1.094789748445534</td><td>1.006472559480393</td><td>83.83229524009316</td><td>2.383363964387222</td><td>4.278956280325908</td><td>4.4448853924193585</td><td>71.28681250926212</td><td>22.342522500566307</td><td>0.832524100135788</td><td>0.15047679973689349</td><td>0.2327161384469134</td><td>14.047288743735223</td></tr><tr><td><b>min</b></td><td class=\"no-wrap\">-></td><td>50</td><td>1</td><td>0</td><td>0</td><td>0</td><td>-1</td><td>-1</td><td>-1</td><td>0</td><td>1</td><td>0.5</td><td>0.25</td><td>18.042851</td></tr><tr><td><b>0.25</b></td><td class=\"no-wrap\">-></td><td>100</td><td>2</td><td>0</td><td>130</td><td>1</td><td>12</td><td>3</td><td>40</td><td>25</td><td>1</td><td>1</td><td>0.67</td><td>33.174094</td></tr><tr><td><b>0.5</b></td><td class=\"no-wrap\">-></td><td>110</td><td>3</td><td>1</td><td>180</td><td>2</td><td>14</td><td>7</td><td>90</td><td>25</td><td>2</td><td>1</td><td>0.75</td><td>40.400208</td></tr><tr><td><b>0.75</b></td><td class=\"no-wrap\">-></td><td>110</td><td>3</td><td>2</td><td>210</td><td>3</td><td>17</td><td>11</td><td>120</td><td>25</td><td>3</td><td>1</td><td>1</td><td>50.828392</td></tr><tr><td><b>max</b></td><td class=\"no-wrap\">-></td><td>160</td><td>6</td><td>5</td><td>320</td><td>14</td><td>23</td><td>15</td><td>330</td><td>100</td><td>3</td><td>1.5</td><td>1.5</td><td>93.704912</td></tr>\r\n",
       "</table>\r\n",
       "<p><b>8</b> rows x <b>13</b> columns</p><p><b>0</b> missing values</p>\r\n",
       "</div>\r\n"
      ]
     },
     "metadata": {},
     "output_type": "display_data"
    }
   ],
   "source": [
    "// these 3 columns have negative values \"carbo, sugars and potass\"\n",
    "df |> describe"
   ]
  },
  {
   "cell_type": "code",
   "execution_count": 281,
   "metadata": {
    "dotnet_interactive": {
     "language": "fsharp"
    },
    "vscode": {
     "languageId": "dotnet-interactive.fsharp"
    }
   },
   "outputs": [],
   "source": [
    "let carboMean = df[\"carbo\"].Mean()\n",
    "let sugarsMean = df[\"sugars\"].Mean()\n",
    "let potassMean = df[\"potass\"].Mean()\n",
    "let replaceWithMean m v = if v < 0. then m else v\n",
    "\n",
    "df |> mapAndReplaceCol \"carbo\" (replaceWithMean carboMean)\n",
    "df |> mapAndReplaceCol \"sugars\" (replaceWithMean sugarsMean)\n",
    "df |> mapAndReplaceCol \"potass\" (replaceWithMean potassMean)"
   ]
  },
  {
   "cell_type": "code",
   "execution_count": 282,
   "metadata": {
    "dotnet_interactive": {
     "language": "fsharp"
    },
    "vscode": {
     "languageId": "dotnet-interactive.fsharp"
    }
   },
   "outputs": [
    {
     "data": {
      "text/html": [
       "<div>\r\n",
       "<style scoped>,\r\n",
       "  .dataframe tbody tr th:only-of-type {\r\n",
       "    vertical-align: middle;\r\n",
       "  }\r\n",
       "  .dataframe tbody tr th {,\r\n",
       "    vertical-align: top\r\n",
       "  }\r\n",
       "  .dataframe thead th {\r\n",
       "    text-align: right;\r\n",
       "  }\r\n",
       "  .no-wrap {\r\n",
       "    white-space: nowrap;\r\n",
       "  }\r\n",
       "</style>\r\n",
       "<table border='1' class='dataframe'>\r\n",
       "<thead><th></th><th></th><th>calories</th><th>protein</th><th>fat</th><th>sodium</th><th>fiber</th><th>vitamins</th><th>shelf</th><th>weight</th><th>cups</th><th>rating</th><th>carbo</th><th>sugars</th><th>potass</th></thead><thead><th></th><th></th><th>(float)</th><th>(float)</th><th>(float)</th><th>(float)</th><th>(float)</th><th>(float)</th><th>(float)</th><th>(float)</th><th>(float)</th><th>(float)</th><th>(float)</th><th>(float)</th><th>(float)</th></thead>\r\n",
       "<tr><td><b>unique</b></td><td class=\"no-wrap\">-></td><td>11</td><td>6</td><td>5</td><td>27</td><td>13</td><td>3</td><td>3</td><td>7</td><td>12</td><td>77</td><td>22</td><td>17</td><td>36</td></tr><tr><td><b>mean</b></td><td class=\"no-wrap\">-></td><td>106.88311688311688</td><td>2.5454545454545454</td><td>1.0129870129870129</td><td>159.67532467532467</td><td>2.1519480519480516</td><td>28.246753246753247</td><td>2.207792207792208</td><td>1.0296103896103894</td><td>0.8210389610389613</td><td>42.66570498701299</td><td>14.799966267498736</td><td>7.024962050936077</td><td>98.5994265474785</td></tr><tr><td><b>std</b></td><td class=\"no-wrap\">-></td><td>19.48411905682084</td><td>1.094789748445534</td><td>1.006472559480393</td><td>83.83229524009316</td><td>2.383363964387222</td><td>22.342522500566307</td><td>0.832524100135788</td><td>0.15047679973689349</td><td>0.2327161384469134</td><td>14.047288743735223</td><td>3.8816048051572682</td><td>4.349770249291506</td><td>69.47923977411571</td></tr><tr><td><b>min</b></td><td class=\"no-wrap\">-></td><td>50</td><td>1</td><td>0</td><td>0</td><td>0</td><td>0</td><td>1</td><td>0.5</td><td>0.25</td><td>18.042851</td><td>5</td><td>0</td><td>15</td></tr><tr><td><b>0.25</b></td><td class=\"no-wrap\">-></td><td>100</td><td>2</td><td>0</td><td>130</td><td>1</td><td>25</td><td>1</td><td>1</td><td>0.67</td><td>33.174094</td><td>12</td><td>3</td><td>45</td></tr><tr><td><b>0.5</b></td><td class=\"no-wrap\">-></td><td>110</td><td>3</td><td>1</td><td>180</td><td>2</td><td>25</td><td>2</td><td>1</td><td>0.75</td><td>40.400208</td><td>14.5974025974026</td><td>7</td><td>90</td></tr><tr><td><b>0.75</b></td><td class=\"no-wrap\">-></td><td>110</td><td>3</td><td>2</td><td>210</td><td>3</td><td>25</td><td>3</td><td>1</td><td>1</td><td>50.828392</td><td>17</td><td>11</td><td>120</td></tr><tr><td><b>max</b></td><td class=\"no-wrap\">-></td><td>160</td><td>6</td><td>5</td><td>320</td><td>14</td><td>100</td><td>3</td><td>1.5</td><td>1.5</td><td>93.704912</td><td>23</td><td>15</td><td>330</td></tr>\r\n",
       "</table>\r\n",
       "<p><b>8</b> rows x <b>13</b> columns</p><p><b>0</b> missing values</p>\r\n",
       "</div>\r\n"
      ]
     },
     "metadata": {},
     "output_type": "display_data"
    }
   ],
   "source": [
    "df |> describe"
   ]
  },
  {
   "cell_type": "markdown",
   "metadata": {},
   "source": [
    "### **Question 3.** _(5 points)_\n",
    "* Standardize the 'weight' column to 1. For this question, you will need to write a function to divide the remaining columns which contain nutritional information by the corresponding value in the weight column, and you will need to divide the value in the weight column by itself in order to get 1. For example, if an observation has a weight value of 1.33 and a calories value of 250, if you divide 250/1.33 you should get a calories value of 188 and a weight value of 1."
   ]
  },
  {
   "cell_type": "code",
   "execution_count": 283,
   "metadata": {
    "dotnet_interactive": {
     "language": "fsharp"
    },
    "vscode": {
     "languageId": "dotnet-interactive.fsharp"
    }
   },
   "outputs": [
    {
     "data": {
      "text/html": [
       "<div>\r\n",
       "<style scoped>,\r\n",
       "  .dataframe tbody tr th:only-of-type {\r\n",
       "    vertical-align: middle;\r\n",
       "  }\r\n",
       "  .dataframe tbody tr th {,\r\n",
       "    vertical-align: top\r\n",
       "  }\r\n",
       "  .dataframe thead th {\r\n",
       "    text-align: right;\r\n",
       "  }\r\n",
       "  .no-wrap {\r\n",
       "    white-space: nowrap;\r\n",
       "  }\r\n",
       "</style>\r\n",
       "<table border='1' class='dataframe'>\r\n",
       "<thead><th></th><th></th><th>name</th><th>mfr</th><th>type</th><th>calories</th><th>protein</th><th>fat</th><th>sodium</th><th>fiber</th><th>vitamins</th><th>shelf</th><th>weight</th><th>cups</th><th>rating</th><th>Type of Cereal</th><th>carbo</th><th>sugars</th><th>potass</th></thead><thead><th></th><th></th><th>(string)</th><th>(string)</th><th>(string)</th><th>(int)</th><th>(int)</th><th>(int)</th><th>(int)</th><th>(Decimal)</th><th>(int)</th><th>(int)</th><th>(Decimal)</th><th>(Decimal)</th><th>(Decimal)</th><th>(string)</th><th>(float)</th><th>(float)</th><th>(float)</th></thead>\r\n",
       "<tr><td><b>0</b></td><td class=\"no-wrap\">-></td><td>100% Bran</td><td>N</td><td>C</td><td>70</td><td>4</td><td>1</td><td>130</td><td>10</td><td>25</td><td>3</td><td>1</td><td>0.33</td><td>68.402973</td><td>Bran</td><td>5</td><td>6</td><td>280</td></tr><tr><td><b>1</b></td><td class=\"no-wrap\">-></td><td>100% Natural Bran</td><td>Q</td><td>C</td><td>120</td><td>3</td><td>5</td><td>15</td><td>2</td><td>0</td><td>3</td><td>1</td><td>1</td><td>33.983679</td><td>Bran</td><td>8</td><td>8</td><td>135</td></tr><tr><td><b>2</b></td><td class=\"no-wrap\">-></td><td>All-Bran</td><td>K</td><td>C</td><td>70</td><td>4</td><td>1</td><td>260</td><td>9</td><td>25</td><td>3</td><td>1</td><td>0.33</td><td>59.425505</td><td>Bran</td><td>7</td><td>5</td><td>320</td></tr><tr><td><b>3</b></td><td class=\"no-wrap\">-></td><td>All-Bran with Extra Fiber</td><td>K</td><td>C</td><td>50</td><td>4</td><td>0</td><td>140</td><td>14</td><td>25</td><td>3</td><td>1</td><td>0.5</td><td>93.704912</td><td>Bran</td><td>8</td><td>0</td><td>330</td></tr><tr><td><b>4</b></td><td class=\"no-wrap\">-></td><td>Almond Delight</td><td>R</td><td>C</td><td>110</td><td>2</td><td>2</td><td>200</td><td>1</td><td>25</td><td>3</td><td>1</td><td>0.75</td><td>34.384843</td><td>Nut</td><td>14</td><td>8</td><td>96.07792207792208</td></tr><tr><td><b>:</b></td><td class=\"no-wrap\"></td><td>...</td><td>...</td><td>...</td><td>...</td><td>...</td><td>...</td><td>...</td><td>...</td><td>...</td><td>...</td><td>...</td><td>...</td><td>...</td><td>...</td><td>...</td><td>...</td><td>...</td></tr><tr><td><b>72</b></td><td class=\"no-wrap\">-></td><td>Triples</td><td>G</td><td>C</td><td>110</td><td>2</td><td>1</td><td>250</td><td>0</td><td>25</td><td>3</td><td>1</td><td>0.75</td><td>39.106174</td><td>Other</td><td>21</td><td>3</td><td>60</td></tr><tr><td><b>73</b></td><td class=\"no-wrap\">-></td><td>Trix</td><td>G</td><td>C</td><td>110</td><td>1</td><td>1</td><td>140</td><td>0</td><td>25</td><td>2</td><td>1</td><td>1</td><td>27.753301</td><td>Other</td><td>13</td><td>12</td><td>25</td></tr><tr><td><b>74</b></td><td class=\"no-wrap\">-></td><td>Wheat Chex</td><td>R</td><td>C</td><td>100</td><td>3</td><td>1</td><td>230</td><td>3</td><td>25</td><td>1</td><td>1</td><td>0.67</td><td>49.787445</td><td>Wheat</td><td>17</td><td>3</td><td>115</td></tr><tr><td><b>75</b></td><td class=\"no-wrap\">-></td><td>Wheaties</td><td>G</td><td>C</td><td>100</td><td>3</td><td>1</td><td>200</td><td>3</td><td>25</td><td>1</td><td>1</td><td>1</td><td>51.592193</td><td>Wheat</td><td>17</td><td>3</td><td>110</td></tr><tr><td><b>76</b></td><td class=\"no-wrap\">-></td><td>Wheaties Honey Gold</td><td>G</td><td>C</td><td>110</td><td>2</td><td>1</td><td>200</td><td>1</td><td>25</td><td>1</td><td>1</td><td>0.75</td><td>36.187559</td><td>Wheat</td><td>16</td><td>8</td><td>60</td></tr>\r\n",
       "</table>\r\n",
       "<p><b>77</b> rows x <b>17</b> columns</p><p><b>0</b> missing values</p>\r\n",
       "</div>\r\n"
      ]
     },
     "metadata": {},
     "output_type": "display_data"
    }
   ],
   "source": [
    "df"
   ]
  },
  {
   "cell_type": "code",
   "execution_count": 284,
   "metadata": {
    "dotnet_interactive": {
     "language": "fsharp"
    },
    "vscode": {
     "languageId": "dotnet-interactive.fsharp"
    }
   },
   "outputs": [
    {
     "data": {
      "text/html": [
       "<div>\r\n",
       "<style scoped>,\r\n",
       "  .series tbody tr th:only-of-type {\r\n",
       "vertical-align: middle;\r\n",
       "  }\r\n",
       "  .series tbody tr {,\r\n",
       "vertical-align: top\r\n",
       "  }\r\n",
       "  .no-wrap {\r\n",
       "white-space: nowrap;\r\n",
       "  }\r\n",
       "</style>\r\n",
       "<table border='1' class='series'>\r\n",
       "<tr><td><b>7</b></td><td class=\"no-wrap\">-></td><td>1.33</td></tr><tr><td><b>27</b></td><td class=\"no-wrap\">-></td><td>1.25</td></tr><tr><td><b>28</b></td><td class=\"no-wrap\">-></td><td>1.33</td></tr><tr><td><b>39</b></td><td class=\"no-wrap\">-></td><td>1.3</td></tr><tr><td><b>46</b></td><td class=\"no-wrap\">-></td><td>1.5</td></tr><tr><td><b>...</b></td><td class=\"no-wrap\">-></td><td>...</td></tr><tr><td><b>54</b></td><td class=\"no-wrap\">-></td><td>0.5</td></tr><tr><td><b>55</b></td><td class=\"no-wrap\">-></td><td>0.5</td></tr><tr><td><b>58</b></td><td class=\"no-wrap\">-></td><td>1.33</td></tr><tr><td><b>63</b></td><td class=\"no-wrap\">-></td><td>0.83</td></tr><tr><td><b>70</b></td><td class=\"no-wrap\">-></td><td>1.5</td></tr>\r\n",
       "</table>\r\n",
       "<p>Series of <b>13</b> items<p><b>0</b> missing values</p>\r\n",
       "</div>\r\n"
      ]
     },
     "metadata": {},
     "output_type": "display_data"
    }
   ],
   "source": [
    "df\n",
    "|> Frame.filterRows(fun _ r -> r?weight <> 1.)\n",
    "|> fun f -> f?weight"
   ]
  },
  {
   "cell_type": "code",
   "execution_count": 285,
   "metadata": {
    "dotnet_interactive": {
     "language": "fsharp"
    },
    "vscode": {
     "languageId": "dotnet-interactive.fsharp"
    }
   },
   "outputs": [
    {
     "data": {
      "text/html": [
       "<div>\r\n",
       "<style scoped>,\r\n",
       "  .series tbody tr th:only-of-type {\r\n",
       "vertical-align: middle;\r\n",
       "  }\r\n",
       "  .series tbody tr {,\r\n",
       "vertical-align: top\r\n",
       "  }\r\n",
       "  .no-wrap {\r\n",
       "white-space: nowrap;\r\n",
       "  }\r\n",
       "</style>\r\n",
       "<table border='1' class='series'>\r\n",
       "<tr><td><b>calories</b></td><td class=\"no-wrap\">-></td><td>130</td></tr><tr><td><b>weight</b></td><td class=\"no-wrap\">-></td><td>1.33</td></tr>\r\n",
       "</table>\r\n",
       "<p>Series of <b>2</b> items<p><b>0</b> missing values</p>\r\n",
       "</div>\r\n"
      ]
     },
     "metadata": {},
     "output_type": "display_data"
    }
   ],
   "source": [
    "// index 7 has weight of 1.33 and 130 calories.\n",
    "df\n",
    "|> Frame.filterCols (fun k _ -> List.contains k [\"calories\"; \"weight\"])\n",
    "|> Frame.rows\n",
    "|> Series.getAt 7"
   ]
  },
  {
   "cell_type": "code",
   "execution_count": 286,
   "metadata": {
    "dotnet_interactive": {
     "language": "fsharp"
    },
    "vscode": {
     "languageId": "dotnet-interactive.fsharp"
    }
   },
   "outputs": [
    {
     "data": {
      "text/html": [
       "<div class=\"dni-plaintext\">97.74436090225564</div>"
      ]
     },
     "metadata": {},
     "output_type": "display_data"
    }
   ],
   "source": [
    "(df[\"calories\"] / df[\"weight\"])\n",
    "|> Series.getAt 7"
   ]
  },
  {
   "cell_type": "code",
   "execution_count": 287,
   "metadata": {
    "dotnet_interactive": {
     "language": "fsharp"
    },
    "vscode": {
     "languageId": "dotnet-interactive.fsharp"
    }
   },
   "outputs": [],
   "source": [
    "// normalize by weight\n",
    "df.ReplaceColumn (\"calories\", df[\"calories\"] / df[\"weight\"])\n",
    "df.ReplaceColumn (\"protein\", df[\"protein\"] / df[\"weight\"])\n",
    "df.ReplaceColumn (\"fat\", df[\"fat\"] / df[\"weight\"])\n",
    "df.ReplaceColumn (\"sodium\", df[\"sodium\"] / df[\"weight\"])\n",
    "df.ReplaceColumn (\"fiber\", df[\"fiber\"] / df[\"weight\"])\n",
    "df.ReplaceColumn (\"carbo\", df[\"carbo\"] / df[\"weight\"])\n",
    "df.ReplaceColumn (\"sugars\", df[\"sugars\"] / df[\"weight\"])\n",
    "df.ReplaceColumn (\"potass\", df[\"potass\"] / df[\"weight\"])\n",
    "df.ReplaceColumn (\"vitamins\", df[\"vitamins\"] / df[\"weight\"])\n",
    "df.ReplaceColumn (\"cups\", df[\"cups\"] / df[\"weight\"])"
   ]
  },
  {
   "cell_type": "code",
   "execution_count": 288,
   "metadata": {
    "dotnet_interactive": {
     "language": "fsharp"
    },
    "vscode": {
     "languageId": "dotnet-interactive.fsharp"
    }
   },
   "outputs": [
    {
     "data": {
      "text/html": [
       "<table><thead><tr><th>Item1</th><th>Item2</th></tr></thead><tbody><tr><td><div class=\"dni-plaintext\">97.74436090225564</div></td><td><div class=\"dni-plaintext\">1.33</div></td></tr></tbody></table>"
      ]
     },
     "metadata": {},
     "output_type": "display_data"
    }
   ],
   "source": [
    "df\n",
    "|> Frame.rows\n",
    "|> Series.getAt 7\n",
    "|> fun s -> s?calories, s?weight"
   ]
  },
  {
   "cell_type": "code",
   "execution_count": 289,
   "metadata": {
    "dotnet_interactive": {
     "language": "fsharp"
    },
    "vscode": {
     "languageId": "dotnet-interactive.fsharp"
    }
   },
   "outputs": [],
   "source": [
    "// # override weight to be 1 for all entries\n",
    "df |> mapAndReplaceCol \"weight\" (fun v -> 1)"
   ]
  },
  {
   "cell_type": "code",
   "execution_count": 290,
   "metadata": {
    "dotnet_interactive": {
     "language": "fsharp"
    },
    "vscode": {
     "languageId": "dotnet-interactive.fsharp"
    }
   },
   "outputs": [
    {
     "data": {
      "text/html": [
       "<table><thead><tr><th>Item1</th><th>Item2</th></tr></thead><tbody><tr><td><div class=\"dni-plaintext\">97.74436090225564</div></td><td><div class=\"dni-plaintext\">1</div></td></tr></tbody></table>"
      ]
     },
     "metadata": {},
     "output_type": "display_data"
    }
   ],
   "source": [
    "// # index 7 now has weight of 1 and correct calories.\n",
    "df\n",
    "|> Frame.rows\n",
    "|> Series.getAt 7\n",
    "|> fun s -> s?calories, s?weight"
   ]
  },
  {
   "cell_type": "markdown",
   "metadata": {},
   "source": [
    "### **Question 4.**  _(5 points)_\n",
    "* Create a new column to categorize cereals as 'healthy' vs. 'unhealthy'. You can define your own version of healthy vs. unhealthy, or you can use the following: healthy cereals can be defined as those which have low calories (<100), low sodium (<150), low sugar (<9) high fiber (>3), and high protein (>2). All other cereals are unhealthy."
   ]
  },
  {
   "cell_type": "code",
   "execution_count": 291,
   "metadata": {
    "dotnet_interactive": {
     "language": "fsharp"
    },
    "vscode": {
     "languageId": "dotnet-interactive.fsharp"
    }
   },
   "outputs": [
    {
     "data": {
      "text/html": [
       "<div>\r\n",
       "<style scoped>,\r\n",
       "  .dataframe tbody tr th:only-of-type {\r\n",
       "    vertical-align: middle;\r\n",
       "  }\r\n",
       "  .dataframe tbody tr th {,\r\n",
       "    vertical-align: top\r\n",
       "  }\r\n",
       "  .dataframe thead th {\r\n",
       "    text-align: right;\r\n",
       "  }\r\n",
       "  .no-wrap {\r\n",
       "    white-space: nowrap;\r\n",
       "  }\r\n",
       "</style>\r\n",
       "<table border='1' class='dataframe'>\r\n",
       "<thead><th></th><th></th><th>name</th><th>mfr</th><th>type</th><th>shelf</th><th>rating</th><th>Type of Cereal</th><th>calories</th><th>protein</th><th>fat</th><th>sodium</th><th>fiber</th><th>carbo</th><th>sugars</th><th>potass</th><th>vitamins</th><th>cups</th><th>weight</th></thead><thead><th></th><th></th><th>(string)</th><th>(string)</th><th>(string)</th><th>(int)</th><th>(Decimal)</th><th>(string)</th><th>(float)</th><th>(float)</th><th>(float)</th><th>(float)</th><th>(float)</th><th>(float)</th><th>(float)</th><th>(float)</th><th>(float)</th><th>(float)</th><th>(int)</th></thead>\r\n",
       "<tr><td><b>0</b></td><td class=\"no-wrap\">-></td><td>100% Bran</td><td>N</td><td>C</td><td>3</td><td>68.402973</td><td>Bran</td><td>70</td><td>4</td><td>1</td><td>130</td><td>10</td><td>5</td><td>6</td><td>280</td><td>25</td><td>0.33</td><td>1</td></tr><tr><td><b>1</b></td><td class=\"no-wrap\">-></td><td>100% Natural Bran</td><td>Q</td><td>C</td><td>3</td><td>33.983679</td><td>Bran</td><td>120</td><td>3</td><td>5</td><td>15</td><td>2</td><td>8</td><td>8</td><td>135</td><td>0</td><td>1</td><td>1</td></tr><tr><td><b>2</b></td><td class=\"no-wrap\">-></td><td>All-Bran</td><td>K</td><td>C</td><td>3</td><td>59.425505</td><td>Bran</td><td>70</td><td>4</td><td>1</td><td>260</td><td>9</td><td>7</td><td>5</td><td>320</td><td>25</td><td>0.33</td><td>1</td></tr><tr><td><b>3</b></td><td class=\"no-wrap\">-></td><td>All-Bran with Extra Fiber</td><td>K</td><td>C</td><td>3</td><td>93.704912</td><td>Bran</td><td>50</td><td>4</td><td>0</td><td>140</td><td>14</td><td>8</td><td>0</td><td>330</td><td>25</td><td>0.5</td><td>1</td></tr><tr><td><b>4</b></td><td class=\"no-wrap\">-></td><td>Almond Delight</td><td>R</td><td>C</td><td>3</td><td>34.384843</td><td>Nut</td><td>110</td><td>2</td><td>2</td><td>200</td><td>1</td><td>14</td><td>8</td><td>96.07792207792208</td><td>25</td><td>0.75</td><td>1</td></tr><tr><td><b>:</b></td><td class=\"no-wrap\"></td><td>...</td><td>...</td><td>...</td><td>...</td><td>...</td><td>...</td><td>...</td><td>...</td><td>...</td><td>...</td><td>...</td><td>...</td><td>...</td><td>...</td><td>...</td><td>...</td><td>...</td></tr><tr><td><b>72</b></td><td class=\"no-wrap\">-></td><td>Triples</td><td>G</td><td>C</td><td>3</td><td>39.106174</td><td>Other</td><td>110</td><td>2</td><td>1</td><td>250</td><td>0</td><td>21</td><td>3</td><td>60</td><td>25</td><td>0.75</td><td>1</td></tr><tr><td><b>73</b></td><td class=\"no-wrap\">-></td><td>Trix</td><td>G</td><td>C</td><td>2</td><td>27.753301</td><td>Other</td><td>110</td><td>1</td><td>1</td><td>140</td><td>0</td><td>13</td><td>12</td><td>25</td><td>25</td><td>1</td><td>1</td></tr><tr><td><b>74</b></td><td class=\"no-wrap\">-></td><td>Wheat Chex</td><td>R</td><td>C</td><td>1</td><td>49.787445</td><td>Wheat</td><td>100</td><td>3</td><td>1</td><td>230</td><td>3</td><td>17</td><td>3</td><td>115</td><td>25</td><td>0.67</td><td>1</td></tr><tr><td><b>75</b></td><td class=\"no-wrap\">-></td><td>Wheaties</td><td>G</td><td>C</td><td>1</td><td>51.592193</td><td>Wheat</td><td>100</td><td>3</td><td>1</td><td>200</td><td>3</td><td>17</td><td>3</td><td>110</td><td>25</td><td>1</td><td>1</td></tr><tr><td><b>76</b></td><td class=\"no-wrap\">-></td><td>Wheaties Honey Gold</td><td>G</td><td>C</td><td>1</td><td>36.187559</td><td>Wheat</td><td>110</td><td>2</td><td>1</td><td>200</td><td>1</td><td>16</td><td>8</td><td>60</td><td>25</td><td>0.75</td><td>1</td></tr>\r\n",
       "</table>\r\n",
       "<p><b>77</b> rows x <b>17</b> columns</p><p><b>0</b> missing values</p>\r\n",
       "</div>\r\n"
      ]
     },
     "metadata": {},
     "output_type": "display_data"
    }
   ],
   "source": [
    "df"
   ]
  },
  {
   "cell_type": "code",
   "execution_count": 292,
   "metadata": {
    "dotnet_interactive": {
     "language": "fsharp"
    },
    "vscode": {
     "languageId": "dotnet-interactive.fsharp"
    }
   },
   "outputs": [],
   "source": [
    "// low calories (<100), low sodium (<150), low sugar (<9) high fiber (>3), and high protein (>2)\n",
    "(\n",
    "    \"healthiness\",\n",
    "    df\n",
    "    |> Frame.mapRows (\n",
    "        fun k r -> \n",
    "            if\n",
    "                r?calories < 100 &&\n",
    "                r?sodium < 150 &&\n",
    "                r?sugars < 9 &&\n",
    "                r?fiber > 3 &&\n",
    "                r?protein > 2\n",
    "            then\n",
    "                \"healthy\"\n",
    "            else\n",
    "                \"unhealthy\"\n",
    "    )\n",
    ")\n",
    "|> df.AddColumn"
   ]
  },
  {
   "cell_type": "code",
   "execution_count": 293,
   "metadata": {
    "dotnet_interactive": {
     "language": "fsharp"
    },
    "vscode": {
     "languageId": "dotnet-interactive.fsharp"
    }
   },
   "outputs": [
    {
     "data": {
      "text/html": [
       "<div>\r\n",
       "<style scoped>,\r\n",
       "  .dataframe tbody tr th:only-of-type {\r\n",
       "    vertical-align: middle;\r\n",
       "  }\r\n",
       "  .dataframe tbody tr th {,\r\n",
       "    vertical-align: top\r\n",
       "  }\r\n",
       "  .dataframe thead th {\r\n",
       "    text-align: right;\r\n",
       "  }\r\n",
       "  .no-wrap {\r\n",
       "    white-space: nowrap;\r\n",
       "  }\r\n",
       "</style>\r\n",
       "<table border='1' class='dataframe'>\r\n",
       "<thead><th></th><th></th><th>name</th><th>mfr</th><th>type</th><th>shelf</th><th>rating</th><th>Type of Cereal</th><th>calories</th><th>protein</th><th>fat</th><th>sodium</th><th>fiber</th><th>carbo</th><th>sugars</th><th>potass</th><th>vitamins</th><th>cups</th><th>weight</th><th>healthiness</th></thead><thead><th></th><th></th><th>(string)</th><th>(string)</th><th>(string)</th><th>(int)</th><th>(Decimal)</th><th>(string)</th><th>(float)</th><th>(float)</th><th>(float)</th><th>(float)</th><th>(float)</th><th>(float)</th><th>(float)</th><th>(float)</th><th>(float)</th><th>(float)</th><th>(int)</th><th>(string)</th></thead>\r\n",
       "<tr><td><b>0</b></td><td class=\"no-wrap\">-></td><td>100% Bran</td><td>N</td><td>C</td><td>3</td><td>68.402973</td><td>Bran</td><td>70</td><td>4</td><td>1</td><td>130</td><td>10</td><td>5</td><td>6</td><td>280</td><td>25</td><td>0.33</td><td>1</td><td>healthy</td></tr><tr><td><b>1</b></td><td class=\"no-wrap\">-></td><td>100% Natural Bran</td><td>Q</td><td>C</td><td>3</td><td>33.983679</td><td>Bran</td><td>120</td><td>3</td><td>5</td><td>15</td><td>2</td><td>8</td><td>8</td><td>135</td><td>0</td><td>1</td><td>1</td><td>unhealthy</td></tr><tr><td><b>2</b></td><td class=\"no-wrap\">-></td><td>All-Bran</td><td>K</td><td>C</td><td>3</td><td>59.425505</td><td>Bran</td><td>70</td><td>4</td><td>1</td><td>260</td><td>9</td><td>7</td><td>5</td><td>320</td><td>25</td><td>0.33</td><td>1</td><td>unhealthy</td></tr><tr><td><b>3</b></td><td class=\"no-wrap\">-></td><td>All-Bran with Extra Fiber</td><td>K</td><td>C</td><td>3</td><td>93.704912</td><td>Bran</td><td>50</td><td>4</td><td>0</td><td>140</td><td>14</td><td>8</td><td>0</td><td>330</td><td>25</td><td>0.5</td><td>1</td><td>healthy</td></tr><tr><td><b>4</b></td><td class=\"no-wrap\">-></td><td>Almond Delight</td><td>R</td><td>C</td><td>3</td><td>34.384843</td><td>Nut</td><td>110</td><td>2</td><td>2</td><td>200</td><td>1</td><td>14</td><td>8</td><td>96.07792207792208</td><td>25</td><td>0.75</td><td>1</td><td>unhealthy</td></tr><tr><td><b>:</b></td><td class=\"no-wrap\"></td><td>...</td><td>...</td><td>...</td><td>...</td><td>...</td><td>...</td><td>...</td><td>...</td><td>...</td><td>...</td><td>...</td><td>...</td><td>...</td><td>...</td><td>...</td><td>...</td><td>...</td><td>...</td></tr><tr><td><b>72</b></td><td class=\"no-wrap\">-></td><td>Triples</td><td>G</td><td>C</td><td>3</td><td>39.106174</td><td>Other</td><td>110</td><td>2</td><td>1</td><td>250</td><td>0</td><td>21</td><td>3</td><td>60</td><td>25</td><td>0.75</td><td>1</td><td>unhealthy</td></tr><tr><td><b>73</b></td><td class=\"no-wrap\">-></td><td>Trix</td><td>G</td><td>C</td><td>2</td><td>27.753301</td><td>Other</td><td>110</td><td>1</td><td>1</td><td>140</td><td>0</td><td>13</td><td>12</td><td>25</td><td>25</td><td>1</td><td>1</td><td>unhealthy</td></tr><tr><td><b>74</b></td><td class=\"no-wrap\">-></td><td>Wheat Chex</td><td>R</td><td>C</td><td>1</td><td>49.787445</td><td>Wheat</td><td>100</td><td>3</td><td>1</td><td>230</td><td>3</td><td>17</td><td>3</td><td>115</td><td>25</td><td>0.67</td><td>1</td><td>unhealthy</td></tr><tr><td><b>75</b></td><td class=\"no-wrap\">-></td><td>Wheaties</td><td>G</td><td>C</td><td>1</td><td>51.592193</td><td>Wheat</td><td>100</td><td>3</td><td>1</td><td>200</td><td>3</td><td>17</td><td>3</td><td>110</td><td>25</td><td>1</td><td>1</td><td>unhealthy</td></tr><tr><td><b>76</b></td><td class=\"no-wrap\">-></td><td>Wheaties Honey Gold</td><td>G</td><td>C</td><td>1</td><td>36.187559</td><td>Wheat</td><td>110</td><td>2</td><td>1</td><td>200</td><td>1</td><td>16</td><td>8</td><td>60</td><td>25</td><td>0.75</td><td>1</td><td>unhealthy</td></tr>\r\n",
       "</table>\r\n",
       "<p><b>77</b> rows x <b>18</b> columns</p><p><b>0</b> missing values</p>\r\n",
       "</div>\r\n"
      ]
     },
     "metadata": {},
     "output_type": "display_data"
    }
   ],
   "source": [
    "df"
   ]
  },
  {
   "cell_type": "markdown",
   "metadata": {},
   "source": [
    "### **Question 5.** _(2 points)_\n",
    "* Based on your newly prepared data set, identify what % of cereals that each manufacturer produces are healthy."
   ]
  },
  {
   "cell_type": "code",
   "execution_count": 294,
   "metadata": {
    "dotnet_interactive": {
     "language": "fsharp"
    },
    "vscode": {
     "languageId": "dotnet-interactive.fsharp"
    }
   },
   "outputs": [
    {
     "data": {
      "text/plain": [
       "N, Q, K, R, G, P, A"
      ]
     },
     "metadata": {},
     "output_type": "display_data"
    }
   ],
   "source": [
    "df |> unique \"mfr\""
   ]
  },
  {
   "cell_type": "code",
   "execution_count": 295,
   "metadata": {
    "dotnet_interactive": {
     "language": "fsharp"
    },
    "vscode": {
     "languageId": "dotnet-interactive.fsharp"
    }
   },
   "outputs": [
    {
     "data": {
      "text/html": [
       "<div>\r\n",
       "<style scoped>,\r\n",
       "  .series tbody tr th:only-of-type {\r\n",
       "vertical-align: middle;\r\n",
       "  }\r\n",
       "  .series tbody tr {,\r\n",
       "vertical-align: top\r\n",
       "  }\r\n",
       "  .no-wrap {\r\n",
       "white-space: nowrap;\r\n",
       "  }\r\n",
       "</style>\r\n",
       "<table border='1' class='series'>\r\n",
       "<tr><td><b>healthy</b></td><td><b>N</b></td><td class=\"no-wrap\">-></td><td>3</td></tr><tr><td><b>healthy</b></td><td><b>K</b></td><td class=\"no-wrap\">-></td><td>1</td></tr><tr><td><b>healthy</b></td><td><b>P</b></td><td class=\"no-wrap\">-></td><td>1</td></tr><tr><td><b>unhealthy</b></td><td><b>N</b></td><td class=\"no-wrap\">-></td><td>3</td></tr><tr><td><b>unhealthy</b></td><td><b>Q</b></td><td class=\"no-wrap\">-></td><td>8</td></tr><tr><td><b>unhealthy</b></td><td><b>K</b></td><td class=\"no-wrap\">-></td><td>22</td></tr><tr><td><b>unhealthy</b></td><td><b>R</b></td><td class=\"no-wrap\">-></td><td>8</td></tr><tr><td><b>unhealthy</b></td><td><b>G</b></td><td class=\"no-wrap\">-></td><td>22</td></tr><tr><td><b>unhealthy</b></td><td><b>P</b></td><td class=\"no-wrap\">-></td><td>8</td></tr><tr><td><b>unhealthy</b></td><td><b>A</b></td><td class=\"no-wrap\">-></td><td>1</td></tr>\r\n",
       "</table>\r\n",
       "<p>Series of <b>10</b> items<p><b>0</b> missing values</p>\r\n",
       "</div>\r\n"
      ]
     },
     "metadata": {},
     "output_type": "display_data"
    }
   ],
   "source": [
    "let gmh =\n",
    "    df\n",
    "    |> Frame.groupRowsByString \"mfr\"\n",
    "    |> Frame.groupRowsByString \"healthiness\"\n",
    "    |> Frame.mapRowKeys Pair.flatten3\n",
    "    |> Frame.getCol \"mfr\"\n",
    "    |> Stats.levelCount Pair.get1And2Of3\n",
    "gmh"
   ]
  },
  {
   "cell_type": "code",
   "execution_count": 296,
   "metadata": {
    "dotnet_interactive": {
     "language": "fsharp"
    },
    "vscode": {
     "languageId": "dotnet-interactive.fsharp"
    }
   },
   "outputs": [
    {
     "data": {
      "text/html": [
       "\n",
       "<div>\n",
       "    <div id=\"22ad1751-d1b1-447d-91ac-3439784b8397\"><!-- Plotly chart will be drawn inside this DIV --></div>\r\n",
       "<script type=\"text/javascript\">\r\n",
       "\r\n",
       "            var renderPlotly_22ad1751d1b1447d91ac3439784b8397 = function() {\r\n",
       "            var fsharpPlotlyRequire = requirejs.config({context:'fsharp-plotly',paths:{plotly:'https://cdn.plot.ly/plotly-2.6.3.min'}}) || require;\r\n",
       "            fsharpPlotlyRequire(['plotly'], function(Plotly) {\r\n",
       "\r\n",
       "            var data = [{\"type\":\"bar\",\"name\":\"healthy\",\"x\":[\"N\",\"K\",\"P\"],\"y\":[3,1,1],\"orientation\":\"v\",\"marker\":{\"pattern\":{}}},{\"type\":\"bar\",\"name\":\"unhealthy\",\"x\":[\"N\",\"Q\",\"K\",\"R\",\"G\",\"P\",\"A\"],\"y\":[3,8,22,8,22,8,1],\"orientation\":\"v\",\"marker\":{\"pattern\":{}}}];\r\n",
       "            var layout = {\"width\":600,\"height\":600,\"template\":{\"layout\":{\"title\":{\"x\":0.05},\"font\":{\"color\":\"rgba(42, 63, 95, 1.0)\"},\"paper_bgcolor\":\"rgba(255, 255, 255, 1.0)\",\"plot_bgcolor\":\"rgba(229, 236, 246, 1.0)\",\"autotypenumbers\":\"strict\",\"colorscale\":{\"diverging\":[[0.0,\"#8e0152\"],[0.1,\"#c51b7d\"],[0.2,\"#de77ae\"],[0.3,\"#f1b6da\"],[0.4,\"#fde0ef\"],[0.5,\"#f7f7f7\"],[0.6,\"#e6f5d0\"],[0.7,\"#b8e186\"],[0.8,\"#7fbc41\"],[0.9,\"#4d9221\"],[1.0,\"#276419\"]],\"sequential\":[[0.0,\"#0d0887\"],[0.1111111111111111,\"#46039f\"],[0.2222222222222222,\"#7201a8\"],[0.3333333333333333,\"#9c179e\"],[0.4444444444444444,\"#bd3786\"],[0.5555555555555556,\"#d8576b\"],[0.6666666666666666,\"#ed7953\"],[0.7777777777777778,\"#fb9f3a\"],[0.8888888888888888,\"#fdca26\"],[1.0,\"#f0f921\"]],\"sequentialminus\":[[0.0,\"#0d0887\"],[0.1111111111111111,\"#46039f\"],[0.2222222222222222,\"#7201a8\"],[0.3333333333333333,\"#9c179e\"],[0.4444444444444444,\"#bd3786\"],[0.5555555555555556,\"#d8576b\"],[0.6666666666666666,\"#ed7953\"],[0.7777777777777778,\"#fb9f3a\"],[0.8888888888888888,\"#fdca26\"],[1.0,\"#f0f921\"]]},\"hovermode\":\"closest\",\"hoverlabel\":{\"align\":\"left\"},\"coloraxis\":{\"colorbar\":{\"outlinewidth\":0.0,\"ticks\":\"\"}},\"geo\":{\"showland\":true,\"landcolor\":\"rgba(229, 236, 246, 1.0)\",\"showlakes\":true,\"lakecolor\":\"rgba(255, 255, 255, 1.0)\",\"subunitcolor\":\"rgba(255, 255, 255, 1.0)\",\"bgcolor\":\"rgba(255, 255, 255, 1.0)\"},\"mapbox\":{\"style\":\"light\"},\"polar\":{\"bgcolor\":\"rgba(229, 236, 246, 1.0)\",\"radialaxis\":{\"linecolor\":\"rgba(255, 255, 255, 1.0)\",\"gridcolor\":\"rgba(255, 255, 255, 1.0)\",\"ticks\":\"\"},\"angularaxis\":{\"linecolor\":\"rgba(255, 255, 255, 1.0)\",\"gridcolor\":\"rgba(255, 255, 255, 1.0)\",\"ticks\":\"\"}},\"scene\":{\"xaxis\":{\"ticks\":\"\",\"linecolor\":\"rgba(255, 255, 255, 1.0)\",\"gridcolor\":\"rgba(255, 255, 255, 1.0)\",\"gridwidth\":2.0,\"zerolinecolor\":\"rgba(255, 255, 255, 1.0)\",\"backgroundcolor\":\"rgba(229, 236, 246, 1.0)\",\"showbackground\":true},\"yaxis\":{\"ticks\":\"\",\"linecolor\":\"rgba(255, 255, 255, 1.0)\",\"gridcolor\":\"rgba(255, 255, 255, 1.0)\",\"gridwidth\":2.0,\"zerolinecolor\":\"rgba(255, 255, 255, 1.0)\",\"backgroundcolor\":\"rgba(229, 236, 246, 1.0)\",\"showbackground\":true},\"zaxis\":{\"ticks\":\"\",\"linecolor\":\"rgba(255, 255, 255, 1.0)\",\"gridcolor\":\"rgba(255, 255, 255, 1.0)\",\"gridwidth\":2.0,\"zerolinecolor\":\"rgba(255, 255, 255, 1.0)\",\"backgroundcolor\":\"rgba(229, 236, 246, 1.0)\",\"showbackground\":true}},\"ternary\":{\"aaxis\":{\"ticks\":\"\",\"linecolor\":\"rgba(255, 255, 255, 1.0)\",\"gridcolor\":\"rgba(255, 255, 255, 1.0)\"},\"baxis\":{\"ticks\":\"\",\"linecolor\":\"rgba(255, 255, 255, 1.0)\",\"gridcolor\":\"rgba(255, 255, 255, 1.0)\"},\"caxis\":{\"ticks\":\"\",\"linecolor\":\"rgba(255, 255, 255, 1.0)\",\"gridcolor\":\"rgba(255, 255, 255, 1.0)\"},\"bgcolor\":\"rgba(229, 236, 246, 1.0)\"},\"xaxis\":{\"title\":{\"standoff\":15},\"ticks\":\"\",\"automargin\":true,\"linecolor\":\"rgba(255, 255, 255, 1.0)\",\"gridcolor\":\"rgba(255, 255, 255, 1.0)\",\"zerolinecolor\":\"rgba(255, 255, 255, 1.0)\",\"zerolinewidth\":2.0},\"yaxis\":{\"title\":{\"standoff\":15},\"ticks\":\"\",\"automargin\":true,\"linecolor\":\"rgba(255, 255, 255, 1.0)\",\"gridcolor\":\"rgba(255, 255, 255, 1.0)\",\"zerolinecolor\":\"rgba(255, 255, 255, 1.0)\",\"zerolinewidth\":2.0},\"annotationdefaults\":{\"arrowcolor\":\"#2a3f5f\",\"arrowhead\":0,\"arrowwidth\":1},\"shapedefaults\":{\"line\":{\"color\":\"rgba(42, 63, 95, 1.0)\"}},\"colorway\":[\"rgba(99, 110, 250, 1.0)\",\"rgba(239, 85, 59, 1.0)\",\"rgba(0, 204, 150, 1.0)\",\"rgba(171, 99, 250, 1.0)\",\"rgba(255, 161, 90, 1.0)\",\"rgba(25, 211, 243, 1.0)\",\"rgba(255, 102, 146, 1.0)\",\"rgba(182, 232, 128, 1.0)\",\"rgba(255, 151, 255, 1.0)\",\"rgba(254, 203, 82, 1.0)\"]},\"data\":{\"bar\":[{\"marker\":{\"line\":{\"color\":\"rgba(229, 236, 246, 1.0)\",\"width\":0.5},\"pattern\":{\"fillmode\":\"overlay\",\"size\":10,\"solidity\":0.2}},\"error_x\":{\"color\":\"rgba(42, 63, 95, 1.0)\"},\"error_y\":{\"color\":\"rgba(42, 63, 95, 1.0)\"}}],\"barpolar\":[{\"marker\":{\"line\":{\"color\":\"rgba(229, 236, 246, 1.0)\",\"width\":0.5},\"pattern\":{\"fillmode\":\"overlay\",\"size\":10,\"solidity\":0.2}}}],\"carpet\":[{\"aaxis\":{\"linecolor\":\"rgba(255, 255, 255, 1.0)\",\"gridcolor\":\"rgba(255, 255, 255, 1.0)\",\"endlinecolor\":\"rgba(42, 63, 95, 1.0)\",\"minorgridcolor\":\"rgba(255, 255, 255, 1.0)\",\"startlinecolor\":\"rgba(42, 63, 95, 1.0)\"},\"baxis\":{\"linecolor\":\"rgba(255, 255, 255, 1.0)\",\"gridcolor\":\"rgba(255, 255, 255, 1.0)\",\"endlinecolor\":\"rgba(42, 63, 95, 1.0)\",\"minorgridcolor\":\"rgba(255, 255, 255, 1.0)\",\"startlinecolor\":\"rgba(42, 63, 95, 1.0)\"}}],\"choropleth\":[{\"colorbar\":{\"outlinewidth\":0.0,\"ticks\":\"\"},\"colorscale\":[[0.0,\"#0d0887\"],[0.1111111111111111,\"#46039f\"],[0.2222222222222222,\"#7201a8\"],[0.3333333333333333,\"#9c179e\"],[0.4444444444444444,\"#bd3786\"],[0.5555555555555556,\"#d8576b\"],[0.6666666666666666,\"#ed7953\"],[0.7777777777777778,\"#fb9f3a\"],[0.8888888888888888,\"#fdca26\"],[1.0,\"#f0f921\"]]}],\"contour\":[{\"colorbar\":{\"outlinewidth\":0.0,\"ticks\":\"\"},\"colorscale\":[[0.0,\"#0d0887\"],[0.1111111111111111,\"#46039f\"],[0.2222222222222222,\"#7201a8\"],[0.3333333333333333,\"#9c179e\"],[0.4444444444444444,\"#bd3786\"],[0.5555555555555556,\"#d8576b\"],[0.6666666666666666,\"#ed7953\"],[0.7777777777777778,\"#fb9f3a\"],[0.8888888888888888,\"#fdca26\"],[1.0,\"#f0f921\"]]}],\"contourcarpet\":[{\"colorbar\":{\"outlinewidth\":0.0,\"ticks\":\"\"}}],\"heatmap\":[{\"colorbar\":{\"outlinewidth\":0.0,\"ticks\":\"\"},\"colorscale\":[[0.0,\"#0d0887\"],[0.1111111111111111,\"#46039f\"],[0.2222222222222222,\"#7201a8\"],[0.3333333333333333,\"#9c179e\"],[0.4444444444444444,\"#bd3786\"],[0.5555555555555556,\"#d8576b\"],[0.6666666666666666,\"#ed7953\"],[0.7777777777777778,\"#fb9f3a\"],[0.8888888888888888,\"#fdca26\"],[1.0,\"#f0f921\"]]}],\"heatmapgl\":[{\"colorbar\":{\"outlinewidth\":0.0,\"ticks\":\"\"},\"colorscale\":[[0.0,\"#0d0887\"],[0.1111111111111111,\"#46039f\"],[0.2222222222222222,\"#7201a8\"],[0.3333333333333333,\"#9c179e\"],[0.4444444444444444,\"#bd3786\"],[0.5555555555555556,\"#d8576b\"],[0.6666666666666666,\"#ed7953\"],[0.7777777777777778,\"#fb9f3a\"],[0.8888888888888888,\"#fdca26\"],[1.0,\"#f0f921\"]]}],\"histogram\":[{\"marker\":{\"pattern\":{\"fillmode\":\"overlay\",\"size\":10,\"solidity\":0.2}}}],\"histogram2d\":[{\"colorbar\":{\"outlinewidth\":0.0,\"ticks\":\"\"},\"colorscale\":[[0.0,\"#0d0887\"],[0.1111111111111111,\"#46039f\"],[0.2222222222222222,\"#7201a8\"],[0.3333333333333333,\"#9c179e\"],[0.4444444444444444,\"#bd3786\"],[0.5555555555555556,\"#d8576b\"],[0.6666666666666666,\"#ed7953\"],[0.7777777777777778,\"#fb9f3a\"],[0.8888888888888888,\"#fdca26\"],[1.0,\"#f0f921\"]]}],\"histogram2dcontour\":[{\"colorbar\":{\"outlinewidth\":0.0,\"ticks\":\"\"},\"colorscale\":[[0.0,\"#0d0887\"],[0.1111111111111111,\"#46039f\"],[0.2222222222222222,\"#7201a8\"],[0.3333333333333333,\"#9c179e\"],[0.4444444444444444,\"#bd3786\"],[0.5555555555555556,\"#d8576b\"],[0.6666666666666666,\"#ed7953\"],[0.7777777777777778,\"#fb9f3a\"],[0.8888888888888888,\"#fdca26\"],[1.0,\"#f0f921\"]]}],\"mesh3d\":[{\"colorbar\":{\"outlinewidth\":0.0,\"ticks\":\"\"}}],\"parcoords\":[{\"line\":{\"colorbar\":{\"outlinewidth\":0.0,\"ticks\":\"\"}}}],\"pie\":[{\"automargin\":true}],\"scatter\":[{\"marker\":{\"colorbar\":{\"outlinewidth\":0.0,\"ticks\":\"\"}}}],\"scatter3d\":[{\"marker\":{\"colorbar\":{\"outlinewidth\":0.0,\"ticks\":\"\"}},\"line\":{\"colorbar\":{\"outlinewidth\":0.0,\"ticks\":\"\"}}}],\"scattercarpet\":[{\"marker\":{\"colorbar\":{\"outlinewidth\":0.0,\"ticks\":\"\"}}}],\"scattergeo\":[{\"marker\":{\"colorbar\":{\"outlinewidth\":0.0,\"ticks\":\"\"}}}],\"scattergl\":[{\"marker\":{\"colorbar\":{\"outlinewidth\":0.0,\"ticks\":\"\"}}}],\"scattermapbox\":[{\"marker\":{\"colorbar\":{\"outlinewidth\":0.0,\"ticks\":\"\"}}}],\"scatterpolar\":[{\"marker\":{\"colorbar\":{\"outlinewidth\":0.0,\"ticks\":\"\"}}}],\"scatterpolargl\":[{\"marker\":{\"colorbar\":{\"outlinewidth\":0.0,\"ticks\":\"\"}}}],\"scatterternary\":[{\"marker\":{\"colorbar\":{\"outlinewidth\":0.0,\"ticks\":\"\"}}}],\"surface\":[{\"colorbar\":{\"outlinewidth\":0.0,\"ticks\":\"\"},\"colorscale\":[[0.0,\"#0d0887\"],[0.1111111111111111,\"#46039f\"],[0.2222222222222222,\"#7201a8\"],[0.3333333333333333,\"#9c179e\"],[0.4444444444444444,\"#bd3786\"],[0.5555555555555556,\"#d8576b\"],[0.6666666666666666,\"#ed7953\"],[0.7777777777777778,\"#fb9f3a\"],[0.8888888888888888,\"#fdca26\"],[1.0,\"#f0f921\"]]}],\"table\":[{\"cells\":{\"fill\":{\"color\":\"rgba(235, 240, 248, 1.0)\"},\"line\":{\"color\":\"rgba(255, 255, 255, 1.0)\"}},\"header\":{\"fill\":{\"color\":\"rgba(200, 212, 227, 1.0)\"},\"line\":{\"color\":\"rgba(255, 255, 255, 1.0)\"}}}]}}};\r\n",
       "            var config = {\"responsive\":true};\r\n",
       "            Plotly.newPlot('22ad1751-d1b1-447d-91ac-3439784b8397', data, layout, config);\r\n",
       "});\r\n",
       "            };\r\n",
       "            if ((typeof(requirejs) !==  typeof(Function)) || (typeof(requirejs.config) !== typeof(Function))) {\r\n",
       "                var script = document.createElement(\"script\");\r\n",
       "                script.setAttribute(\"src\", \"https://cdnjs.cloudflare.com/ajax/libs/require.js/2.3.6/require.min.js\");\r\n",
       "                script.onload = function(){\r\n",
       "                    renderPlotly_22ad1751d1b1447d91ac3439784b8397();\r\n",
       "                };\r\n",
       "                document.getElementsByTagName(\"head\")[0].appendChild(script);\r\n",
       "            }\r\n",
       "            else {\r\n",
       "                renderPlotly_22ad1751d1b1447d91ac3439784b8397();\r\n",
       "            }\r\n",
       "</script>\r\n",
       "\n",
       "    \n",
       "</div>    \n"
      ]
     },
     "metadata": {},
     "output_type": "display_data"
    }
   ],
   "source": [
    "Seq.zip gmh.Keys gmh.Values\n",
    "|> Seq.map (fun ((k1, k2), v) -> (k1, k2, v))\n",
    "|> Seq.groupBy Pair.get1Of3\n",
    "|> Seq.map (fun (k, v) ->\n",
    "    Chart.Column(v |> Seq.map Pair.get3Of3, v |> Seq.map Pair.get2Of3, k)\n",
    ")\n",
    "|> Chart.combine"
   ]
  },
  {
   "cell_type": "markdown",
   "metadata": {},
   "source": [
    "### **Question 6.** _(2 points)_\n",
    "* Calculate the average, minimum and maximum ratings for healthy vs. unhealthy cereals."
   ]
  },
  {
   "cell_type": "code",
   "execution_count": 297,
   "metadata": {
    "dotnet_interactive": {
     "language": "fsharp"
    },
    "vscode": {
     "languageId": "dotnet-interactive.fsharp"
    }
   },
   "outputs": [
    {
     "data": {
      "text/html": [
       "<div>\r\n",
       "<style scoped>,\r\n",
       "  .dataframe tbody tr th:only-of-type {\r\n",
       "    vertical-align: middle;\r\n",
       "  }\r\n",
       "  .dataframe tbody tr th {,\r\n",
       "    vertical-align: top\r\n",
       "  }\r\n",
       "  .dataframe thead th {\r\n",
       "    text-align: right;\r\n",
       "  }\r\n",
       "  .no-wrap {\r\n",
       "    white-space: nowrap;\r\n",
       "  }\r\n",
       "</style>\r\n",
       "<table border='1' class='dataframe'>\r\n",
       "<thead><th></th><th></th><th>name</th><th>mfr</th><th>type</th><th>shelf</th><th>rating</th><th>Type of Cereal</th><th>calories</th><th>protein</th><th>fat</th><th>sodium</th><th>fiber</th><th>carbo</th><th>sugars</th><th>potass</th><th>vitamins</th><th>cups</th><th>weight</th><th>healthiness</th></thead><thead><th></th><th></th><th>(string)</th><th>(string)</th><th>(string)</th><th>(int)</th><th>(Decimal)</th><th>(string)</th><th>(float)</th><th>(float)</th><th>(float)</th><th>(float)</th><th>(float)</th><th>(float)</th><th>(float)</th><th>(float)</th><th>(float)</th><th>(float)</th><th>(int)</th><th>(string)</th></thead>\r\n",
       "<tr><td><b>0</b></td><td class=\"no-wrap\">-></td><td>100% Bran</td><td>N</td><td>C</td><td>3</td><td>68.402973</td><td>Bran</td><td>70</td><td>4</td><td>1</td><td>130</td><td>10</td><td>5</td><td>6</td><td>280</td><td>25</td><td>0.33</td><td>1</td><td>healthy</td></tr><tr><td><b>1</b></td><td class=\"no-wrap\">-></td><td>100% Natural Bran</td><td>Q</td><td>C</td><td>3</td><td>33.983679</td><td>Bran</td><td>120</td><td>3</td><td>5</td><td>15</td><td>2</td><td>8</td><td>8</td><td>135</td><td>0</td><td>1</td><td>1</td><td>unhealthy</td></tr><tr><td><b>2</b></td><td class=\"no-wrap\">-></td><td>All-Bran</td><td>K</td><td>C</td><td>3</td><td>59.425505</td><td>Bran</td><td>70</td><td>4</td><td>1</td><td>260</td><td>9</td><td>7</td><td>5</td><td>320</td><td>25</td><td>0.33</td><td>1</td><td>unhealthy</td></tr><tr><td><b>3</b></td><td class=\"no-wrap\">-></td><td>All-Bran with Extra Fiber</td><td>K</td><td>C</td><td>3</td><td>93.704912</td><td>Bran</td><td>50</td><td>4</td><td>0</td><td>140</td><td>14</td><td>8</td><td>0</td><td>330</td><td>25</td><td>0.5</td><td>1</td><td>healthy</td></tr><tr><td><b>4</b></td><td class=\"no-wrap\">-></td><td>Almond Delight</td><td>R</td><td>C</td><td>3</td><td>34.384843</td><td>Nut</td><td>110</td><td>2</td><td>2</td><td>200</td><td>1</td><td>14</td><td>8</td><td>96.07792207792208</td><td>25</td><td>0.75</td><td>1</td><td>unhealthy</td></tr>\r\n",
       "</table>\r\n",
       "<p><b>5</b> rows x <b>18</b> columns</p><p><b>0</b> missing values</p>\r\n",
       "</div>\r\n"
      ]
     },
     "metadata": {},
     "output_type": "display_data"
    }
   ],
   "source": [
    "df |> Frame.take 5"
   ]
  },
  {
   "cell_type": "code",
   "execution_count": 298,
   "metadata": {
    "dotnet_interactive": {
     "language": "fsharp"
    },
    "vscode": {
     "languageId": "dotnet-interactive.fsharp"
    }
   },
   "outputs": [
    {
     "data": {
      "text/html": [
       "<div>\r\n",
       "<style scoped>,\r\n",
       "  .dataframe tbody tr th:only-of-type {\r\n",
       "    vertical-align: middle;\r\n",
       "  }\r\n",
       "  .dataframe tbody tr th {,\r\n",
       "    vertical-align: top\r\n",
       "  }\r\n",
       "  .dataframe thead th {\r\n",
       "    text-align: right;\r\n",
       "  }\r\n",
       "  .no-wrap {\r\n",
       "    white-space: nowrap;\r\n",
       "  }\r\n",
       "</style>\r\n",
       "<table border='1' class='dataframe'>\r\n",
       "<thead><th></th><th></th><th>r_mean</th><th>r_min</th><th>r_max</th></thead><thead><th></th><th></th><th>(float)</th><th>(float)</th><th>(float)</th></thead>\r\n",
       "<tr><td><b>healthy</b></td><td class=\"no-wrap\">-></td><td>69.14675319999999</td><td>40.917047</td><td>93.704912</td></tr><tr><td><b>unhealthy</b></td><td class=\"no-wrap\">-></td><td>40.826743305555546</td><td>18.042851</td><td>72.801787</td></tr>\r\n",
       "</table>\r\n",
       "<p><b>2</b> rows x <b>3</b> columns</p><p><b>0</b> missing values</p>\r\n",
       "</div>\r\n"
      ]
     },
     "metadata": {},
     "output_type": "display_data"
    }
   ],
   "source": [
    "df\n",
    "|> aggregateRowsBy\n",
    "    \"healthiness\"\n",
    "    [\n",
    "        \"rating\", Stats.mean, \"r_mean\"\n",
    "        \"rating\", Stats.min, \"r_min\"\n",
    "        \"rating\", Stats.max, \"r_max\"\n",
    "    ]"
   ]
  },
  {
   "cell_type": "markdown",
   "metadata": {},
   "source": [
    "### **Question 7.** _(2 points)_\n",
    "* Calculate the average, minimum and maximum ratings for each type of cereal: Bran, Wheat, Fiber, Protein, Crunch, Corn, Nut, Rice and Other."
   ]
  },
  {
   "cell_type": "code",
   "execution_count": 299,
   "metadata": {
    "dotnet_interactive": {
     "language": "fsharp"
    },
    "vscode": {
     "languageId": "dotnet-interactive.fsharp"
    }
   },
   "outputs": [
    {
     "data": {
      "text/plain": [
       "Bran, Nut, Other, Crunch, Corn, Wheat, Rice"
      ]
     },
     "metadata": {},
     "output_type": "display_data"
    }
   ],
   "source": [
    "df |> unique \"Type of Cereal\""
   ]
  },
  {
   "cell_type": "code",
   "execution_count": 300,
   "metadata": {
    "dotnet_interactive": {
     "language": "fsharp"
    },
    "vscode": {
     "languageId": "dotnet-interactive.fsharp"
    }
   },
   "outputs": [
    {
     "data": {
      "text/html": [
       "<div>\r\n",
       "<style scoped>,\r\n",
       "  .dataframe tbody tr th:only-of-type {\r\n",
       "    vertical-align: middle;\r\n",
       "  }\r\n",
       "  .dataframe tbody tr th {,\r\n",
       "    vertical-align: top\r\n",
       "  }\r\n",
       "  .dataframe thead th {\r\n",
       "    text-align: right;\r\n",
       "  }\r\n",
       "  .no-wrap {\r\n",
       "    white-space: nowrap;\r\n",
       "  }\r\n",
       "</style>\r\n",
       "<table border='1' class='dataframe'>\r\n",
       "<thead><th></th><th></th><th>r_mean</th><th>r_min</th><th>r_max</th></thead><thead><th></th><th></th><th>(float)</th><th>(float)</th><th>(float)</th></thead>\r\n",
       "<tr><td><b>Bran</b></td><td class=\"no-wrap\">-></td><td>50.71417876923077</td><td>28.592785</td><td>93.704912</td></tr><tr><td><b>Nut</b></td><td class=\"no-wrap\">-></td><td>40.6074187</td><td>31.072217</td><td>53.371007</td></tr><tr><td><b>Other</b></td><td class=\"no-wrap\">-></td><td>37.20836875</td><td>21.871292</td><td>55.333142</td></tr><tr><td><b>Crunch</b></td><td class=\"no-wrap\">-></td><td>26.078598</td><td>18.042851</td><td>36.523683</td></tr><tr><td><b>Corn</b></td><td class=\"no-wrap\">-></td><td>40.48272</td><td>35.782791</td><td>45.863324</td></tr><tr><td><b>Wheat</b></td><td class=\"no-wrap\">-></td><td>56.333863363636354</td><td>36.176196</td><td>72.801787</td></tr><tr><td><b>Rice</b></td><td class=\"no-wrap\">-></td><td>47.77173466666667</td><td>40.560159</td><td>60.756112</td></tr>\r\n",
       "</table>\r\n",
       "<p><b>7</b> rows x <b>3</b> columns</p><p><b>0</b> missing values</p>\r\n",
       "</div>\r\n"
      ]
     },
     "metadata": {},
     "output_type": "display_data"
    }
   ],
   "source": [
    "let typeOfCereal =\n",
    "    df\n",
    "    |> aggregateRowsBy\n",
    "        \"Type of Cereal\"\n",
    "        [\n",
    "            \"rating\", Stats.mean, \"r_mean\"\n",
    "            \"rating\", Stats.min, \"r_min\"\n",
    "            \"rating\", Stats.max, \"r_max\"\n",
    "        ]\n",
    "typeOfCereal"
   ]
  },
  {
   "cell_type": "code",
   "execution_count": 301,
   "metadata": {
    "dotnet_interactive": {
     "language": "fsharp"
    },
    "vscode": {
     "languageId": "dotnet-interactive.fsharp"
    }
   },
   "outputs": [
    {
     "data": {
      "text/html": [
       "\n",
       "<div>\n",
       "    <div id=\"6b9072e3-941c-4da4-9781-05bdf4a27e2c\"><!-- Plotly chart will be drawn inside this DIV --></div>\r\n",
       "<script type=\"text/javascript\">\r\n",
       "\r\n",
       "            var renderPlotly_6b9072e3941c4da4978105bdf4a27e2c = function() {\r\n",
       "            var fsharpPlotlyRequire = requirejs.config({context:'fsharp-plotly',paths:{plotly:'https://cdn.plot.ly/plotly-2.6.3.min'}}) || require;\r\n",
       "            fsharpPlotlyRequire(['plotly'], function(Plotly) {\r\n",
       "\r\n",
       "            var data = [{\"type\":\"bar\",\"name\":\"r_mean\",\"x\":[\"Bran\",\"Nut\",\"Other\",\"Crunch\",\"Corn\",\"Wheat\",\"Rice\"],\"y\":[50.71417876923077,40.6074187,37.20836875,26.078598,40.48272,56.333863363636354,47.77173466666667],\"orientation\":\"v\",\"marker\":{\"pattern\":{}}},{\"type\":\"bar\",\"name\":\"r_min\",\"x\":[\"Bran\",\"Nut\",\"Other\",\"Crunch\",\"Corn\",\"Wheat\",\"Rice\"],\"y\":[28.592785,31.072217,21.871292,18.042851,35.782791,36.176196,40.560159],\"orientation\":\"v\",\"marker\":{\"pattern\":{}}},{\"type\":\"bar\",\"name\":\"r_max\",\"x\":[\"Bran\",\"Nut\",\"Other\",\"Crunch\",\"Corn\",\"Wheat\",\"Rice\"],\"y\":[93.704912,53.371007,55.333142,36.523683,45.863324,72.801787,60.756112],\"orientation\":\"v\",\"marker\":{\"pattern\":{}}}];\r\n",
       "            var layout = {\"width\":600,\"height\":600,\"template\":{\"layout\":{\"title\":{\"x\":0.05},\"font\":{\"color\":\"rgba(42, 63, 95, 1.0)\"},\"paper_bgcolor\":\"rgba(255, 255, 255, 1.0)\",\"plot_bgcolor\":\"rgba(229, 236, 246, 1.0)\",\"autotypenumbers\":\"strict\",\"colorscale\":{\"diverging\":[[0.0,\"#8e0152\"],[0.1,\"#c51b7d\"],[0.2,\"#de77ae\"],[0.3,\"#f1b6da\"],[0.4,\"#fde0ef\"],[0.5,\"#f7f7f7\"],[0.6,\"#e6f5d0\"],[0.7,\"#b8e186\"],[0.8,\"#7fbc41\"],[0.9,\"#4d9221\"],[1.0,\"#276419\"]],\"sequential\":[[0.0,\"#0d0887\"],[0.1111111111111111,\"#46039f\"],[0.2222222222222222,\"#7201a8\"],[0.3333333333333333,\"#9c179e\"],[0.4444444444444444,\"#bd3786\"],[0.5555555555555556,\"#d8576b\"],[0.6666666666666666,\"#ed7953\"],[0.7777777777777778,\"#fb9f3a\"],[0.8888888888888888,\"#fdca26\"],[1.0,\"#f0f921\"]],\"sequentialminus\":[[0.0,\"#0d0887\"],[0.1111111111111111,\"#46039f\"],[0.2222222222222222,\"#7201a8\"],[0.3333333333333333,\"#9c179e\"],[0.4444444444444444,\"#bd3786\"],[0.5555555555555556,\"#d8576b\"],[0.6666666666666666,\"#ed7953\"],[0.7777777777777778,\"#fb9f3a\"],[0.8888888888888888,\"#fdca26\"],[1.0,\"#f0f921\"]]},\"hovermode\":\"closest\",\"hoverlabel\":{\"align\":\"left\"},\"coloraxis\":{\"colorbar\":{\"outlinewidth\":0.0,\"ticks\":\"\"}},\"geo\":{\"showland\":true,\"landcolor\":\"rgba(229, 236, 246, 1.0)\",\"showlakes\":true,\"lakecolor\":\"rgba(255, 255, 255, 1.0)\",\"subunitcolor\":\"rgba(255, 255, 255, 1.0)\",\"bgcolor\":\"rgba(255, 255, 255, 1.0)\"},\"mapbox\":{\"style\":\"light\"},\"polar\":{\"bgcolor\":\"rgba(229, 236, 246, 1.0)\",\"radialaxis\":{\"linecolor\":\"rgba(255, 255, 255, 1.0)\",\"gridcolor\":\"rgba(255, 255, 255, 1.0)\",\"ticks\":\"\"},\"angularaxis\":{\"linecolor\":\"rgba(255, 255, 255, 1.0)\",\"gridcolor\":\"rgba(255, 255, 255, 1.0)\",\"ticks\":\"\"}},\"scene\":{\"xaxis\":{\"ticks\":\"\",\"linecolor\":\"rgba(255, 255, 255, 1.0)\",\"gridcolor\":\"rgba(255, 255, 255, 1.0)\",\"gridwidth\":2.0,\"zerolinecolor\":\"rgba(255, 255, 255, 1.0)\",\"backgroundcolor\":\"rgba(229, 236, 246, 1.0)\",\"showbackground\":true},\"yaxis\":{\"ticks\":\"\",\"linecolor\":\"rgba(255, 255, 255, 1.0)\",\"gridcolor\":\"rgba(255, 255, 255, 1.0)\",\"gridwidth\":2.0,\"zerolinecolor\":\"rgba(255, 255, 255, 1.0)\",\"backgroundcolor\":\"rgba(229, 236, 246, 1.0)\",\"showbackground\":true},\"zaxis\":{\"ticks\":\"\",\"linecolor\":\"rgba(255, 255, 255, 1.0)\",\"gridcolor\":\"rgba(255, 255, 255, 1.0)\",\"gridwidth\":2.0,\"zerolinecolor\":\"rgba(255, 255, 255, 1.0)\",\"backgroundcolor\":\"rgba(229, 236, 246, 1.0)\",\"showbackground\":true}},\"ternary\":{\"aaxis\":{\"ticks\":\"\",\"linecolor\":\"rgba(255, 255, 255, 1.0)\",\"gridcolor\":\"rgba(255, 255, 255, 1.0)\"},\"baxis\":{\"ticks\":\"\",\"linecolor\":\"rgba(255, 255, 255, 1.0)\",\"gridcolor\":\"rgba(255, 255, 255, 1.0)\"},\"caxis\":{\"ticks\":\"\",\"linecolor\":\"rgba(255, 255, 255, 1.0)\",\"gridcolor\":\"rgba(255, 255, 255, 1.0)\"},\"bgcolor\":\"rgba(229, 236, 246, 1.0)\"},\"xaxis\":{\"title\":{\"standoff\":15},\"ticks\":\"\",\"automargin\":true,\"linecolor\":\"rgba(255, 255, 255, 1.0)\",\"gridcolor\":\"rgba(255, 255, 255, 1.0)\",\"zerolinecolor\":\"rgba(255, 255, 255, 1.0)\",\"zerolinewidth\":2.0},\"yaxis\":{\"title\":{\"standoff\":15},\"ticks\":\"\",\"automargin\":true,\"linecolor\":\"rgba(255, 255, 255, 1.0)\",\"gridcolor\":\"rgba(255, 255, 255, 1.0)\",\"zerolinecolor\":\"rgba(255, 255, 255, 1.0)\",\"zerolinewidth\":2.0},\"annotationdefaults\":{\"arrowcolor\":\"#2a3f5f\",\"arrowhead\":0,\"arrowwidth\":1},\"shapedefaults\":{\"line\":{\"color\":\"rgba(42, 63, 95, 1.0)\"}},\"colorway\":[\"rgba(99, 110, 250, 1.0)\",\"rgba(239, 85, 59, 1.0)\",\"rgba(0, 204, 150, 1.0)\",\"rgba(171, 99, 250, 1.0)\",\"rgba(255, 161, 90, 1.0)\",\"rgba(25, 211, 243, 1.0)\",\"rgba(255, 102, 146, 1.0)\",\"rgba(182, 232, 128, 1.0)\",\"rgba(255, 151, 255, 1.0)\",\"rgba(254, 203, 82, 1.0)\"]},\"data\":{\"bar\":[{\"marker\":{\"line\":{\"color\":\"rgba(229, 236, 246, 1.0)\",\"width\":0.5},\"pattern\":{\"fillmode\":\"overlay\",\"size\":10,\"solidity\":0.2}},\"error_x\":{\"color\":\"rgba(42, 63, 95, 1.0)\"},\"error_y\":{\"color\":\"rgba(42, 63, 95, 1.0)\"}}],\"barpolar\":[{\"marker\":{\"line\":{\"color\":\"rgba(229, 236, 246, 1.0)\",\"width\":0.5},\"pattern\":{\"fillmode\":\"overlay\",\"size\":10,\"solidity\":0.2}}}],\"carpet\":[{\"aaxis\":{\"linecolor\":\"rgba(255, 255, 255, 1.0)\",\"gridcolor\":\"rgba(255, 255, 255, 1.0)\",\"endlinecolor\":\"rgba(42, 63, 95, 1.0)\",\"minorgridcolor\":\"rgba(255, 255, 255, 1.0)\",\"startlinecolor\":\"rgba(42, 63, 95, 1.0)\"},\"baxis\":{\"linecolor\":\"rgba(255, 255, 255, 1.0)\",\"gridcolor\":\"rgba(255, 255, 255, 1.0)\",\"endlinecolor\":\"rgba(42, 63, 95, 1.0)\",\"minorgridcolor\":\"rgba(255, 255, 255, 1.0)\",\"startlinecolor\":\"rgba(42, 63, 95, 1.0)\"}}],\"choropleth\":[{\"colorbar\":{\"outlinewidth\":0.0,\"ticks\":\"\"},\"colorscale\":[[0.0,\"#0d0887\"],[0.1111111111111111,\"#46039f\"],[0.2222222222222222,\"#7201a8\"],[0.3333333333333333,\"#9c179e\"],[0.4444444444444444,\"#bd3786\"],[0.5555555555555556,\"#d8576b\"],[0.6666666666666666,\"#ed7953\"],[0.7777777777777778,\"#fb9f3a\"],[0.8888888888888888,\"#fdca26\"],[1.0,\"#f0f921\"]]}],\"contour\":[{\"colorbar\":{\"outlinewidth\":0.0,\"ticks\":\"\"},\"colorscale\":[[0.0,\"#0d0887\"],[0.1111111111111111,\"#46039f\"],[0.2222222222222222,\"#7201a8\"],[0.3333333333333333,\"#9c179e\"],[0.4444444444444444,\"#bd3786\"],[0.5555555555555556,\"#d8576b\"],[0.6666666666666666,\"#ed7953\"],[0.7777777777777778,\"#fb9f3a\"],[0.8888888888888888,\"#fdca26\"],[1.0,\"#f0f921\"]]}],\"contourcarpet\":[{\"colorbar\":{\"outlinewidth\":0.0,\"ticks\":\"\"}}],\"heatmap\":[{\"colorbar\":{\"outlinewidth\":0.0,\"ticks\":\"\"},\"colorscale\":[[0.0,\"#0d0887\"],[0.1111111111111111,\"#46039f\"],[0.2222222222222222,\"#7201a8\"],[0.3333333333333333,\"#9c179e\"],[0.4444444444444444,\"#bd3786\"],[0.5555555555555556,\"#d8576b\"],[0.6666666666666666,\"#ed7953\"],[0.7777777777777778,\"#fb9f3a\"],[0.8888888888888888,\"#fdca26\"],[1.0,\"#f0f921\"]]}],\"heatmapgl\":[{\"colorbar\":{\"outlinewidth\":0.0,\"ticks\":\"\"},\"colorscale\":[[0.0,\"#0d0887\"],[0.1111111111111111,\"#46039f\"],[0.2222222222222222,\"#7201a8\"],[0.3333333333333333,\"#9c179e\"],[0.4444444444444444,\"#bd3786\"],[0.5555555555555556,\"#d8576b\"],[0.6666666666666666,\"#ed7953\"],[0.7777777777777778,\"#fb9f3a\"],[0.8888888888888888,\"#fdca26\"],[1.0,\"#f0f921\"]]}],\"histogram\":[{\"marker\":{\"pattern\":{\"fillmode\":\"overlay\",\"size\":10,\"solidity\":0.2}}}],\"histogram2d\":[{\"colorbar\":{\"outlinewidth\":0.0,\"ticks\":\"\"},\"colorscale\":[[0.0,\"#0d0887\"],[0.1111111111111111,\"#46039f\"],[0.2222222222222222,\"#7201a8\"],[0.3333333333333333,\"#9c179e\"],[0.4444444444444444,\"#bd3786\"],[0.5555555555555556,\"#d8576b\"],[0.6666666666666666,\"#ed7953\"],[0.7777777777777778,\"#fb9f3a\"],[0.8888888888888888,\"#fdca26\"],[1.0,\"#f0f921\"]]}],\"histogram2dcontour\":[{\"colorbar\":{\"outlinewidth\":0.0,\"ticks\":\"\"},\"colorscale\":[[0.0,\"#0d0887\"],[0.1111111111111111,\"#46039f\"],[0.2222222222222222,\"#7201a8\"],[0.3333333333333333,\"#9c179e\"],[0.4444444444444444,\"#bd3786\"],[0.5555555555555556,\"#d8576b\"],[0.6666666666666666,\"#ed7953\"],[0.7777777777777778,\"#fb9f3a\"],[0.8888888888888888,\"#fdca26\"],[1.0,\"#f0f921\"]]}],\"mesh3d\":[{\"colorbar\":{\"outlinewidth\":0.0,\"ticks\":\"\"}}],\"parcoords\":[{\"line\":{\"colorbar\":{\"outlinewidth\":0.0,\"ticks\":\"\"}}}],\"pie\":[{\"automargin\":true}],\"scatter\":[{\"marker\":{\"colorbar\":{\"outlinewidth\":0.0,\"ticks\":\"\"}}}],\"scatter3d\":[{\"marker\":{\"colorbar\":{\"outlinewidth\":0.0,\"ticks\":\"\"}},\"line\":{\"colorbar\":{\"outlinewidth\":0.0,\"ticks\":\"\"}}}],\"scattercarpet\":[{\"marker\":{\"colorbar\":{\"outlinewidth\":0.0,\"ticks\":\"\"}}}],\"scattergeo\":[{\"marker\":{\"colorbar\":{\"outlinewidth\":0.0,\"ticks\":\"\"}}}],\"scattergl\":[{\"marker\":{\"colorbar\":{\"outlinewidth\":0.0,\"ticks\":\"\"}}}],\"scattermapbox\":[{\"marker\":{\"colorbar\":{\"outlinewidth\":0.0,\"ticks\":\"\"}}}],\"scatterpolar\":[{\"marker\":{\"colorbar\":{\"outlinewidth\":0.0,\"ticks\":\"\"}}}],\"scatterpolargl\":[{\"marker\":{\"colorbar\":{\"outlinewidth\":0.0,\"ticks\":\"\"}}}],\"scatterternary\":[{\"marker\":{\"colorbar\":{\"outlinewidth\":0.0,\"ticks\":\"\"}}}],\"surface\":[{\"colorbar\":{\"outlinewidth\":0.0,\"ticks\":\"\"},\"colorscale\":[[0.0,\"#0d0887\"],[0.1111111111111111,\"#46039f\"],[0.2222222222222222,\"#7201a8\"],[0.3333333333333333,\"#9c179e\"],[0.4444444444444444,\"#bd3786\"],[0.5555555555555556,\"#d8576b\"],[0.6666666666666666,\"#ed7953\"],[0.7777777777777778,\"#fb9f3a\"],[0.8888888888888888,\"#fdca26\"],[1.0,\"#f0f921\"]]}],\"table\":[{\"cells\":{\"fill\":{\"color\":\"rgba(235, 240, 248, 1.0)\"},\"line\":{\"color\":\"rgba(255, 255, 255, 1.0)\"}},\"header\":{\"fill\":{\"color\":\"rgba(200, 212, 227, 1.0)\"},\"line\":{\"color\":\"rgba(255, 255, 255, 1.0)\"}}}]}}};\r\n",
       "            var config = {\"responsive\":true};\r\n",
       "            Plotly.newPlot('6b9072e3-941c-4da4-9781-05bdf4a27e2c', data, layout, config);\r\n",
       "});\r\n",
       "            };\r\n",
       "            if ((typeof(requirejs) !==  typeof(Function)) || (typeof(requirejs.config) !== typeof(Function))) {\r\n",
       "                var script = document.createElement(\"script\");\r\n",
       "                script.setAttribute(\"src\", \"https://cdnjs.cloudflare.com/ajax/libs/require.js/2.3.6/require.min.js\");\r\n",
       "                script.onload = function(){\r\n",
       "                    renderPlotly_6b9072e3941c4da4978105bdf4a27e2c();\r\n",
       "                };\r\n",
       "                document.getElementsByTagName(\"head\")[0].appendChild(script);\r\n",
       "            }\r\n",
       "            else {\r\n",
       "                renderPlotly_6b9072e3941c4da4978105bdf4a27e2c();\r\n",
       "            }\r\n",
       "</script>\r\n",
       "\n",
       "    \n",
       "</div>    \n"
      ]
     },
     "metadata": {},
     "output_type": "display_data"
    }
   ],
   "source": [
    "typeOfCereal.ColumnKeys\n",
    "|> Seq.map (fun columnName ->\n",
    "    Chart.Column (\n",
    "        typeOfCereal\n",
    "        |> Frame.getCol columnName\n",
    "        |> Series.observations,\n",
    "        columnName\n",
    "    )\n",
    ")\n",
    "|> Chart.combine"
   ]
  },
  {
   "cell_type": "markdown",
   "metadata": {},
   "source": [
    "### **Question 8.** _(3 points)_\n",
    "* Create a stacked bar chart which shows how many of each type of cereal each manufacturer produces."
   ]
  },
  {
   "cell_type": "code",
   "execution_count": 302,
   "metadata": {
    "dotnet_interactive": {
     "language": "fsharp"
    },
    "vscode": {
     "languageId": "dotnet-interactive.fsharp"
    }
   },
   "outputs": [
    {
     "data": {
      "text/html": [
       "<div>\r\n",
       "<style scoped>,\r\n",
       "  .dataframe tbody tr th:only-of-type {\r\n",
       "    vertical-align: middle;\r\n",
       "  }\r\n",
       "  .dataframe tbody tr th {,\r\n",
       "    vertical-align: top\r\n",
       "  }\r\n",
       "  .dataframe thead th {\r\n",
       "    text-align: right;\r\n",
       "  }\r\n",
       "  .no-wrap {\r\n",
       "    white-space: nowrap;\r\n",
       "  }\r\n",
       "</style>\r\n",
       "<table border='1' class='dataframe'>\r\n",
       "<thead><th></th><th></th><th>name</th><th>mfr</th><th>type</th><th>shelf</th><th>rating</th><th>Type of Cereal</th><th>calories</th><th>protein</th><th>fat</th><th>sodium</th><th>fiber</th><th>carbo</th><th>sugars</th><th>potass</th><th>vitamins</th><th>cups</th><th>weight</th><th>healthiness</th></thead><thead><th></th><th></th><th>(string)</th><th>(string)</th><th>(string)</th><th>(int)</th><th>(Decimal)</th><th>(string)</th><th>(float)</th><th>(float)</th><th>(float)</th><th>(float)</th><th>(float)</th><th>(float)</th><th>(float)</th><th>(float)</th><th>(float)</th><th>(float)</th><th>(int)</th><th>(string)</th></thead>\r\n",
       "<tr><td><b>0</b></td><td class=\"no-wrap\">-></td><td>100% Bran</td><td>N</td><td>C</td><td>3</td><td>68.402973</td><td>Bran</td><td>70</td><td>4</td><td>1</td><td>130</td><td>10</td><td>5</td><td>6</td><td>280</td><td>25</td><td>0.33</td><td>1</td><td>healthy</td></tr><tr><td><b>1</b></td><td class=\"no-wrap\">-></td><td>100% Natural Bran</td><td>Q</td><td>C</td><td>3</td><td>33.983679</td><td>Bran</td><td>120</td><td>3</td><td>5</td><td>15</td><td>2</td><td>8</td><td>8</td><td>135</td><td>0</td><td>1</td><td>1</td><td>unhealthy</td></tr><tr><td><b>2</b></td><td class=\"no-wrap\">-></td><td>All-Bran</td><td>K</td><td>C</td><td>3</td><td>59.425505</td><td>Bran</td><td>70</td><td>4</td><td>1</td><td>260</td><td>9</td><td>7</td><td>5</td><td>320</td><td>25</td><td>0.33</td><td>1</td><td>unhealthy</td></tr><tr><td><b>3</b></td><td class=\"no-wrap\">-></td><td>All-Bran with Extra Fiber</td><td>K</td><td>C</td><td>3</td><td>93.704912</td><td>Bran</td><td>50</td><td>4</td><td>0</td><td>140</td><td>14</td><td>8</td><td>0</td><td>330</td><td>25</td><td>0.5</td><td>1</td><td>healthy</td></tr><tr><td><b>4</b></td><td class=\"no-wrap\">-></td><td>Almond Delight</td><td>R</td><td>C</td><td>3</td><td>34.384843</td><td>Nut</td><td>110</td><td>2</td><td>2</td><td>200</td><td>1</td><td>14</td><td>8</td><td>96.07792207792208</td><td>25</td><td>0.75</td><td>1</td><td>unhealthy</td></tr><tr><td><b>:</b></td><td class=\"no-wrap\"></td><td>...</td><td>...</td><td>...</td><td>...</td><td>...</td><td>...</td><td>...</td><td>...</td><td>...</td><td>...</td><td>...</td><td>...</td><td>...</td><td>...</td><td>...</td><td>...</td><td>...</td><td>...</td></tr><tr><td><b>72</b></td><td class=\"no-wrap\">-></td><td>Triples</td><td>G</td><td>C</td><td>3</td><td>39.106174</td><td>Other</td><td>110</td><td>2</td><td>1</td><td>250</td><td>0</td><td>21</td><td>3</td><td>60</td><td>25</td><td>0.75</td><td>1</td><td>unhealthy</td></tr><tr><td><b>73</b></td><td class=\"no-wrap\">-></td><td>Trix</td><td>G</td><td>C</td><td>2</td><td>27.753301</td><td>Other</td><td>110</td><td>1</td><td>1</td><td>140</td><td>0</td><td>13</td><td>12</td><td>25</td><td>25</td><td>1</td><td>1</td><td>unhealthy</td></tr><tr><td><b>74</b></td><td class=\"no-wrap\">-></td><td>Wheat Chex</td><td>R</td><td>C</td><td>1</td><td>49.787445</td><td>Wheat</td><td>100</td><td>3</td><td>1</td><td>230</td><td>3</td><td>17</td><td>3</td><td>115</td><td>25</td><td>0.67</td><td>1</td><td>unhealthy</td></tr><tr><td><b>75</b></td><td class=\"no-wrap\">-></td><td>Wheaties</td><td>G</td><td>C</td><td>1</td><td>51.592193</td><td>Wheat</td><td>100</td><td>3</td><td>1</td><td>200</td><td>3</td><td>17</td><td>3</td><td>110</td><td>25</td><td>1</td><td>1</td><td>unhealthy</td></tr><tr><td><b>76</b></td><td class=\"no-wrap\">-></td><td>Wheaties Honey Gold</td><td>G</td><td>C</td><td>1</td><td>36.187559</td><td>Wheat</td><td>110</td><td>2</td><td>1</td><td>200</td><td>1</td><td>16</td><td>8</td><td>60</td><td>25</td><td>0.75</td><td>1</td><td>unhealthy</td></tr>\r\n",
       "</table>\r\n",
       "<p><b>77</b> rows x <b>18</b> columns</p><p><b>0</b> missing values</p>\r\n",
       "</div>\r\n"
      ]
     },
     "metadata": {},
     "output_type": "display_data"
    }
   ],
   "source": [
    "df"
   ]
  },
  {
   "cell_type": "code",
   "execution_count": 303,
   "metadata": {
    "dotnet_interactive": {
     "language": "fsharp"
    },
    "vscode": {
     "languageId": "dotnet-interactive.fsharp"
    }
   },
   "outputs": [
    {
     "data": {
      "text/html": [
       "<div>\r\n",
       "<style scoped>,\r\n",
       "  .dataframe tbody tr th:only-of-type {\r\n",
       "    vertical-align: middle;\r\n",
       "  }\r\n",
       "  .dataframe tbody tr th {,\r\n",
       "    vertical-align: top\r\n",
       "  }\r\n",
       "  .dataframe thead th {\r\n",
       "    text-align: right;\r\n",
       "  }\r\n",
       "  .no-wrap {\r\n",
       "    white-space: nowrap;\r\n",
       "  }\r\n",
       "</style>\r\n",
       "<table border='1' class='dataframe'>\r\n",
       "<thead><th></th><th></th><th>mfr</th><th>Type of Cereal</th><th>type</th></thead><thead><th></th><th></th><th>(string)</th><th>(string)</th><th>(int)</th></thead>\r\n",
       "<tr><td><b>0</b></td><td class=\"no-wrap\">-></td><td>N</td><td>Bran</td><td>2</td></tr><tr><td><b>1</b></td><td class=\"no-wrap\">-></td><td>Q</td><td>Bran</td><td>1</td></tr><tr><td><b>2</b></td><td class=\"no-wrap\">-></td><td>K</td><td>Bran</td><td>5</td></tr><tr><td><b>3</b></td><td class=\"no-wrap\">-></td><td>R</td><td>Nut</td><td>3</td></tr><tr><td><b>4</b></td><td class=\"no-wrap\">-></td><td>G</td><td>Other</td><td>14</td></tr><tr><td><b>:</b></td><td class=\"no-wrap\"></td><td>...</td><td>...</td><td>...</td></tr><tr><td><b>25</b></td><td class=\"no-wrap\">-></td><td>G</td><td>Bran</td><td>2</td></tr><tr><td><b>26</b></td><td class=\"no-wrap\">-></td><td>R</td><td>Rice</td><td>1</td></tr><tr><td><b>27</b></td><td class=\"no-wrap\">-></td><td>K</td><td>Rice</td><td>1</td></tr><tr><td><b>28</b></td><td class=\"no-wrap\">-></td><td>G</td><td>Corn</td><td>1</td></tr><tr><td><b>29</b></td><td class=\"no-wrap\">-></td><td>R</td><td>Wheat</td><td>1</td></tr>\r\n",
       "</table>\r\n",
       "<p><b>30</b> rows x <b>3</b> columns</p><p><b>0</b> missing values</p>\r\n",
       "</div>\r\n"
      ]
     },
     "metadata": {},
     "output_type": "display_data"
    }
   ],
   "source": [
    "let mfrTypeDf =\n",
    "    df\n",
    "    |> Frame.aggregateRowsBy [\"mfr\"; \"Type of Cereal\"] [\"type\"] Stats.count\n",
    "mfrTypeDf"
   ]
  },
  {
   "cell_type": "code",
   "execution_count": 304,
   "metadata": {
    "dotnet_interactive": {
     "language": "fsharp"
    },
    "vscode": {
     "languageId": "dotnet-interactive.fsharp"
    }
   },
   "outputs": [
    {
     "data": {
      "text/html": [
       "\n",
       "<div>\n",
       "    <div id=\"aa6562d6-34c0-44ac-9c8b-1385b78c492d\"><!-- Plotly chart will be drawn inside this DIV --></div>\r\n",
       "<script type=\"text/javascript\">\r\n",
       "\r\n",
       "            var renderPlotly_aa6562d634c044ac9c8b1385b78c492d = function() {\r\n",
       "            var fsharpPlotlyRequire = requirejs.config({context:'fsharp-plotly',paths:{plotly:'https://cdn.plot.ly/plotly-2.6.3.min'}}) || require;\r\n",
       "            fsharpPlotlyRequire(['plotly'], function(Plotly) {\r\n",
       "\r\n",
       "            var data = [{\"type\":\"bar\",\"name\":\"Bran\",\"x\":[\"N\",\"Q\",\"K\",\"R\",\"P\",\"G\"],\"y\":[2,1,5,1,2,2],\"orientation\":\"v\",\"marker\":{\"pattern\":{}}},{\"type\":\"bar\",\"name\":\"Nut\",\"x\":[\"R\",\"P\",\"G\",\"K\"],\"y\":[3,4,1,2],\"orientation\":\"v\",\"marker\":{\"pattern\":{}}},{\"type\":\"bar\",\"name\":\"Other\",\"x\":[\"G\",\"K\",\"R\",\"P\",\"Q\",\"A\"],\"y\":[14,9,1,3,4,1],\"orientation\":\"v\",\"marker\":{\"pattern\":{}}},{\"type\":\"bar\",\"name\":\"Crunch\",\"x\":[\"Q\",\"G\",\"K\"],\"y\":[1,1,2],\"orientation\":\"v\",\"marker\":{\"pattern\":{}}},{\"type\":\"bar\",\"name\":\"Corn\",\"x\":[\"R\",\"K\",\"G\"],\"y\":[1,2,1],\"orientation\":\"v\",\"marker\":{\"pattern\":{}}},{\"type\":\"bar\",\"name\":\"Wheat\",\"x\":[\"N\",\"G\",\"K\",\"Q\",\"R\"],\"y\":[4,3,2,1,1],\"orientation\":\"v\",\"marker\":{\"pattern\":{}}},{\"type\":\"bar\",\"name\":\"Rice\",\"x\":[\"Q\",\"R\",\"K\"],\"y\":[1,1,1],\"orientation\":\"v\",\"marker\":{\"pattern\":{}}}];\r\n",
       "            var layout = {\"width\":600,\"height\":600,\"template\":{\"layout\":{\"title\":{\"x\":0.05},\"font\":{\"color\":\"rgba(42, 63, 95, 1.0)\"},\"paper_bgcolor\":\"rgba(255, 255, 255, 1.0)\",\"plot_bgcolor\":\"rgba(229, 236, 246, 1.0)\",\"autotypenumbers\":\"strict\",\"colorscale\":{\"diverging\":[[0.0,\"#8e0152\"],[0.1,\"#c51b7d\"],[0.2,\"#de77ae\"],[0.3,\"#f1b6da\"],[0.4,\"#fde0ef\"],[0.5,\"#f7f7f7\"],[0.6,\"#e6f5d0\"],[0.7,\"#b8e186\"],[0.8,\"#7fbc41\"],[0.9,\"#4d9221\"],[1.0,\"#276419\"]],\"sequential\":[[0.0,\"#0d0887\"],[0.1111111111111111,\"#46039f\"],[0.2222222222222222,\"#7201a8\"],[0.3333333333333333,\"#9c179e\"],[0.4444444444444444,\"#bd3786\"],[0.5555555555555556,\"#d8576b\"],[0.6666666666666666,\"#ed7953\"],[0.7777777777777778,\"#fb9f3a\"],[0.8888888888888888,\"#fdca26\"],[1.0,\"#f0f921\"]],\"sequentialminus\":[[0.0,\"#0d0887\"],[0.1111111111111111,\"#46039f\"],[0.2222222222222222,\"#7201a8\"],[0.3333333333333333,\"#9c179e\"],[0.4444444444444444,\"#bd3786\"],[0.5555555555555556,\"#d8576b\"],[0.6666666666666666,\"#ed7953\"],[0.7777777777777778,\"#fb9f3a\"],[0.8888888888888888,\"#fdca26\"],[1.0,\"#f0f921\"]]},\"hovermode\":\"closest\",\"hoverlabel\":{\"align\":\"left\"},\"coloraxis\":{\"colorbar\":{\"outlinewidth\":0.0,\"ticks\":\"\"}},\"geo\":{\"showland\":true,\"landcolor\":\"rgba(229, 236, 246, 1.0)\",\"showlakes\":true,\"lakecolor\":\"rgba(255, 255, 255, 1.0)\",\"subunitcolor\":\"rgba(255, 255, 255, 1.0)\",\"bgcolor\":\"rgba(255, 255, 255, 1.0)\"},\"mapbox\":{\"style\":\"light\"},\"polar\":{\"bgcolor\":\"rgba(229, 236, 246, 1.0)\",\"radialaxis\":{\"linecolor\":\"rgba(255, 255, 255, 1.0)\",\"gridcolor\":\"rgba(255, 255, 255, 1.0)\",\"ticks\":\"\"},\"angularaxis\":{\"linecolor\":\"rgba(255, 255, 255, 1.0)\",\"gridcolor\":\"rgba(255, 255, 255, 1.0)\",\"ticks\":\"\"}},\"scene\":{\"xaxis\":{\"ticks\":\"\",\"linecolor\":\"rgba(255, 255, 255, 1.0)\",\"gridcolor\":\"rgba(255, 255, 255, 1.0)\",\"gridwidth\":2.0,\"zerolinecolor\":\"rgba(255, 255, 255, 1.0)\",\"backgroundcolor\":\"rgba(229, 236, 246, 1.0)\",\"showbackground\":true},\"yaxis\":{\"ticks\":\"\",\"linecolor\":\"rgba(255, 255, 255, 1.0)\",\"gridcolor\":\"rgba(255, 255, 255, 1.0)\",\"gridwidth\":2.0,\"zerolinecolor\":\"rgba(255, 255, 255, 1.0)\",\"backgroundcolor\":\"rgba(229, 236, 246, 1.0)\",\"showbackground\":true},\"zaxis\":{\"ticks\":\"\",\"linecolor\":\"rgba(255, 255, 255, 1.0)\",\"gridcolor\":\"rgba(255, 255, 255, 1.0)\",\"gridwidth\":2.0,\"zerolinecolor\":\"rgba(255, 255, 255, 1.0)\",\"backgroundcolor\":\"rgba(229, 236, 246, 1.0)\",\"showbackground\":true}},\"ternary\":{\"aaxis\":{\"ticks\":\"\",\"linecolor\":\"rgba(255, 255, 255, 1.0)\",\"gridcolor\":\"rgba(255, 255, 255, 1.0)\"},\"baxis\":{\"ticks\":\"\",\"linecolor\":\"rgba(255, 255, 255, 1.0)\",\"gridcolor\":\"rgba(255, 255, 255, 1.0)\"},\"caxis\":{\"ticks\":\"\",\"linecolor\":\"rgba(255, 255, 255, 1.0)\",\"gridcolor\":\"rgba(255, 255, 255, 1.0)\"},\"bgcolor\":\"rgba(229, 236, 246, 1.0)\"},\"xaxis\":{\"title\":{\"standoff\":15},\"ticks\":\"\",\"automargin\":true,\"linecolor\":\"rgba(255, 255, 255, 1.0)\",\"gridcolor\":\"rgba(255, 255, 255, 1.0)\",\"zerolinecolor\":\"rgba(255, 255, 255, 1.0)\",\"zerolinewidth\":2.0},\"yaxis\":{\"title\":{\"standoff\":15},\"ticks\":\"\",\"automargin\":true,\"linecolor\":\"rgba(255, 255, 255, 1.0)\",\"gridcolor\":\"rgba(255, 255, 255, 1.0)\",\"zerolinecolor\":\"rgba(255, 255, 255, 1.0)\",\"zerolinewidth\":2.0},\"annotationdefaults\":{\"arrowcolor\":\"#2a3f5f\",\"arrowhead\":0,\"arrowwidth\":1},\"shapedefaults\":{\"line\":{\"color\":\"rgba(42, 63, 95, 1.0)\"}},\"colorway\":[\"rgba(99, 110, 250, 1.0)\",\"rgba(239, 85, 59, 1.0)\",\"rgba(0, 204, 150, 1.0)\",\"rgba(171, 99, 250, 1.0)\",\"rgba(255, 161, 90, 1.0)\",\"rgba(25, 211, 243, 1.0)\",\"rgba(255, 102, 146, 1.0)\",\"rgba(182, 232, 128, 1.0)\",\"rgba(255, 151, 255, 1.0)\",\"rgba(254, 203, 82, 1.0)\"]},\"data\":{\"bar\":[{\"marker\":{\"line\":{\"color\":\"rgba(229, 236, 246, 1.0)\",\"width\":0.5},\"pattern\":{\"fillmode\":\"overlay\",\"size\":10,\"solidity\":0.2}},\"error_x\":{\"color\":\"rgba(42, 63, 95, 1.0)\"},\"error_y\":{\"color\":\"rgba(42, 63, 95, 1.0)\"}}],\"barpolar\":[{\"marker\":{\"line\":{\"color\":\"rgba(229, 236, 246, 1.0)\",\"width\":0.5},\"pattern\":{\"fillmode\":\"overlay\",\"size\":10,\"solidity\":0.2}}}],\"carpet\":[{\"aaxis\":{\"linecolor\":\"rgba(255, 255, 255, 1.0)\",\"gridcolor\":\"rgba(255, 255, 255, 1.0)\",\"endlinecolor\":\"rgba(42, 63, 95, 1.0)\",\"minorgridcolor\":\"rgba(255, 255, 255, 1.0)\",\"startlinecolor\":\"rgba(42, 63, 95, 1.0)\"},\"baxis\":{\"linecolor\":\"rgba(255, 255, 255, 1.0)\",\"gridcolor\":\"rgba(255, 255, 255, 1.0)\",\"endlinecolor\":\"rgba(42, 63, 95, 1.0)\",\"minorgridcolor\":\"rgba(255, 255, 255, 1.0)\",\"startlinecolor\":\"rgba(42, 63, 95, 1.0)\"}}],\"choropleth\":[{\"colorbar\":{\"outlinewidth\":0.0,\"ticks\":\"\"},\"colorscale\":[[0.0,\"#0d0887\"],[0.1111111111111111,\"#46039f\"],[0.2222222222222222,\"#7201a8\"],[0.3333333333333333,\"#9c179e\"],[0.4444444444444444,\"#bd3786\"],[0.5555555555555556,\"#d8576b\"],[0.6666666666666666,\"#ed7953\"],[0.7777777777777778,\"#fb9f3a\"],[0.8888888888888888,\"#fdca26\"],[1.0,\"#f0f921\"]]}],\"contour\":[{\"colorbar\":{\"outlinewidth\":0.0,\"ticks\":\"\"},\"colorscale\":[[0.0,\"#0d0887\"],[0.1111111111111111,\"#46039f\"],[0.2222222222222222,\"#7201a8\"],[0.3333333333333333,\"#9c179e\"],[0.4444444444444444,\"#bd3786\"],[0.5555555555555556,\"#d8576b\"],[0.6666666666666666,\"#ed7953\"],[0.7777777777777778,\"#fb9f3a\"],[0.8888888888888888,\"#fdca26\"],[1.0,\"#f0f921\"]]}],\"contourcarpet\":[{\"colorbar\":{\"outlinewidth\":0.0,\"ticks\":\"\"}}],\"heatmap\":[{\"colorbar\":{\"outlinewidth\":0.0,\"ticks\":\"\"},\"colorscale\":[[0.0,\"#0d0887\"],[0.1111111111111111,\"#46039f\"],[0.2222222222222222,\"#7201a8\"],[0.3333333333333333,\"#9c179e\"],[0.4444444444444444,\"#bd3786\"],[0.5555555555555556,\"#d8576b\"],[0.6666666666666666,\"#ed7953\"],[0.7777777777777778,\"#fb9f3a\"],[0.8888888888888888,\"#fdca26\"],[1.0,\"#f0f921\"]]}],\"heatmapgl\":[{\"colorbar\":{\"outlinewidth\":0.0,\"ticks\":\"\"},\"colorscale\":[[0.0,\"#0d0887\"],[0.1111111111111111,\"#46039f\"],[0.2222222222222222,\"#7201a8\"],[0.3333333333333333,\"#9c179e\"],[0.4444444444444444,\"#bd3786\"],[0.5555555555555556,\"#d8576b\"],[0.6666666666666666,\"#ed7953\"],[0.7777777777777778,\"#fb9f3a\"],[0.8888888888888888,\"#fdca26\"],[1.0,\"#f0f921\"]]}],\"histogram\":[{\"marker\":{\"pattern\":{\"fillmode\":\"overlay\",\"size\":10,\"solidity\":0.2}}}],\"histogram2d\":[{\"colorbar\":{\"outlinewidth\":0.0,\"ticks\":\"\"},\"colorscale\":[[0.0,\"#0d0887\"],[0.1111111111111111,\"#46039f\"],[0.2222222222222222,\"#7201a8\"],[0.3333333333333333,\"#9c179e\"],[0.4444444444444444,\"#bd3786\"],[0.5555555555555556,\"#d8576b\"],[0.6666666666666666,\"#ed7953\"],[0.7777777777777778,\"#fb9f3a\"],[0.8888888888888888,\"#fdca26\"],[1.0,\"#f0f921\"]]}],\"histogram2dcontour\":[{\"colorbar\":{\"outlinewidth\":0.0,\"ticks\":\"\"},\"colorscale\":[[0.0,\"#0d0887\"],[0.1111111111111111,\"#46039f\"],[0.2222222222222222,\"#7201a8\"],[0.3333333333333333,\"#9c179e\"],[0.4444444444444444,\"#bd3786\"],[0.5555555555555556,\"#d8576b\"],[0.6666666666666666,\"#ed7953\"],[0.7777777777777778,\"#fb9f3a\"],[0.8888888888888888,\"#fdca26\"],[1.0,\"#f0f921\"]]}],\"mesh3d\":[{\"colorbar\":{\"outlinewidth\":0.0,\"ticks\":\"\"}}],\"parcoords\":[{\"line\":{\"colorbar\":{\"outlinewidth\":0.0,\"ticks\":\"\"}}}],\"pie\":[{\"automargin\":true}],\"scatter\":[{\"marker\":{\"colorbar\":{\"outlinewidth\":0.0,\"ticks\":\"\"}}}],\"scatter3d\":[{\"marker\":{\"colorbar\":{\"outlinewidth\":0.0,\"ticks\":\"\"}},\"line\":{\"colorbar\":{\"outlinewidth\":0.0,\"ticks\":\"\"}}}],\"scattercarpet\":[{\"marker\":{\"colorbar\":{\"outlinewidth\":0.0,\"ticks\":\"\"}}}],\"scattergeo\":[{\"marker\":{\"colorbar\":{\"outlinewidth\":0.0,\"ticks\":\"\"}}}],\"scattergl\":[{\"marker\":{\"colorbar\":{\"outlinewidth\":0.0,\"ticks\":\"\"}}}],\"scattermapbox\":[{\"marker\":{\"colorbar\":{\"outlinewidth\":0.0,\"ticks\":\"\"}}}],\"scatterpolar\":[{\"marker\":{\"colorbar\":{\"outlinewidth\":0.0,\"ticks\":\"\"}}}],\"scatterpolargl\":[{\"marker\":{\"colorbar\":{\"outlinewidth\":0.0,\"ticks\":\"\"}}}],\"scatterternary\":[{\"marker\":{\"colorbar\":{\"outlinewidth\":0.0,\"ticks\":\"\"}}}],\"surface\":[{\"colorbar\":{\"outlinewidth\":0.0,\"ticks\":\"\"},\"colorscale\":[[0.0,\"#0d0887\"],[0.1111111111111111,\"#46039f\"],[0.2222222222222222,\"#7201a8\"],[0.3333333333333333,\"#9c179e\"],[0.4444444444444444,\"#bd3786\"],[0.5555555555555556,\"#d8576b\"],[0.6666666666666666,\"#ed7953\"],[0.7777777777777778,\"#fb9f3a\"],[0.8888888888888888,\"#fdca26\"],[1.0,\"#f0f921\"]]}],\"table\":[{\"cells\":{\"fill\":{\"color\":\"rgba(235, 240, 248, 1.0)\"},\"line\":{\"color\":\"rgba(255, 255, 255, 1.0)\"}},\"header\":{\"fill\":{\"color\":\"rgba(200, 212, 227, 1.0)\"},\"line\":{\"color\":\"rgba(255, 255, 255, 1.0)\"}}}]}},\"barmode\":\"stack\"};\r\n",
       "            var config = {\"responsive\":true};\r\n",
       "            Plotly.newPlot('aa6562d6-34c0-44ac-9c8b-1385b78c492d', data, layout, config);\r\n",
       "});\r\n",
       "            };\r\n",
       "            if ((typeof(requirejs) !==  typeof(Function)) || (typeof(requirejs.config) !== typeof(Function))) {\r\n",
       "                var script = document.createElement(\"script\");\r\n",
       "                script.setAttribute(\"src\", \"https://cdnjs.cloudflare.com/ajax/libs/require.js/2.3.6/require.min.js\");\r\n",
       "                script.onload = function(){\r\n",
       "                    renderPlotly_aa6562d634c044ac9c8b1385b78c492d();\r\n",
       "                };\r\n",
       "                document.getElementsByTagName(\"head\")[0].appendChild(script);\r\n",
       "            }\r\n",
       "            else {\r\n",
       "                renderPlotly_aa6562d634c044ac9c8b1385b78c492d();\r\n",
       "            }\r\n",
       "</script>\r\n",
       "\n",
       "    \n",
       "</div>    \n"
      ]
     },
     "metadata": {},
     "output_type": "display_data"
    }
   ],
   "source": [
    "(\n",
    "    (mfrTypeDf.GetColumn<string> \"Type of Cereal\").Values,\n",
    "    (mfrTypeDf.GetColumn<string> \"mfr\").Values,\n",
    "    (mfrTypeDf.GetColumn<int> \"type\").Values\n",
    ")\n",
    "|||> Seq.zip3\n",
    "|> Seq.groupBy (fun (toc, _, _) -> toc)\n",
    "|> Seq.map (fun (toc, g)->\n",
    "    // https://plotly.net/02_1_bar-and-column-charts.html\n",
    "    Chart.StackedColumn (\n",
    "        g |> Seq.map Pair.get3Of3, // values\n",
    "        g |> Seq.map Pair.get2Of3, // keys\n",
    "        Name = toc\n",
    "    )\n",
    ")\n",
    "|> Chart.combine"
   ]
  },
  {
   "cell_type": "markdown",
   "metadata": {},
   "source": [
    "### **Question 9.** _(3 points)_\n",
    "* Create a 3-dimensional scatterplot which shows the relationship between rating and calories; the 3-rd dimension should be reflected in the color of the dots and should highlight whether the cereal is categorized as healthy or unhealthy."
   ]
  },
  {
   "cell_type": "code",
   "execution_count": 305,
   "metadata": {
    "dotnet_interactive": {
     "language": "fsharp"
    },
    "vscode": {
     "languageId": "dotnet-interactive.fsharp"
    }
   },
   "outputs": [
    {
     "data": {
      "text/html": [
       "\n",
       "<div>\n",
       "    <div id=\"7f2f9ca1-d33d-4323-bd88-883e978ec282\"><!-- Plotly chart will be drawn inside this DIV --></div>\r\n",
       "<script type=\"text/javascript\">\r\n",
       "\r\n",
       "            var renderPlotly_7f2f9ca1d33d4323bd88883e978ec282 = function() {\r\n",
       "            var fsharpPlotlyRequire = requirejs.config({context:'fsharp-plotly',paths:{plotly:'https://cdn.plot.ly/plotly-2.6.3.min'}}) || require;\r\n",
       "            fsharpPlotlyRequire(['plotly'], function(Plotly) {\r\n",
       "\r\n",
       "            var data = [{\"type\":\"scatter\",\"name\":\"calories vs rating\",\"showlegend\":true,\"mode\":\"markers\",\"x\":[68.402973,33.983679,59.425505,93.704912,34.384843,29.509541,33.174094,37.038562,49.120253,53.313813,18.042851,50.764999,19.823573,40.400208,22.736446,41.445019,45.863324,35.782791,22.396513,40.448772,64.533816,46.895644,36.176196,44.330856,32.207582,31.435973,58.345141,40.917047,41.015492,28.025765,35.252444,23.804043,52.076897,53.371007,45.811716,21.871292,31.072217,28.742414,36.523683,36.471512,39.241114,45.328074,26.734515,54.850917,37.136863,34.139765,30.313351,40.105965,29.924285,40.69232,59.642837,30.450843,37.840594,41.50354,60.756112,63.005645,49.511874,50.828392,39.259197,39.7034,55.333142,41.998933,40.560159,68.235885,74.472949,72.801787,31.230054,53.131324,59.363993,38.839746,28.592785,46.658844,39.106174,27.753301,49.787445,51.592193,36.187559],\"y\":[70.0,120.0,70.0,50.0,110.0,110.0,110.0,97.74436090225564,90.0,90.0,120.0,110.0,120.0,110.0,110.0,110.0,100.0,110.0,110.0,110.0,100.0,110.0,100.0,100.0,110.0,110.0,100.0,96.0,90.22556390977444,110.0,100.0,110.0,100.0,110.0,120.0,120.0,110.0,110.0,110.0,107.6923076923077,110.0,100.0,110.0,100.0,150.0,150.0,106.66666666666667,100.0,120.0,105.26315789473684,90.0,104.0,90.22556390977444,100.0,100.0,100.0,100.0,100.0,90.22556390977444,100.0,90.0,110.0,110.0,96.3855421686747,90.0,90.0,110.0,110.0,90.0,110.0,93.33333333333333,100.0,110.0,110.0,100.0,100.0,110.0],\"marker\":{},\"line\":{}},{\"type\":\"scatter\",\"name\":\"Reg. calories vs rating\",\"showlegend\":true,\"mode\":\"lines\",\"x\":[18.042851,19.042851,20.042851,21.042851,22.042851,23.042851,24.042851,25.042851,26.042851,27.042851,28.042851,29.042851,30.042851,31.042851,32.042851,33.042851,34.042851,35.042851,36.042851,37.042851,38.042851,39.042851,40.042851,41.042851,42.042851,43.042851,44.042851,45.042851,46.042851,47.042851,48.042851,49.042851,50.042851,51.042851,52.042851,53.042851,54.042851,55.042851,56.042851,57.042851,58.042851,59.042851,60.042851,61.042851,62.042851,63.042851,64.042851,65.042851,66.042851,67.042851,68.042851,69.042851,70.042851,71.042851,72.042851,73.042851,74.042851,75.042851,76.042851,77.042851,78.042851,79.042851,80.042851,81.042851,82.042851,83.042851,84.042851,85.042851,86.042851,87.042851,88.042851,89.042851,90.042851,91.042851,92.042851,93.042851],\"y\":[119.72575754739371,119.0869669473873,118.44817634738088,117.80938574737446,117.17059514736805,116.53180454736163,115.89301394735521,115.25422334734881,114.6154327473424,113.97664214733598,113.33785154732956,112.69906094732315,112.06027034731673,111.42147974731031,110.7826891473039,110.14389854729748,109.50510794729108,108.86631734728466,108.22752674727825,107.58873614727183,106.94994554726541,106.31115494725901,105.6723643472526,105.03357374724618,104.39478314723976,103.75599254723335,103.11720194722693,102.47841134722051,101.8396207472141,101.20083014720768,100.56203954720127,99.92324894719486,99.28445834718845,98.64566774718203,98.00687714717562,97.36808654716921,96.7292959471628,96.09050534715638,95.45171474714996,94.81292414714355,94.17413354713713,93.53534294713072,92.8965523471243,92.25776174711788,91.61897114711147,90.98018054710505,90.34138994709863,89.70259934709223,89.06380874708582,88.4250181470794,87.786227547073,87.14743694706658,86.50864634706016,85.86985574705375,85.23106514704733,84.59227454704092,83.9534839470345,83.31469334702808,82.67590274702167,82.03711214701525,81.39832154700883,80.75953094700242,80.12074034699602,79.4819497469896,78.84315914698318,78.20436854697677,77.56557794697036,76.92678734696395,76.28799674695753,75.64920614695112,75.0104155469447,74.37162494693828,73.73283434693187,73.09404374692545,72.45525314691903,71.81646254691262],\"marker\":{},\"line\":{}}];\r\n",
       "            var layout = {\"width\":600,\"height\":600,\"template\":{\"layout\":{\"title\":{\"x\":0.05},\"font\":{\"color\":\"rgba(42, 63, 95, 1.0)\"},\"paper_bgcolor\":\"rgba(255, 255, 255, 1.0)\",\"plot_bgcolor\":\"rgba(229, 236, 246, 1.0)\",\"autotypenumbers\":\"strict\",\"colorscale\":{\"diverging\":[[0.0,\"#8e0152\"],[0.1,\"#c51b7d\"],[0.2,\"#de77ae\"],[0.3,\"#f1b6da\"],[0.4,\"#fde0ef\"],[0.5,\"#f7f7f7\"],[0.6,\"#e6f5d0\"],[0.7,\"#b8e186\"],[0.8,\"#7fbc41\"],[0.9,\"#4d9221\"],[1.0,\"#276419\"]],\"sequential\":[[0.0,\"#0d0887\"],[0.1111111111111111,\"#46039f\"],[0.2222222222222222,\"#7201a8\"],[0.3333333333333333,\"#9c179e\"],[0.4444444444444444,\"#bd3786\"],[0.5555555555555556,\"#d8576b\"],[0.6666666666666666,\"#ed7953\"],[0.7777777777777778,\"#fb9f3a\"],[0.8888888888888888,\"#fdca26\"],[1.0,\"#f0f921\"]],\"sequentialminus\":[[0.0,\"#0d0887\"],[0.1111111111111111,\"#46039f\"],[0.2222222222222222,\"#7201a8\"],[0.3333333333333333,\"#9c179e\"],[0.4444444444444444,\"#bd3786\"],[0.5555555555555556,\"#d8576b\"],[0.6666666666666666,\"#ed7953\"],[0.7777777777777778,\"#fb9f3a\"],[0.8888888888888888,\"#fdca26\"],[1.0,\"#f0f921\"]]},\"hovermode\":\"closest\",\"hoverlabel\":{\"align\":\"left\"},\"coloraxis\":{\"colorbar\":{\"outlinewidth\":0.0,\"ticks\":\"\"}},\"geo\":{\"showland\":true,\"landcolor\":\"rgba(229, 236, 246, 1.0)\",\"showlakes\":true,\"lakecolor\":\"rgba(255, 255, 255, 1.0)\",\"subunitcolor\":\"rgba(255, 255, 255, 1.0)\",\"bgcolor\":\"rgba(255, 255, 255, 1.0)\"},\"mapbox\":{\"style\":\"light\"},\"polar\":{\"bgcolor\":\"rgba(229, 236, 246, 1.0)\",\"radialaxis\":{\"linecolor\":\"rgba(255, 255, 255, 1.0)\",\"gridcolor\":\"rgba(255, 255, 255, 1.0)\",\"ticks\":\"\"},\"angularaxis\":{\"linecolor\":\"rgba(255, 255, 255, 1.0)\",\"gridcolor\":\"rgba(255, 255, 255, 1.0)\",\"ticks\":\"\"}},\"scene\":{\"xaxis\":{\"ticks\":\"\",\"linecolor\":\"rgba(255, 255, 255, 1.0)\",\"gridcolor\":\"rgba(255, 255, 255, 1.0)\",\"gridwidth\":2.0,\"zerolinecolor\":\"rgba(255, 255, 255, 1.0)\",\"backgroundcolor\":\"rgba(229, 236, 246, 1.0)\",\"showbackground\":true},\"yaxis\":{\"ticks\":\"\",\"linecolor\":\"rgba(255, 255, 255, 1.0)\",\"gridcolor\":\"rgba(255, 255, 255, 1.0)\",\"gridwidth\":2.0,\"zerolinecolor\":\"rgba(255, 255, 255, 1.0)\",\"backgroundcolor\":\"rgba(229, 236, 246, 1.0)\",\"showbackground\":true},\"zaxis\":{\"ticks\":\"\",\"linecolor\":\"rgba(255, 255, 255, 1.0)\",\"gridcolor\":\"rgba(255, 255, 255, 1.0)\",\"gridwidth\":2.0,\"zerolinecolor\":\"rgba(255, 255, 255, 1.0)\",\"backgroundcolor\":\"rgba(229, 236, 246, 1.0)\",\"showbackground\":true}},\"ternary\":{\"aaxis\":{\"ticks\":\"\",\"linecolor\":\"rgba(255, 255, 255, 1.0)\",\"gridcolor\":\"rgba(255, 255, 255, 1.0)\"},\"baxis\":{\"ticks\":\"\",\"linecolor\":\"rgba(255, 255, 255, 1.0)\",\"gridcolor\":\"rgba(255, 255, 255, 1.0)\"},\"caxis\":{\"ticks\":\"\",\"linecolor\":\"rgba(255, 255, 255, 1.0)\",\"gridcolor\":\"rgba(255, 255, 255, 1.0)\"},\"bgcolor\":\"rgba(229, 236, 246, 1.0)\"},\"xaxis\":{\"title\":{\"standoff\":15},\"ticks\":\"\",\"automargin\":true,\"linecolor\":\"rgba(255, 255, 255, 1.0)\",\"gridcolor\":\"rgba(255, 255, 255, 1.0)\",\"zerolinecolor\":\"rgba(255, 255, 255, 1.0)\",\"zerolinewidth\":2.0},\"yaxis\":{\"title\":{\"standoff\":15},\"ticks\":\"\",\"automargin\":true,\"linecolor\":\"rgba(255, 255, 255, 1.0)\",\"gridcolor\":\"rgba(255, 255, 255, 1.0)\",\"zerolinecolor\":\"rgba(255, 255, 255, 1.0)\",\"zerolinewidth\":2.0},\"annotationdefaults\":{\"arrowcolor\":\"#2a3f5f\",\"arrowhead\":0,\"arrowwidth\":1},\"shapedefaults\":{\"line\":{\"color\":\"rgba(42, 63, 95, 1.0)\"}},\"colorway\":[\"rgba(99, 110, 250, 1.0)\",\"rgba(239, 85, 59, 1.0)\",\"rgba(0, 204, 150, 1.0)\",\"rgba(171, 99, 250, 1.0)\",\"rgba(255, 161, 90, 1.0)\",\"rgba(25, 211, 243, 1.0)\",\"rgba(255, 102, 146, 1.0)\",\"rgba(182, 232, 128, 1.0)\",\"rgba(255, 151, 255, 1.0)\",\"rgba(254, 203, 82, 1.0)\"]},\"data\":{\"bar\":[{\"marker\":{\"line\":{\"color\":\"rgba(229, 236, 246, 1.0)\",\"width\":0.5},\"pattern\":{\"fillmode\":\"overlay\",\"size\":10,\"solidity\":0.2}},\"error_x\":{\"color\":\"rgba(42, 63, 95, 1.0)\"},\"error_y\":{\"color\":\"rgba(42, 63, 95, 1.0)\"}}],\"barpolar\":[{\"marker\":{\"line\":{\"color\":\"rgba(229, 236, 246, 1.0)\",\"width\":0.5},\"pattern\":{\"fillmode\":\"overlay\",\"size\":10,\"solidity\":0.2}}}],\"carpet\":[{\"aaxis\":{\"linecolor\":\"rgba(255, 255, 255, 1.0)\",\"gridcolor\":\"rgba(255, 255, 255, 1.0)\",\"endlinecolor\":\"rgba(42, 63, 95, 1.0)\",\"minorgridcolor\":\"rgba(255, 255, 255, 1.0)\",\"startlinecolor\":\"rgba(42, 63, 95, 1.0)\"},\"baxis\":{\"linecolor\":\"rgba(255, 255, 255, 1.0)\",\"gridcolor\":\"rgba(255, 255, 255, 1.0)\",\"endlinecolor\":\"rgba(42, 63, 95, 1.0)\",\"minorgridcolor\":\"rgba(255, 255, 255, 1.0)\",\"startlinecolor\":\"rgba(42, 63, 95, 1.0)\"}}],\"choropleth\":[{\"colorbar\":{\"outlinewidth\":0.0,\"ticks\":\"\"},\"colorscale\":[[0.0,\"#0d0887\"],[0.1111111111111111,\"#46039f\"],[0.2222222222222222,\"#7201a8\"],[0.3333333333333333,\"#9c179e\"],[0.4444444444444444,\"#bd3786\"],[0.5555555555555556,\"#d8576b\"],[0.6666666666666666,\"#ed7953\"],[0.7777777777777778,\"#fb9f3a\"],[0.8888888888888888,\"#fdca26\"],[1.0,\"#f0f921\"]]}],\"contour\":[{\"colorbar\":{\"outlinewidth\":0.0,\"ticks\":\"\"},\"colorscale\":[[0.0,\"#0d0887\"],[0.1111111111111111,\"#46039f\"],[0.2222222222222222,\"#7201a8\"],[0.3333333333333333,\"#9c179e\"],[0.4444444444444444,\"#bd3786\"],[0.5555555555555556,\"#d8576b\"],[0.6666666666666666,\"#ed7953\"],[0.7777777777777778,\"#fb9f3a\"],[0.8888888888888888,\"#fdca26\"],[1.0,\"#f0f921\"]]}],\"contourcarpet\":[{\"colorbar\":{\"outlinewidth\":0.0,\"ticks\":\"\"}}],\"heatmap\":[{\"colorbar\":{\"outlinewidth\":0.0,\"ticks\":\"\"},\"colorscale\":[[0.0,\"#0d0887\"],[0.1111111111111111,\"#46039f\"],[0.2222222222222222,\"#7201a8\"],[0.3333333333333333,\"#9c179e\"],[0.4444444444444444,\"#bd3786\"],[0.5555555555555556,\"#d8576b\"],[0.6666666666666666,\"#ed7953\"],[0.7777777777777778,\"#fb9f3a\"],[0.8888888888888888,\"#fdca26\"],[1.0,\"#f0f921\"]]}],\"heatmapgl\":[{\"colorbar\":{\"outlinewidth\":0.0,\"ticks\":\"\"},\"colorscale\":[[0.0,\"#0d0887\"],[0.1111111111111111,\"#46039f\"],[0.2222222222222222,\"#7201a8\"],[0.3333333333333333,\"#9c179e\"],[0.4444444444444444,\"#bd3786\"],[0.5555555555555556,\"#d8576b\"],[0.6666666666666666,\"#ed7953\"],[0.7777777777777778,\"#fb9f3a\"],[0.8888888888888888,\"#fdca26\"],[1.0,\"#f0f921\"]]}],\"histogram\":[{\"marker\":{\"pattern\":{\"fillmode\":\"overlay\",\"size\":10,\"solidity\":0.2}}}],\"histogram2d\":[{\"colorbar\":{\"outlinewidth\":0.0,\"ticks\":\"\"},\"colorscale\":[[0.0,\"#0d0887\"],[0.1111111111111111,\"#46039f\"],[0.2222222222222222,\"#7201a8\"],[0.3333333333333333,\"#9c179e\"],[0.4444444444444444,\"#bd3786\"],[0.5555555555555556,\"#d8576b\"],[0.6666666666666666,\"#ed7953\"],[0.7777777777777778,\"#fb9f3a\"],[0.8888888888888888,\"#fdca26\"],[1.0,\"#f0f921\"]]}],\"histogram2dcontour\":[{\"colorbar\":{\"outlinewidth\":0.0,\"ticks\":\"\"},\"colorscale\":[[0.0,\"#0d0887\"],[0.1111111111111111,\"#46039f\"],[0.2222222222222222,\"#7201a8\"],[0.3333333333333333,\"#9c179e\"],[0.4444444444444444,\"#bd3786\"],[0.5555555555555556,\"#d8576b\"],[0.6666666666666666,\"#ed7953\"],[0.7777777777777778,\"#fb9f3a\"],[0.8888888888888888,\"#fdca26\"],[1.0,\"#f0f921\"]]}],\"mesh3d\":[{\"colorbar\":{\"outlinewidth\":0.0,\"ticks\":\"\"}}],\"parcoords\":[{\"line\":{\"colorbar\":{\"outlinewidth\":0.0,\"ticks\":\"\"}}}],\"pie\":[{\"automargin\":true}],\"scatter\":[{\"marker\":{\"colorbar\":{\"outlinewidth\":0.0,\"ticks\":\"\"}}}],\"scatter3d\":[{\"marker\":{\"colorbar\":{\"outlinewidth\":0.0,\"ticks\":\"\"}},\"line\":{\"colorbar\":{\"outlinewidth\":0.0,\"ticks\":\"\"}}}],\"scattercarpet\":[{\"marker\":{\"colorbar\":{\"outlinewidth\":0.0,\"ticks\":\"\"}}}],\"scattergeo\":[{\"marker\":{\"colorbar\":{\"outlinewidth\":0.0,\"ticks\":\"\"}}}],\"scattergl\":[{\"marker\":{\"colorbar\":{\"outlinewidth\":0.0,\"ticks\":\"\"}}}],\"scattermapbox\":[{\"marker\":{\"colorbar\":{\"outlinewidth\":0.0,\"ticks\":\"\"}}}],\"scatterpolar\":[{\"marker\":{\"colorbar\":{\"outlinewidth\":0.0,\"ticks\":\"\"}}}],\"scatterpolargl\":[{\"marker\":{\"colorbar\":{\"outlinewidth\":0.0,\"ticks\":\"\"}}}],\"scatterternary\":[{\"marker\":{\"colorbar\":{\"outlinewidth\":0.0,\"ticks\":\"\"}}}],\"surface\":[{\"colorbar\":{\"outlinewidth\":0.0,\"ticks\":\"\"},\"colorscale\":[[0.0,\"#0d0887\"],[0.1111111111111111,\"#46039f\"],[0.2222222222222222,\"#7201a8\"],[0.3333333333333333,\"#9c179e\"],[0.4444444444444444,\"#bd3786\"],[0.5555555555555556,\"#d8576b\"],[0.6666666666666666,\"#ed7953\"],[0.7777777777777778,\"#fb9f3a\"],[0.8888888888888888,\"#fdca26\"],[1.0,\"#f0f921\"]]}],\"table\":[{\"cells\":{\"fill\":{\"color\":\"rgba(235, 240, 248, 1.0)\"},\"line\":{\"color\":\"rgba(255, 255, 255, 1.0)\"}},\"header\":{\"fill\":{\"color\":\"rgba(200, 212, 227, 1.0)\"},\"line\":{\"color\":\"rgba(255, 255, 255, 1.0)\"}}}]}},\"xaxis\":{\"title\":{\"text\":\"rating\"}},\"yaxis\":{\"title\":{\"text\":\"calories\"}},\"legend\":{\"orientation\":\"h\"}};\r\n",
       "            var config = {\"responsive\":true};\r\n",
       "            Plotly.newPlot('7f2f9ca1-d33d-4323-bd88-883e978ec282', data, layout, config);\r\n",
       "});\r\n",
       "            };\r\n",
       "            if ((typeof(requirejs) !==  typeof(Function)) || (typeof(requirejs.config) !== typeof(Function))) {\r\n",
       "                var script = document.createElement(\"script\");\r\n",
       "                script.setAttribute(\"src\", \"https://cdnjs.cloudflare.com/ajax/libs/require.js/2.3.6/require.min.js\");\r\n",
       "                script.onload = function(){\r\n",
       "                    renderPlotly_7f2f9ca1d33d4323bd88883e978ec282();\r\n",
       "                };\r\n",
       "                document.getElementsByTagName(\"head\")[0].appendChild(script);\r\n",
       "            }\r\n",
       "            else {\r\n",
       "                renderPlotly_7f2f9ca1d33d4323bd88883e978ec282();\r\n",
       "            }\r\n",
       "</script>\r\n",
       "\n",
       "    \n",
       "</div>    \n"
      ]
     },
     "metadata": {},
     "output_type": "display_data"
    }
   ],
   "source": [
    "df |> lmplot \"calories\" \"rating\" None"
   ]
  },
  {
   "cell_type": "code",
   "execution_count": 306,
   "metadata": {
    "dotnet_interactive": {
     "language": "fsharp"
    },
    "vscode": {
     "languageId": "dotnet-interactive.fsharp"
    }
   },
   "outputs": [
    {
     "data": {
      "text/html": [
       "\n",
       "<div>\n",
       "    <div id=\"79688993-2dcc-4eef-84bf-a04cc21b73a9\"><!-- Plotly chart will be drawn inside this DIV --></div>\r\n",
       "<script type=\"text/javascript\">\r\n",
       "\r\n",
       "            var renderPlotly_796889932dcc4eef84bfa04cc21b73a9 = function() {\r\n",
       "            var fsharpPlotlyRequire = requirejs.config({context:'fsharp-plotly',paths:{plotly:'https://cdn.plot.ly/plotly-2.6.3.min'}}) || require;\r\n",
       "            fsharpPlotlyRequire(['plotly'], function(Plotly) {\r\n",
       "\r\n",
       "            var data = [{\"type\":\"scatter\",\"name\":\"healthy\",\"showlegend\":true,\"mode\":\"markers\",\"x\":[68.402973,93.704912,40.917047,68.235885,74.472949],\"y\":[70.0,50.0,96.0,96.3855421686747,90.0],\"marker\":{},\"line\":{}},{\"type\":\"scatter\",\"name\":\"Reg. healthy\",\"showlegend\":true,\"mode\":\"lines\",\"x\":[40.917047,41.917047,42.917047,43.917047,44.917047,45.917047,46.917047,47.917047,48.917047,49.917047,50.917047,51.917047,52.917047,53.917047,54.917047,55.917047,56.917047,57.917047,58.917047,59.917047,60.917047,61.917047,62.917047,63.917047,64.917047,65.917047,66.917047,67.917047,68.917047,69.917047,70.917047,71.917047,72.917047,73.917047,74.917047,75.917047,76.917047,77.917047,78.917047,79.917047,80.917047,81.917047,82.917047,83.917047,84.917047,85.917047,86.917047,87.917047,88.917047,89.917047,90.917047,91.917047,92.917047],\"y\":[103.03774877942897,102.23856793830163,101.43938709717426,100.64020625604692,99.84102541491956,99.04184457379222,98.24266373266485,97.44348289153751,96.64430205041016,95.84512120928281,95.04594036815546,94.2467595270281,93.44757868590075,92.6483978447734,91.84921700364606,91.0500361625187,90.25085532139136,89.45167448026399,88.65249363913665,87.85331279800928,87.05413195688195,86.2549511157546,85.45577027462724,84.65658943349989,83.85740859237254,83.05822775124518,82.25904691011783,81.4598660689905,80.66068522786313,79.86150438673579,79.06232354560842,78.26314270448108,77.46396186335372,76.66478102222638,75.86560018109903,75.06641933997167,74.26723849884432,73.46805765771697,72.66887681658962,71.86969597546226,71.07051513433491,70.27133429320756,69.47215345208022,68.67297261095287,67.87379176982552,67.07461092869816,66.27543008757081,65.47624924644346,64.6770684053161,63.877887564188754,63.0787067230614,62.27952588193405,61.4803450408067],\"marker\":{},\"line\":{}},{\"type\":\"scatter\",\"name\":\"unhealthy\",\"showlegend\":true,\"mode\":\"markers\",\"x\":[33.983679,59.425505,34.384843,29.509541,33.174094,37.038562,49.120253,53.313813,18.042851,50.764999,19.823573,40.400208,22.736446,41.445019,45.863324,35.782791,22.396513,40.448772,64.533816,46.895644,36.176196,44.330856,32.207582,31.435973,58.345141,41.015492,28.025765,35.252444,23.804043,52.076897,53.371007,45.811716,21.871292,31.072217,28.742414,36.523683,36.471512,39.241114,45.328074,26.734515,54.850917,37.136863,34.139765,30.313351,40.105965,29.924285,40.69232,59.642837,30.450843,37.840594,41.50354,60.756112,63.005645,49.511874,50.828392,39.259197,39.7034,55.333142,41.998933,40.560159,72.801787,31.230054,53.131324,59.363993,38.839746,28.592785,46.658844,39.106174,27.753301,49.787445,51.592193,36.187559],\"y\":[120.0,70.0,110.0,110.0,110.0,97.74436090225564,90.0,90.0,120.0,110.0,120.0,110.0,110.0,110.0,100.0,110.0,110.0,110.0,100.0,110.0,100.0,100.0,110.0,110.0,100.0,90.22556390977444,110.0,100.0,110.0,100.0,110.0,120.0,120.0,110.0,110.0,110.0,107.6923076923077,110.0,100.0,110.0,100.0,150.0,150.0,106.66666666666667,100.0,120.0,105.26315789473684,90.0,104.0,90.22556390977444,100.0,100.0,100.0,100.0,100.0,90.22556390977444,100.0,90.0,110.0,110.0,90.0,110.0,110.0,90.0,110.0,93.33333333333333,100.0,110.0,110.0,100.0,100.0,110.0],\"marker\":{},\"line\":{}},{\"type\":\"scatter\",\"name\":\"Reg. unhealthy\",\"showlegend\":true,\"mode\":\"lines\",\"x\":[18.042851,19.042851,20.042851,21.042851,22.042851,23.042851,24.042851,25.042851,26.042851,27.042851,28.042851,29.042851,30.042851,31.042851,32.042851,33.042851,34.042851,35.042851,36.042851,37.042851,38.042851,39.042851,40.042851,41.042851,42.042851,43.042851,44.042851,45.042851,46.042851,47.042851,48.042851,49.042851,50.042851,51.042851,52.042851,53.042851,54.042851,55.042851,56.042851,57.042851,58.042851,59.042851,60.042851,61.042851,62.042851,63.042851,64.042851,65.042851,66.042851,67.042851,68.042851,69.042851,70.042851,71.042851,72.042851],\"y\":[117.48194380370224,116.96176427401278,116.44158474432334,115.92140521463388,115.40122568494444,114.88104615525498,114.36086662556554,113.84068709587608,113.32050756618662,112.80032803649718,112.28014850680773,111.75996897711828,111.23978944742882,110.71960991773938,110.19943038804993,109.67925085836048,109.15907132867102,108.63889179898158,108.11871226929213,107.59853273960267,107.07835320991322,106.55817368022377,106.03799415053432,105.51781462084487,104.99763509115542,104.47745556146597,103.95727603177652,103.43709650208707,102.91691697239762,102.39673744270817,101.87655791301871,101.35637838332927,100.83619885363981,100.31601932395037,99.79583979426091,99.27566026457147,98.75548073488201,98.23530120519257,97.71512167550311,97.19494214581366,96.67476261612421,96.15458308643477,95.63440355674531,95.11422402705585,94.59404449736641,94.07386496767697,93.55368543798751,93.03350590829805,92.51332637860861,91.99314684891917,91.47296731922971,90.95278778954025,90.43260825985081,89.91242873016137,89.39224920047191],\"marker\":{},\"line\":{}}];\r\n",
       "            var layout = {\"width\":600,\"height\":600,\"template\":{\"layout\":{\"title\":{\"x\":0.05},\"font\":{\"color\":\"rgba(42, 63, 95, 1.0)\"},\"paper_bgcolor\":\"rgba(255, 255, 255, 1.0)\",\"plot_bgcolor\":\"rgba(229, 236, 246, 1.0)\",\"autotypenumbers\":\"strict\",\"colorscale\":{\"diverging\":[[0.0,\"#8e0152\"],[0.1,\"#c51b7d\"],[0.2,\"#de77ae\"],[0.3,\"#f1b6da\"],[0.4,\"#fde0ef\"],[0.5,\"#f7f7f7\"],[0.6,\"#e6f5d0\"],[0.7,\"#b8e186\"],[0.8,\"#7fbc41\"],[0.9,\"#4d9221\"],[1.0,\"#276419\"]],\"sequential\":[[0.0,\"#0d0887\"],[0.1111111111111111,\"#46039f\"],[0.2222222222222222,\"#7201a8\"],[0.3333333333333333,\"#9c179e\"],[0.4444444444444444,\"#bd3786\"],[0.5555555555555556,\"#d8576b\"],[0.6666666666666666,\"#ed7953\"],[0.7777777777777778,\"#fb9f3a\"],[0.8888888888888888,\"#fdca26\"],[1.0,\"#f0f921\"]],\"sequentialminus\":[[0.0,\"#0d0887\"],[0.1111111111111111,\"#46039f\"],[0.2222222222222222,\"#7201a8\"],[0.3333333333333333,\"#9c179e\"],[0.4444444444444444,\"#bd3786\"],[0.5555555555555556,\"#d8576b\"],[0.6666666666666666,\"#ed7953\"],[0.7777777777777778,\"#fb9f3a\"],[0.8888888888888888,\"#fdca26\"],[1.0,\"#f0f921\"]]},\"hovermode\":\"closest\",\"hoverlabel\":{\"align\":\"left\"},\"coloraxis\":{\"colorbar\":{\"outlinewidth\":0.0,\"ticks\":\"\"}},\"geo\":{\"showland\":true,\"landcolor\":\"rgba(229, 236, 246, 1.0)\",\"showlakes\":true,\"lakecolor\":\"rgba(255, 255, 255, 1.0)\",\"subunitcolor\":\"rgba(255, 255, 255, 1.0)\",\"bgcolor\":\"rgba(255, 255, 255, 1.0)\"},\"mapbox\":{\"style\":\"light\"},\"polar\":{\"bgcolor\":\"rgba(229, 236, 246, 1.0)\",\"radialaxis\":{\"linecolor\":\"rgba(255, 255, 255, 1.0)\",\"gridcolor\":\"rgba(255, 255, 255, 1.0)\",\"ticks\":\"\"},\"angularaxis\":{\"linecolor\":\"rgba(255, 255, 255, 1.0)\",\"gridcolor\":\"rgba(255, 255, 255, 1.0)\",\"ticks\":\"\"}},\"scene\":{\"xaxis\":{\"ticks\":\"\",\"linecolor\":\"rgba(255, 255, 255, 1.0)\",\"gridcolor\":\"rgba(255, 255, 255, 1.0)\",\"gridwidth\":2.0,\"zerolinecolor\":\"rgba(255, 255, 255, 1.0)\",\"backgroundcolor\":\"rgba(229, 236, 246, 1.0)\",\"showbackground\":true},\"yaxis\":{\"ticks\":\"\",\"linecolor\":\"rgba(255, 255, 255, 1.0)\",\"gridcolor\":\"rgba(255, 255, 255, 1.0)\",\"gridwidth\":2.0,\"zerolinecolor\":\"rgba(255, 255, 255, 1.0)\",\"backgroundcolor\":\"rgba(229, 236, 246, 1.0)\",\"showbackground\":true},\"zaxis\":{\"ticks\":\"\",\"linecolor\":\"rgba(255, 255, 255, 1.0)\",\"gridcolor\":\"rgba(255, 255, 255, 1.0)\",\"gridwidth\":2.0,\"zerolinecolor\":\"rgba(255, 255, 255, 1.0)\",\"backgroundcolor\":\"rgba(229, 236, 246, 1.0)\",\"showbackground\":true}},\"ternary\":{\"aaxis\":{\"ticks\":\"\",\"linecolor\":\"rgba(255, 255, 255, 1.0)\",\"gridcolor\":\"rgba(255, 255, 255, 1.0)\"},\"baxis\":{\"ticks\":\"\",\"linecolor\":\"rgba(255, 255, 255, 1.0)\",\"gridcolor\":\"rgba(255, 255, 255, 1.0)\"},\"caxis\":{\"ticks\":\"\",\"linecolor\":\"rgba(255, 255, 255, 1.0)\",\"gridcolor\":\"rgba(255, 255, 255, 1.0)\"},\"bgcolor\":\"rgba(229, 236, 246, 1.0)\"},\"xaxis\":{\"title\":{\"standoff\":15},\"ticks\":\"\",\"automargin\":true,\"linecolor\":\"rgba(255, 255, 255, 1.0)\",\"gridcolor\":\"rgba(255, 255, 255, 1.0)\",\"zerolinecolor\":\"rgba(255, 255, 255, 1.0)\",\"zerolinewidth\":2.0},\"yaxis\":{\"title\":{\"standoff\":15},\"ticks\":\"\",\"automargin\":true,\"linecolor\":\"rgba(255, 255, 255, 1.0)\",\"gridcolor\":\"rgba(255, 255, 255, 1.0)\",\"zerolinecolor\":\"rgba(255, 255, 255, 1.0)\",\"zerolinewidth\":2.0},\"annotationdefaults\":{\"arrowcolor\":\"#2a3f5f\",\"arrowhead\":0,\"arrowwidth\":1},\"shapedefaults\":{\"line\":{\"color\":\"rgba(42, 63, 95, 1.0)\"}},\"colorway\":[\"rgba(99, 110, 250, 1.0)\",\"rgba(239, 85, 59, 1.0)\",\"rgba(0, 204, 150, 1.0)\",\"rgba(171, 99, 250, 1.0)\",\"rgba(255, 161, 90, 1.0)\",\"rgba(25, 211, 243, 1.0)\",\"rgba(255, 102, 146, 1.0)\",\"rgba(182, 232, 128, 1.0)\",\"rgba(255, 151, 255, 1.0)\",\"rgba(254, 203, 82, 1.0)\"]},\"data\":{\"bar\":[{\"marker\":{\"line\":{\"color\":\"rgba(229, 236, 246, 1.0)\",\"width\":0.5},\"pattern\":{\"fillmode\":\"overlay\",\"size\":10,\"solidity\":0.2}},\"error_x\":{\"color\":\"rgba(42, 63, 95, 1.0)\"},\"error_y\":{\"color\":\"rgba(42, 63, 95, 1.0)\"}}],\"barpolar\":[{\"marker\":{\"line\":{\"color\":\"rgba(229, 236, 246, 1.0)\",\"width\":0.5},\"pattern\":{\"fillmode\":\"overlay\",\"size\":10,\"solidity\":0.2}}}],\"carpet\":[{\"aaxis\":{\"linecolor\":\"rgba(255, 255, 255, 1.0)\",\"gridcolor\":\"rgba(255, 255, 255, 1.0)\",\"endlinecolor\":\"rgba(42, 63, 95, 1.0)\",\"minorgridcolor\":\"rgba(255, 255, 255, 1.0)\",\"startlinecolor\":\"rgba(42, 63, 95, 1.0)\"},\"baxis\":{\"linecolor\":\"rgba(255, 255, 255, 1.0)\",\"gridcolor\":\"rgba(255, 255, 255, 1.0)\",\"endlinecolor\":\"rgba(42, 63, 95, 1.0)\",\"minorgridcolor\":\"rgba(255, 255, 255, 1.0)\",\"startlinecolor\":\"rgba(42, 63, 95, 1.0)\"}}],\"choropleth\":[{\"colorbar\":{\"outlinewidth\":0.0,\"ticks\":\"\"},\"colorscale\":[[0.0,\"#0d0887\"],[0.1111111111111111,\"#46039f\"],[0.2222222222222222,\"#7201a8\"],[0.3333333333333333,\"#9c179e\"],[0.4444444444444444,\"#bd3786\"],[0.5555555555555556,\"#d8576b\"],[0.6666666666666666,\"#ed7953\"],[0.7777777777777778,\"#fb9f3a\"],[0.8888888888888888,\"#fdca26\"],[1.0,\"#f0f921\"]]}],\"contour\":[{\"colorbar\":{\"outlinewidth\":0.0,\"ticks\":\"\"},\"colorscale\":[[0.0,\"#0d0887\"],[0.1111111111111111,\"#46039f\"],[0.2222222222222222,\"#7201a8\"],[0.3333333333333333,\"#9c179e\"],[0.4444444444444444,\"#bd3786\"],[0.5555555555555556,\"#d8576b\"],[0.6666666666666666,\"#ed7953\"],[0.7777777777777778,\"#fb9f3a\"],[0.8888888888888888,\"#fdca26\"],[1.0,\"#f0f921\"]]}],\"contourcarpet\":[{\"colorbar\":{\"outlinewidth\":0.0,\"ticks\":\"\"}}],\"heatmap\":[{\"colorbar\":{\"outlinewidth\":0.0,\"ticks\":\"\"},\"colorscale\":[[0.0,\"#0d0887\"],[0.1111111111111111,\"#46039f\"],[0.2222222222222222,\"#7201a8\"],[0.3333333333333333,\"#9c179e\"],[0.4444444444444444,\"#bd3786\"],[0.5555555555555556,\"#d8576b\"],[0.6666666666666666,\"#ed7953\"],[0.7777777777777778,\"#fb9f3a\"],[0.8888888888888888,\"#fdca26\"],[1.0,\"#f0f921\"]]}],\"heatmapgl\":[{\"colorbar\":{\"outlinewidth\":0.0,\"ticks\":\"\"},\"colorscale\":[[0.0,\"#0d0887\"],[0.1111111111111111,\"#46039f\"],[0.2222222222222222,\"#7201a8\"],[0.3333333333333333,\"#9c179e\"],[0.4444444444444444,\"#bd3786\"],[0.5555555555555556,\"#d8576b\"],[0.6666666666666666,\"#ed7953\"],[0.7777777777777778,\"#fb9f3a\"],[0.8888888888888888,\"#fdca26\"],[1.0,\"#f0f921\"]]}],\"histogram\":[{\"marker\":{\"pattern\":{\"fillmode\":\"overlay\",\"size\":10,\"solidity\":0.2}}}],\"histogram2d\":[{\"colorbar\":{\"outlinewidth\":0.0,\"ticks\":\"\"},\"colorscale\":[[0.0,\"#0d0887\"],[0.1111111111111111,\"#46039f\"],[0.2222222222222222,\"#7201a8\"],[0.3333333333333333,\"#9c179e\"],[0.4444444444444444,\"#bd3786\"],[0.5555555555555556,\"#d8576b\"],[0.6666666666666666,\"#ed7953\"],[0.7777777777777778,\"#fb9f3a\"],[0.8888888888888888,\"#fdca26\"],[1.0,\"#f0f921\"]]}],\"histogram2dcontour\":[{\"colorbar\":{\"outlinewidth\":0.0,\"ticks\":\"\"},\"colorscale\":[[0.0,\"#0d0887\"],[0.1111111111111111,\"#46039f\"],[0.2222222222222222,\"#7201a8\"],[0.3333333333333333,\"#9c179e\"],[0.4444444444444444,\"#bd3786\"],[0.5555555555555556,\"#d8576b\"],[0.6666666666666666,\"#ed7953\"],[0.7777777777777778,\"#fb9f3a\"],[0.8888888888888888,\"#fdca26\"],[1.0,\"#f0f921\"]]}],\"mesh3d\":[{\"colorbar\":{\"outlinewidth\":0.0,\"ticks\":\"\"}}],\"parcoords\":[{\"line\":{\"colorbar\":{\"outlinewidth\":0.0,\"ticks\":\"\"}}}],\"pie\":[{\"automargin\":true}],\"scatter\":[{\"marker\":{\"colorbar\":{\"outlinewidth\":0.0,\"ticks\":\"\"}}}],\"scatter3d\":[{\"marker\":{\"colorbar\":{\"outlinewidth\":0.0,\"ticks\":\"\"}},\"line\":{\"colorbar\":{\"outlinewidth\":0.0,\"ticks\":\"\"}}}],\"scattercarpet\":[{\"marker\":{\"colorbar\":{\"outlinewidth\":0.0,\"ticks\":\"\"}}}],\"scattergeo\":[{\"marker\":{\"colorbar\":{\"outlinewidth\":0.0,\"ticks\":\"\"}}}],\"scattergl\":[{\"marker\":{\"colorbar\":{\"outlinewidth\":0.0,\"ticks\":\"\"}}}],\"scattermapbox\":[{\"marker\":{\"colorbar\":{\"outlinewidth\":0.0,\"ticks\":\"\"}}}],\"scatterpolar\":[{\"marker\":{\"colorbar\":{\"outlinewidth\":0.0,\"ticks\":\"\"}}}],\"scatterpolargl\":[{\"marker\":{\"colorbar\":{\"outlinewidth\":0.0,\"ticks\":\"\"}}}],\"scatterternary\":[{\"marker\":{\"colorbar\":{\"outlinewidth\":0.0,\"ticks\":\"\"}}}],\"surface\":[{\"colorbar\":{\"outlinewidth\":0.0,\"ticks\":\"\"},\"colorscale\":[[0.0,\"#0d0887\"],[0.1111111111111111,\"#46039f\"],[0.2222222222222222,\"#7201a8\"],[0.3333333333333333,\"#9c179e\"],[0.4444444444444444,\"#bd3786\"],[0.5555555555555556,\"#d8576b\"],[0.6666666666666666,\"#ed7953\"],[0.7777777777777778,\"#fb9f3a\"],[0.8888888888888888,\"#fdca26\"],[1.0,\"#f0f921\"]]}],\"table\":[{\"cells\":{\"fill\":{\"color\":\"rgba(235, 240, 248, 1.0)\"},\"line\":{\"color\":\"rgba(255, 255, 255, 1.0)\"}},\"header\":{\"fill\":{\"color\":\"rgba(200, 212, 227, 1.0)\"},\"line\":{\"color\":\"rgba(255, 255, 255, 1.0)\"}}}]}},\"xaxis\":{\"title\":{\"text\":\"rating\"}},\"yaxis\":{\"title\":{\"text\":\"calories\"}},\"legend\":{\"orientation\":\"h\"}};\r\n",
       "            var config = {\"responsive\":true};\r\n",
       "            Plotly.newPlot('79688993-2dcc-4eef-84bf-a04cc21b73a9', data, layout, config);\r\n",
       "});\r\n",
       "            };\r\n",
       "            if ((typeof(requirejs) !==  typeof(Function)) || (typeof(requirejs.config) !== typeof(Function))) {\r\n",
       "                var script = document.createElement(\"script\");\r\n",
       "                script.setAttribute(\"src\", \"https://cdnjs.cloudflare.com/ajax/libs/require.js/2.3.6/require.min.js\");\r\n",
       "                script.onload = function(){\r\n",
       "                    renderPlotly_796889932dcc4eef84bfa04cc21b73a9();\r\n",
       "                };\r\n",
       "                document.getElementsByTagName(\"head\")[0].appendChild(script);\r\n",
       "            }\r\n",
       "            else {\r\n",
       "                renderPlotly_796889932dcc4eef84bfa04cc21b73a9();\r\n",
       "            }\r\n",
       "</script>\r\n",
       "\n",
       "    \n",
       "</div>    \n"
      ]
     },
     "metadata": {},
     "output_type": "display_data"
    }
   ],
   "source": [
    "df |> lmplot \"calories\" \"rating\" (Some \"healthiness\")"
   ]
  },
  {
   "cell_type": "markdown",
   "metadata": {},
   "source": [
    "### **Question 10.** _(1 point)_\n",
    "* Which shelf has the most healthy cereals?"
   ]
  },
  {
   "cell_type": "code",
   "execution_count": 307,
   "metadata": {
    "dotnet_interactive": {
     "language": "fsharp"
    },
    "vscode": {
     "languageId": "dotnet-interactive.fsharp"
    }
   },
   "outputs": [
    {
     "data": {
      "text/html": [
       "\n",
       "<div>\n",
       "    <div id=\"3d874b45-ff54-42e0-8e30-67f878e338e2\"><!-- Plotly chart will be drawn inside this DIV --></div>\r\n",
       "<script type=\"text/javascript\">\r\n",
       "\r\n",
       "            var renderPlotly_3d874b45ff5442e08e3067f878e338e2 = function() {\r\n",
       "            var fsharpPlotlyRequire = requirejs.config({context:'fsharp-plotly',paths:{plotly:'https://cdn.plot.ly/plotly-2.6.3.min'}}) || require;\r\n",
       "            fsharpPlotlyRequire(['plotly'], function(Plotly) {\r\n",
       "\r\n",
       "            var data = [{\"type\":\"histogram\",\"x\":[3,3,3,1,1],\"marker\":{}}];\r\n",
       "            var layout = {\"width\":600,\"height\":600,\"template\":{\"layout\":{\"title\":{\"x\":0.05},\"font\":{\"color\":\"rgba(42, 63, 95, 1.0)\"},\"paper_bgcolor\":\"rgba(255, 255, 255, 1.0)\",\"plot_bgcolor\":\"rgba(229, 236, 246, 1.0)\",\"autotypenumbers\":\"strict\",\"colorscale\":{\"diverging\":[[0.0,\"#8e0152\"],[0.1,\"#c51b7d\"],[0.2,\"#de77ae\"],[0.3,\"#f1b6da\"],[0.4,\"#fde0ef\"],[0.5,\"#f7f7f7\"],[0.6,\"#e6f5d0\"],[0.7,\"#b8e186\"],[0.8,\"#7fbc41\"],[0.9,\"#4d9221\"],[1.0,\"#276419\"]],\"sequential\":[[0.0,\"#0d0887\"],[0.1111111111111111,\"#46039f\"],[0.2222222222222222,\"#7201a8\"],[0.3333333333333333,\"#9c179e\"],[0.4444444444444444,\"#bd3786\"],[0.5555555555555556,\"#d8576b\"],[0.6666666666666666,\"#ed7953\"],[0.7777777777777778,\"#fb9f3a\"],[0.8888888888888888,\"#fdca26\"],[1.0,\"#f0f921\"]],\"sequentialminus\":[[0.0,\"#0d0887\"],[0.1111111111111111,\"#46039f\"],[0.2222222222222222,\"#7201a8\"],[0.3333333333333333,\"#9c179e\"],[0.4444444444444444,\"#bd3786\"],[0.5555555555555556,\"#d8576b\"],[0.6666666666666666,\"#ed7953\"],[0.7777777777777778,\"#fb9f3a\"],[0.8888888888888888,\"#fdca26\"],[1.0,\"#f0f921\"]]},\"hovermode\":\"closest\",\"hoverlabel\":{\"align\":\"left\"},\"coloraxis\":{\"colorbar\":{\"outlinewidth\":0.0,\"ticks\":\"\"}},\"geo\":{\"showland\":true,\"landcolor\":\"rgba(229, 236, 246, 1.0)\",\"showlakes\":true,\"lakecolor\":\"rgba(255, 255, 255, 1.0)\",\"subunitcolor\":\"rgba(255, 255, 255, 1.0)\",\"bgcolor\":\"rgba(255, 255, 255, 1.0)\"},\"mapbox\":{\"style\":\"light\"},\"polar\":{\"bgcolor\":\"rgba(229, 236, 246, 1.0)\",\"radialaxis\":{\"linecolor\":\"rgba(255, 255, 255, 1.0)\",\"gridcolor\":\"rgba(255, 255, 255, 1.0)\",\"ticks\":\"\"},\"angularaxis\":{\"linecolor\":\"rgba(255, 255, 255, 1.0)\",\"gridcolor\":\"rgba(255, 255, 255, 1.0)\",\"ticks\":\"\"}},\"scene\":{\"xaxis\":{\"ticks\":\"\",\"linecolor\":\"rgba(255, 255, 255, 1.0)\",\"gridcolor\":\"rgba(255, 255, 255, 1.0)\",\"gridwidth\":2.0,\"zerolinecolor\":\"rgba(255, 255, 255, 1.0)\",\"backgroundcolor\":\"rgba(229, 236, 246, 1.0)\",\"showbackground\":true},\"yaxis\":{\"ticks\":\"\",\"linecolor\":\"rgba(255, 255, 255, 1.0)\",\"gridcolor\":\"rgba(255, 255, 255, 1.0)\",\"gridwidth\":2.0,\"zerolinecolor\":\"rgba(255, 255, 255, 1.0)\",\"backgroundcolor\":\"rgba(229, 236, 246, 1.0)\",\"showbackground\":true},\"zaxis\":{\"ticks\":\"\",\"linecolor\":\"rgba(255, 255, 255, 1.0)\",\"gridcolor\":\"rgba(255, 255, 255, 1.0)\",\"gridwidth\":2.0,\"zerolinecolor\":\"rgba(255, 255, 255, 1.0)\",\"backgroundcolor\":\"rgba(229, 236, 246, 1.0)\",\"showbackground\":true}},\"ternary\":{\"aaxis\":{\"ticks\":\"\",\"linecolor\":\"rgba(255, 255, 255, 1.0)\",\"gridcolor\":\"rgba(255, 255, 255, 1.0)\"},\"baxis\":{\"ticks\":\"\",\"linecolor\":\"rgba(255, 255, 255, 1.0)\",\"gridcolor\":\"rgba(255, 255, 255, 1.0)\"},\"caxis\":{\"ticks\":\"\",\"linecolor\":\"rgba(255, 255, 255, 1.0)\",\"gridcolor\":\"rgba(255, 255, 255, 1.0)\"},\"bgcolor\":\"rgba(229, 236, 246, 1.0)\"},\"xaxis\":{\"title\":{\"standoff\":15},\"ticks\":\"\",\"automargin\":true,\"linecolor\":\"rgba(255, 255, 255, 1.0)\",\"gridcolor\":\"rgba(255, 255, 255, 1.0)\",\"zerolinecolor\":\"rgba(255, 255, 255, 1.0)\",\"zerolinewidth\":2.0},\"yaxis\":{\"title\":{\"standoff\":15},\"ticks\":\"\",\"automargin\":true,\"linecolor\":\"rgba(255, 255, 255, 1.0)\",\"gridcolor\":\"rgba(255, 255, 255, 1.0)\",\"zerolinecolor\":\"rgba(255, 255, 255, 1.0)\",\"zerolinewidth\":2.0},\"annotationdefaults\":{\"arrowcolor\":\"#2a3f5f\",\"arrowhead\":0,\"arrowwidth\":1},\"shapedefaults\":{\"line\":{\"color\":\"rgba(42, 63, 95, 1.0)\"}},\"colorway\":[\"rgba(99, 110, 250, 1.0)\",\"rgba(239, 85, 59, 1.0)\",\"rgba(0, 204, 150, 1.0)\",\"rgba(171, 99, 250, 1.0)\",\"rgba(255, 161, 90, 1.0)\",\"rgba(25, 211, 243, 1.0)\",\"rgba(255, 102, 146, 1.0)\",\"rgba(182, 232, 128, 1.0)\",\"rgba(255, 151, 255, 1.0)\",\"rgba(254, 203, 82, 1.0)\"]},\"data\":{\"bar\":[{\"marker\":{\"line\":{\"color\":\"rgba(229, 236, 246, 1.0)\",\"width\":0.5},\"pattern\":{\"fillmode\":\"overlay\",\"size\":10,\"solidity\":0.2}},\"error_x\":{\"color\":\"rgba(42, 63, 95, 1.0)\"},\"error_y\":{\"color\":\"rgba(42, 63, 95, 1.0)\"}}],\"barpolar\":[{\"marker\":{\"line\":{\"color\":\"rgba(229, 236, 246, 1.0)\",\"width\":0.5},\"pattern\":{\"fillmode\":\"overlay\",\"size\":10,\"solidity\":0.2}}}],\"carpet\":[{\"aaxis\":{\"linecolor\":\"rgba(255, 255, 255, 1.0)\",\"gridcolor\":\"rgba(255, 255, 255, 1.0)\",\"endlinecolor\":\"rgba(42, 63, 95, 1.0)\",\"minorgridcolor\":\"rgba(255, 255, 255, 1.0)\",\"startlinecolor\":\"rgba(42, 63, 95, 1.0)\"},\"baxis\":{\"linecolor\":\"rgba(255, 255, 255, 1.0)\",\"gridcolor\":\"rgba(255, 255, 255, 1.0)\",\"endlinecolor\":\"rgba(42, 63, 95, 1.0)\",\"minorgridcolor\":\"rgba(255, 255, 255, 1.0)\",\"startlinecolor\":\"rgba(42, 63, 95, 1.0)\"}}],\"choropleth\":[{\"colorbar\":{\"outlinewidth\":0.0,\"ticks\":\"\"},\"colorscale\":[[0.0,\"#0d0887\"],[0.1111111111111111,\"#46039f\"],[0.2222222222222222,\"#7201a8\"],[0.3333333333333333,\"#9c179e\"],[0.4444444444444444,\"#bd3786\"],[0.5555555555555556,\"#d8576b\"],[0.6666666666666666,\"#ed7953\"],[0.7777777777777778,\"#fb9f3a\"],[0.8888888888888888,\"#fdca26\"],[1.0,\"#f0f921\"]]}],\"contour\":[{\"colorbar\":{\"outlinewidth\":0.0,\"ticks\":\"\"},\"colorscale\":[[0.0,\"#0d0887\"],[0.1111111111111111,\"#46039f\"],[0.2222222222222222,\"#7201a8\"],[0.3333333333333333,\"#9c179e\"],[0.4444444444444444,\"#bd3786\"],[0.5555555555555556,\"#d8576b\"],[0.6666666666666666,\"#ed7953\"],[0.7777777777777778,\"#fb9f3a\"],[0.8888888888888888,\"#fdca26\"],[1.0,\"#f0f921\"]]}],\"contourcarpet\":[{\"colorbar\":{\"outlinewidth\":0.0,\"ticks\":\"\"}}],\"heatmap\":[{\"colorbar\":{\"outlinewidth\":0.0,\"ticks\":\"\"},\"colorscale\":[[0.0,\"#0d0887\"],[0.1111111111111111,\"#46039f\"],[0.2222222222222222,\"#7201a8\"],[0.3333333333333333,\"#9c179e\"],[0.4444444444444444,\"#bd3786\"],[0.5555555555555556,\"#d8576b\"],[0.6666666666666666,\"#ed7953\"],[0.7777777777777778,\"#fb9f3a\"],[0.8888888888888888,\"#fdca26\"],[1.0,\"#f0f921\"]]}],\"heatmapgl\":[{\"colorbar\":{\"outlinewidth\":0.0,\"ticks\":\"\"},\"colorscale\":[[0.0,\"#0d0887\"],[0.1111111111111111,\"#46039f\"],[0.2222222222222222,\"#7201a8\"],[0.3333333333333333,\"#9c179e\"],[0.4444444444444444,\"#bd3786\"],[0.5555555555555556,\"#d8576b\"],[0.6666666666666666,\"#ed7953\"],[0.7777777777777778,\"#fb9f3a\"],[0.8888888888888888,\"#fdca26\"],[1.0,\"#f0f921\"]]}],\"histogram\":[{\"marker\":{\"pattern\":{\"fillmode\":\"overlay\",\"size\":10,\"solidity\":0.2}}}],\"histogram2d\":[{\"colorbar\":{\"outlinewidth\":0.0,\"ticks\":\"\"},\"colorscale\":[[0.0,\"#0d0887\"],[0.1111111111111111,\"#46039f\"],[0.2222222222222222,\"#7201a8\"],[0.3333333333333333,\"#9c179e\"],[0.4444444444444444,\"#bd3786\"],[0.5555555555555556,\"#d8576b\"],[0.6666666666666666,\"#ed7953\"],[0.7777777777777778,\"#fb9f3a\"],[0.8888888888888888,\"#fdca26\"],[1.0,\"#f0f921\"]]}],\"histogram2dcontour\":[{\"colorbar\":{\"outlinewidth\":0.0,\"ticks\":\"\"},\"colorscale\":[[0.0,\"#0d0887\"],[0.1111111111111111,\"#46039f\"],[0.2222222222222222,\"#7201a8\"],[0.3333333333333333,\"#9c179e\"],[0.4444444444444444,\"#bd3786\"],[0.5555555555555556,\"#d8576b\"],[0.6666666666666666,\"#ed7953\"],[0.7777777777777778,\"#fb9f3a\"],[0.8888888888888888,\"#fdca26\"],[1.0,\"#f0f921\"]]}],\"mesh3d\":[{\"colorbar\":{\"outlinewidth\":0.0,\"ticks\":\"\"}}],\"parcoords\":[{\"line\":{\"colorbar\":{\"outlinewidth\":0.0,\"ticks\":\"\"}}}],\"pie\":[{\"automargin\":true}],\"scatter\":[{\"marker\":{\"colorbar\":{\"outlinewidth\":0.0,\"ticks\":\"\"}}}],\"scatter3d\":[{\"marker\":{\"colorbar\":{\"outlinewidth\":0.0,\"ticks\":\"\"}},\"line\":{\"colorbar\":{\"outlinewidth\":0.0,\"ticks\":\"\"}}}],\"scattercarpet\":[{\"marker\":{\"colorbar\":{\"outlinewidth\":0.0,\"ticks\":\"\"}}}],\"scattergeo\":[{\"marker\":{\"colorbar\":{\"outlinewidth\":0.0,\"ticks\":\"\"}}}],\"scattergl\":[{\"marker\":{\"colorbar\":{\"outlinewidth\":0.0,\"ticks\":\"\"}}}],\"scattermapbox\":[{\"marker\":{\"colorbar\":{\"outlinewidth\":0.0,\"ticks\":\"\"}}}],\"scatterpolar\":[{\"marker\":{\"colorbar\":{\"outlinewidth\":0.0,\"ticks\":\"\"}}}],\"scatterpolargl\":[{\"marker\":{\"colorbar\":{\"outlinewidth\":0.0,\"ticks\":\"\"}}}],\"scatterternary\":[{\"marker\":{\"colorbar\":{\"outlinewidth\":0.0,\"ticks\":\"\"}}}],\"surface\":[{\"colorbar\":{\"outlinewidth\":0.0,\"ticks\":\"\"},\"colorscale\":[[0.0,\"#0d0887\"],[0.1111111111111111,\"#46039f\"],[0.2222222222222222,\"#7201a8\"],[0.3333333333333333,\"#9c179e\"],[0.4444444444444444,\"#bd3786\"],[0.5555555555555556,\"#d8576b\"],[0.6666666666666666,\"#ed7953\"],[0.7777777777777778,\"#fb9f3a\"],[0.8888888888888888,\"#fdca26\"],[1.0,\"#f0f921\"]]}],\"table\":[{\"cells\":{\"fill\":{\"color\":\"rgba(235, 240, 248, 1.0)\"},\"line\":{\"color\":\"rgba(255, 255, 255, 1.0)\"}},\"header\":{\"fill\":{\"color\":\"rgba(200, 212, 227, 1.0)\"},\"line\":{\"color\":\"rgba(255, 255, 255, 1.0)\"}}}]}}};\r\n",
       "            var config = {\"responsive\":true};\r\n",
       "            Plotly.newPlot('3d874b45-ff54-42e0-8e30-67f878e338e2', data, layout, config);\r\n",
       "});\r\n",
       "            };\r\n",
       "            if ((typeof(requirejs) !==  typeof(Function)) || (typeof(requirejs.config) !== typeof(Function))) {\r\n",
       "                var script = document.createElement(\"script\");\r\n",
       "                script.setAttribute(\"src\", \"https://cdnjs.cloudflare.com/ajax/libs/require.js/2.3.6/require.min.js\");\r\n",
       "                script.onload = function(){\r\n",
       "                    renderPlotly_3d874b45ff5442e08e3067f878e338e2();\r\n",
       "                };\r\n",
       "                document.getElementsByTagName(\"head\")[0].appendChild(script);\r\n",
       "            }\r\n",
       "            else {\r\n",
       "                renderPlotly_3d874b45ff5442e08e3067f878e338e2();\r\n",
       "            }\r\n",
       "</script>\r\n",
       "\n",
       "    \n",
       "</div>    \n"
      ]
     },
     "metadata": {},
     "output_type": "display_data"
    }
   ],
   "source": [
    "// shelf #3 has most of the healthy cerials\n",
    "df\n",
    "|> Frame.groupRowsByString \"healthiness\"\n",
    "|> filterByKey (fun (g, _) -> g = \"healthy\")\n",
    "|> getColumnData \"shelf\"\n",
    "|> Chart.Histogram"
   ]
  },
  {
   "cell_type": "markdown",
   "metadata": {},
   "source": [
    "### **Question 11.** _(1 point)_\n",
    "* Based on the analysis conducted, what can you conclude about the cereal data set?"
   ]
  },
  {
   "cell_type": "code",
   "execution_count": 308,
   "metadata": {
    "dotnet_interactive": {
     "language": "fsharp"
    },
    "vscode": {
     "languageId": "dotnet-interactive.fsharp"
    }
   },
   "outputs": [
    {
     "data": {
      "text/html": [
       "<div>\r\n",
       "<style scoped>,\r\n",
       "  .dataframe tbody tr th:only-of-type {\r\n",
       "    vertical-align: middle;\r\n",
       "  }\r\n",
       "  .dataframe tbody tr th {,\r\n",
       "    vertical-align: top\r\n",
       "  }\r\n",
       "  .dataframe thead th {\r\n",
       "    text-align: right;\r\n",
       "  }\r\n",
       "  .no-wrap {\r\n",
       "    white-space: nowrap;\r\n",
       "  }\r\n",
       "</style>\r\n",
       "<table border='1' class='dataframe'>\r\n",
       "<thead><th></th><th></th><th>shelf</th><th>rating</th><th>calories</th><th>protein</th><th>fat</th><th>sodium</th><th>fiber</th><th>carbo</th><th>sugars</th><th>potass</th><th>vitamins</th><th>cups</th><th>weight</th></thead><thead><th></th><th></th><th>(float)</th><th>(float)</th><th>(float)</th><th>(float)</th><th>(float)</th><th>(float)</th><th>(float)</th><th>(float)</th><th>(float)</th><th>(float)</th><th>(float)</th><th>(float)</th><th>(float)</th></thead>\r\n",
       "<tr><td><b>unique</b></td><td class=\"no-wrap\">-></td><td>3</td><td>77</td><td>16</td><td>10</td><td>11</td><td>35</td><td>20</td><td>31</td><td>24</td><td>39</td><td>8</td><td>21</td><td>1</td></tr><tr><td><b>mean</b></td><td class=\"no-wrap\">-></td><td>2.207792207792208</td><td>42.66570498701299</td><td>103.99690987515973</td><td>2.490850991566637</td><td>0.9672793372041493</td><td>153.3567009431671</td><td>2.052065710657975</td><td>14.62518280896675</td><td>6.65837375201695</td><td>93.92753145280959</td><td>26.8732645800315</td><td>0.8258464082042305</td><td>1</td></tr><tr><td><b>std</b></td><td class=\"no-wrap\">-></td><td>0.832524100135788</td><td>14.047288743735223</td><td>13.851864360070802</td><td>1.0843216619328684</td><td>0.9837074853646552</td><td>82.76801101785254</td><td>2.302013684103508</td><td>4.201918338596485</td><td>4.066633808465265</td><td>62.796990092614415</td><td>20.511147716650306</td><td>0.3161710483763877</td><td>0</td></tr><tr><td><b>min</b></td><td class=\"no-wrap\">-></td><td>1</td><td>18.042851</td><td>50</td><td>1</td><td>0</td><td>0</td><td>0</td><td>5</td><td>0</td><td>20</td><td>0</td><td>0.25</td><td>1</td></tr><tr><td><b>0.25</b></td><td class=\"no-wrap\">-></td><td>1</td><td>33.174094</td><td>100</td><td>2</td><td>0</td><td>125</td><td>1</td><td>11.5</td><td>3</td><td>45</td><td>25</td><td>0.666666666666667</td><td>1</td></tr><tr><td><b>0.5</b></td><td class=\"no-wrap\">-></td><td>2</td><td>40.400208</td><td>106.666666666667</td><td>2.25563909774436</td><td>1</td><td>157.894736842105</td><td>1.53846153846154</td><td>14</td><td>6.01503759398496</td><td>90</td><td>25</td><td>0.75</td><td>1</td></tr><tr><td><b>0.75</b></td><td class=\"no-wrap\">-></td><td>3</td><td>50.828392</td><td>110</td><td>3</td><td>1.33333333333333</td><td>200</td><td>3</td><td>17</td><td>10</td><td>114.457831325301</td><td>25</td><td>1</td><td>1</td></tr><tr><td><b>max</b></td><td class=\"no-wrap\">-></td><td>3</td><td>93.704912</td><td>150</td><td>6</td><td>5</td><td>320</td><td>14</td><td>26</td><td>15</td><td>330</td><td>100</td><td>2</td><td>1</td></tr>\r\n",
       "</table>\r\n",
       "<p><b>8</b> rows x <b>13</b> columns</p><p><b>0</b> missing values</p>\r\n",
       "</div>\r\n"
      ]
     },
     "metadata": {},
     "output_type": "display_data"
    }
   ],
   "source": [
    "df |> describe"
   ]
  },
  {
   "cell_type": "markdown",
   "metadata": {},
   "source": [
    "Overview:\n",
    "- The data set is decent as is mostly have all the necessary data for analysis, except a few missing data points represented by a `-1`\n",
    "- Unfortunately there is no type category and we have infer it from the name, which may be quite inaccurate.\n",
    "- Finally the data set is fairly small, only 77 entries; however, despite a small size we seem to be able to identify a strong correlation between calories and rating."
   ]
  },
  {
   "cell_type": "code",
   "execution_count": 309,
   "metadata": {
    "dotnet_interactive": {
     "language": "fsharp"
    },
    "vscode": {
     "languageId": "dotnet-interactive.fsharp"
    }
   },
   "outputs": [
    {
     "data": {
      "text/html": [
       "<div>\r\n",
       "<style scoped>,\r\n",
       "  .dataframe tbody tr th:only-of-type {\r\n",
       "    vertical-align: middle;\r\n",
       "  }\r\n",
       "  .dataframe tbody tr th {,\r\n",
       "    vertical-align: top\r\n",
       "  }\r\n",
       "  .dataframe thead th {\r\n",
       "    text-align: right;\r\n",
       "  }\r\n",
       "  .no-wrap {\r\n",
       "    white-space: nowrap;\r\n",
       "  }\r\n",
       "</style>\r\n",
       "<table border='1' class='dataframe'>\r\n",
       "<thead><th></th><th></th><th>name</th><th>mfr</th><th>type</th><th>shelf</th><th>rating</th><th>Type of Cereal</th><th>calories</th><th>protein</th><th>fat</th><th>sodium</th><th>fiber</th><th>carbo</th><th>sugars</th><th>potass</th><th>vitamins</th><th>cups</th><th>weight</th><th>healthiness</th></thead><thead><th></th><th></th><th>(string)</th><th>(string)</th><th>(string)</th><th>(int)</th><th>(Decimal)</th><th>(string)</th><th>(float)</th><th>(float)</th><th>(float)</th><th>(float)</th><th>(float)</th><th>(float)</th><th>(float)</th><th>(float)</th><th>(float)</th><th>(float)</th><th>(int)</th><th>(string)</th></thead>\r\n",
       "<tr><td><b>0</b></td><td class=\"no-wrap\">-></td><td>100% Bran</td><td>N</td><td>C</td><td>3</td><td>68.402973</td><td>Bran</td><td>70</td><td>4</td><td>1</td><td>130</td><td>10</td><td>5</td><td>6</td><td>280</td><td>25</td><td>0.33</td><td>1</td><td>healthy</td></tr><tr><td><b>1</b></td><td class=\"no-wrap\">-></td><td>100% Natural Bran</td><td>Q</td><td>C</td><td>3</td><td>33.983679</td><td>Bran</td><td>120</td><td>3</td><td>5</td><td>15</td><td>2</td><td>8</td><td>8</td><td>135</td><td>0</td><td>1</td><td>1</td><td>unhealthy</td></tr><tr><td><b>2</b></td><td class=\"no-wrap\">-></td><td>All-Bran</td><td>K</td><td>C</td><td>3</td><td>59.425505</td><td>Bran</td><td>70</td><td>4</td><td>1</td><td>260</td><td>9</td><td>7</td><td>5</td><td>320</td><td>25</td><td>0.33</td><td>1</td><td>unhealthy</td></tr><tr><td><b>3</b></td><td class=\"no-wrap\">-></td><td>All-Bran with Extra Fiber</td><td>K</td><td>C</td><td>3</td><td>93.704912</td><td>Bran</td><td>50</td><td>4</td><td>0</td><td>140</td><td>14</td><td>8</td><td>0</td><td>330</td><td>25</td><td>0.5</td><td>1</td><td>healthy</td></tr><tr><td><b>4</b></td><td class=\"no-wrap\">-></td><td>Almond Delight</td><td>R</td><td>C</td><td>3</td><td>34.384843</td><td>Nut</td><td>110</td><td>2</td><td>2</td><td>200</td><td>1</td><td>14</td><td>8</td><td>96.07792207792208</td><td>25</td><td>0.75</td><td>1</td><td>unhealthy</td></tr><tr><td><b>:</b></td><td class=\"no-wrap\"></td><td>...</td><td>...</td><td>...</td><td>...</td><td>...</td><td>...</td><td>...</td><td>...</td><td>...</td><td>...</td><td>...</td><td>...</td><td>...</td><td>...</td><td>...</td><td>...</td><td>...</td><td>...</td></tr><tr><td><b>72</b></td><td class=\"no-wrap\">-></td><td>Triples</td><td>G</td><td>C</td><td>3</td><td>39.106174</td><td>Other</td><td>110</td><td>2</td><td>1</td><td>250</td><td>0</td><td>21</td><td>3</td><td>60</td><td>25</td><td>0.75</td><td>1</td><td>unhealthy</td></tr><tr><td><b>73</b></td><td class=\"no-wrap\">-></td><td>Trix</td><td>G</td><td>C</td><td>2</td><td>27.753301</td><td>Other</td><td>110</td><td>1</td><td>1</td><td>140</td><td>0</td><td>13</td><td>12</td><td>25</td><td>25</td><td>1</td><td>1</td><td>unhealthy</td></tr><tr><td><b>74</b></td><td class=\"no-wrap\">-></td><td>Wheat Chex</td><td>R</td><td>C</td><td>1</td><td>49.787445</td><td>Wheat</td><td>100</td><td>3</td><td>1</td><td>230</td><td>3</td><td>17</td><td>3</td><td>115</td><td>25</td><td>0.67</td><td>1</td><td>unhealthy</td></tr><tr><td><b>75</b></td><td class=\"no-wrap\">-></td><td>Wheaties</td><td>G</td><td>C</td><td>1</td><td>51.592193</td><td>Wheat</td><td>100</td><td>3</td><td>1</td><td>200</td><td>3</td><td>17</td><td>3</td><td>110</td><td>25</td><td>1</td><td>1</td><td>unhealthy</td></tr><tr><td><b>76</b></td><td class=\"no-wrap\">-></td><td>Wheaties Honey Gold</td><td>G</td><td>C</td><td>1</td><td>36.187559</td><td>Wheat</td><td>110</td><td>2</td><td>1</td><td>200</td><td>1</td><td>16</td><td>8</td><td>60</td><td>25</td><td>0.75</td><td>1</td><td>unhealthy</td></tr>\r\n",
       "</table>\r\n",
       "<p><b>77</b> rows x <b>18</b> columns</p><p><b>0</b> missing values</p>\r\n",
       "</div>\r\n"
      ]
     },
     "metadata": {},
     "output_type": "display_data"
    }
   ],
   "source": [
    "df"
   ]
  },
  {
   "cell_type": "code",
   "execution_count": 310,
   "metadata": {
    "dotnet_interactive": {
     "language": "fsharp"
    },
    "vscode": {
     "languageId": "dotnet-interactive.fsharp"
    }
   },
   "outputs": [
    {
     "data": {
      "text/plain": [
       "6.49%"
      ]
     },
     "metadata": {},
     "output_type": "display_data"
    }
   ],
   "source": [
    "df\n",
    "|> Frame.groupRowsByString \"healthiness\"\n",
    "|> filterByKey (fun (g, _) -> g = \"healthy\")\n",
    "|> fun hdf -> hdf.GetColumn<string> \"healthiness\"\n",
    "|> Series.countValues\n",
    "|> fun c -> $\"%.2f{100. * (c |> float) / (df.RowCount |> float)}%%\""
   ]
  },
  {
   "cell_type": "markdown",
   "metadata": {},
   "source": [
    "Conclusions:\n",
    "- The wast majority of cereals are unhealthy\n",
    "- People looking for healthier options would likely not find then on the 2nd shelf\n",
    "- People seem to give higher rating lower calories with lower calories count"
   ]
  }
 ],
 "metadata": {
  "kernelspec": {
   "display_name": ".NET (C#)",
   "language": "C#",
   "name": ".net-csharp"
  },
  "language_info": {
   "file_extension": ".cs",
   "mimetype": "text/x-csharp",
   "name": "C#",
   "pygments_lexer": "csharp",
   "version": "9.0"
  },
  "toc": {
   "base_numbering": 1,
   "nav_menu": {},
   "number_sections": false,
   "sideBar": true,
   "skip_h1_title": false,
   "title_cell": "Table of Contents",
   "title_sidebar": "Contents",
   "toc_cell": false,
   "toc_position": {},
   "toc_section_display": true,
   "toc_window_display": false
  },
  "vscode": {
   "interpreter": {
    "hash": "cbab5e14ac642e0b7d4f8b3c341f39ee1a1cfd41468eefd45b78af4896dd8d2b"
   }
  }
 },
 "nbformat": 4,
 "nbformat_minor": 4
}
