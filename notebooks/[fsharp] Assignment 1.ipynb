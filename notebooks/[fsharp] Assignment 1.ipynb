{
 "cells": [
  {
   "cell_type": "markdown",
   "metadata": {},
   "source": [
    "Before you turn this problem in, make sure everything runs as expected. First, **restart the kernel** (in the menu bar, select Kernel$\\rightarrow$Restart) and then **run all cells** (in the menu bar, select Cell$\\rightarrow$Run All).\n",
    "\n",
    "Make sure that in addition to the code, you provide written answers for all questions of the assignment. \n",
    "\n",
    "Below, please fill in your name:"
   ]
  },
  {
   "cell_type": "code",
   "execution_count": 153,
   "metadata": {
    "dotnet_interactive": {
     "language": "fsharp"
    },
    "vscode": {
     "languageId": "dotnet-interactive.fsharp"
    }
   },
   "outputs": [],
   "source": [
    "let NAME = \"Alexey Adamsky\""
   ]
  },
  {
   "cell_type": "markdown",
   "metadata": {},
   "source": [
    "## Assignment 1 - Data Cleaning & Exploration\n",
    "**(30 points total)**"
   ]
  },
  {
   "cell_type": "markdown",
   "metadata": {},
   "source": [
    "For this assignment, we will use an open dataset with data on various types of cereal and the corresponding customer ratings. Use the .csv file provided.\n",
    "\n",
    "Create a dataframe by importing the file into Jupyter, and complete the tasks below. Be sure to show your Python code. You will not be graded on code efficiency, but your code should return a correct answer."
   ]
  },
  {
   "cell_type": "markdown",
   "metadata": {},
   "source": [
    "**Question 1.**  _(4 points)_\n",
    "* Create a new 'Type of Cereal' column in your dataframe (1 point) by copying the 'name' column. Write a function to replace the names of the cereal in your new column with one of these categories Bran, Wheat, Fiber, Protein, Crunch, Corn, Nut, Rice and Other (3 points). Hint: the function should look through the text in the cereal name and determine, based on its contents, how to categorize the cereal type.\n",
    "\n",
    "**Question 2.**  _(2 points)_\n",
    "* Identify the negative values in the data set and replace them with the median value for that column.\n",
    "\n",
    "**Question 3.** _(5 points)_\n",
    "* Standardize the 'weight' column to 1. For this question, you will need to write a function to divide the remaining columns which contain nutritional information by the corresponding value in the weight column, and you will need to divide the value in the weight column by itself in order to get 1. For example, if an observation has a weight value of 1.33 and a calories value of 250, if you divide 250/1.33 you should get a calories value of 188 and a weight value of 1.\n",
    "\n",
    "**Question 4.**  _(5 points)_\n",
    "* Create a new column to categorize cereals as 'healthy' vs. 'unhealthy'. You can define your own version of healthy vs. unhealthy, or you can use the following: healthy cereals can be defined as those which have low calories (<100), low sodium (<150), low sugar (<9) high fiber (>3), and high protein (>2). All other cereals are unhealthy.\n",
    "\n",
    "**Question 5.** _(2 points)_\n",
    "* Based on your newly prepared data set, identify what % of cereals that each manufacturer produces are healthy.\n",
    "\n",
    "**Question 6.** _(2 points)_\n",
    "* Calculate the average, minimum and maximum ratings for healthy vs. unhealthy cereals.\n",
    "\n",
    "**Question 7.** _(2 points)_\n",
    "* Calculate the average, minimum and maximum ratings for each type of cereal: Bran, Wheat, Fiber, Protein, Crunch, Corn, Nut, Rice and Other.\n",
    "\n",
    "**Question 8.** _(3 points)_\n",
    "* Create a stacked bar chart which shows how many of each type of cereal each manufacturer produces.\n",
    "\n",
    "**Question 9.** _(3 points)_\n",
    "* Create a 3-dimensional scatterplot which shows the relationship between rating and calories; the 3-rd dimension should be reflected in the color of the dots and should highlight whether the cereal is categorized as healthy or unhealthy.\n",
    "\n",
    "**Question 10.** _(1 point)_\n",
    "* Which shelf has the most healthy cereals?\n",
    "\n",
    "**Question 11.** _(1 point)_\n",
    "* Based on the analysis conducted, what can you conclude about the cereal data set?"
   ]
  },
  {
   "cell_type": "code",
   "execution_count": 154,
   "metadata": {
    "dotnet_interactive": {
     "language": "fsharp"
    },
    "vscode": {
     "languageId": "dotnet-interactive.fsharp"
    }
   },
   "outputs": [
    {
     "data": {
      "text/html": [
       "<div><div></div><div></div><div><strong>Installed Packages</strong><ul><li><span>Deedle.Interactive, 3.0.0-beta.1</span></li><li><span>FSharp.Stats, 0.4.8</span></li><li><span>Plotly.NET.Interactive, 3.0.2</span></li></ul></div></div>"
      ]
     },
     "metadata": {},
     "output_type": "display_data"
    }
   ],
   "source": [
    "#r \"nuget:Deedle.Interactive,3.0.0-beta.1\"\n",
    "#r \"nuget:FSharp.Stats\"\n",
    "#r \"nuget:Plotly.NET.Interactive\""
   ]
  },
  {
   "cell_type": "code",
   "execution_count": 155,
   "metadata": {
    "dotnet_interactive": {
     "language": "fsharp"
    },
    "vscode": {
     "languageId": "dotnet-interactive.fsharp"
    }
   },
   "outputs": [],
   "source": [
    "open Deedle\n",
    "open FSharp.Stats\n",
    "open Plotly.NET"
   ]
  },
  {
   "cell_type": "code",
   "execution_count": 156,
   "metadata": {
    "dotnet_interactive": {
     "language": "fsharp"
    },
    "vscode": {
     "languageId": "dotnet-interactive.fsharp"
    }
   },
   "outputs": [],
   "source": [
    "let df = Frame.ReadCsv(\"cereal.csv\")"
   ]
  },
  {
   "cell_type": "code",
   "execution_count": 157,
   "metadata": {
    "dotnet_interactive": {
     "language": "fsharp"
    },
    "vscode": {
     "languageId": "dotnet-interactive.fsharp"
    }
   },
   "outputs": [
    {
     "data": {
      "text/html": [
       "<div>\r\n",
       "<style scoped>,\r\n",
       "  .dataframe tbody tr th:only-of-type {\r\n",
       "    vertical-align: middle;\r\n",
       "  }\r\n",
       "  .dataframe tbody tr th {,\r\n",
       "    vertical-align: top\r\n",
       "  }\r\n",
       "  .dataframe thead th {\r\n",
       "    text-align: right;\r\n",
       "  }\r\n",
       "  .no-wrap {\r\n",
       "    white-space: nowrap;\r\n",
       "  }\r\n",
       "</style>\r\n",
       "<table border='1' class='dataframe'>\r\n",
       "<thead><th></th><th></th><th>name</th><th>mfr</th><th>type</th><th>calories</th><th>protein</th><th>fat</th><th>sodium</th><th>fiber</th><th>carbo</th><th>sugars</th><th>potass</th><th>vitamins</th><th>shelf</th><th>weight</th><th>cups</th><th>rating</th></thead><thead><th></th><th></th><th>(string)</th><th>(string)</th><th>(string)</th><th>(int)</th><th>(int)</th><th>(int)</th><th>(int)</th><th>(Decimal)</th><th>(Decimal)</th><th>(int)</th><th>(int)</th><th>(int)</th><th>(int)</th><th>(Decimal)</th><th>(Decimal)</th><th>(Decimal)</th></thead>\r\n",
       "<tr><td><b>0</b></td><td class=\"no-wrap\">-></td><td>100% Bran</td><td>N</td><td>C</td><td>70</td><td>4</td><td>1</td><td>130</td><td>10</td><td>5</td><td>6</td><td>280</td><td>25</td><td>3</td><td>1</td><td>0.33</td><td>68.402973</td></tr><tr><td><b>1</b></td><td class=\"no-wrap\">-></td><td>100% Natural Bran</td><td>Q</td><td>C</td><td>120</td><td>3</td><td>5</td><td>15</td><td>2</td><td>8</td><td>8</td><td>135</td><td>0</td><td>3</td><td>1</td><td>1</td><td>33.983679</td></tr><tr><td><b>2</b></td><td class=\"no-wrap\">-></td><td>All-Bran</td><td>K</td><td>C</td><td>70</td><td>4</td><td>1</td><td>260</td><td>9</td><td>7</td><td>5</td><td>320</td><td>25</td><td>3</td><td>1</td><td>0.33</td><td>59.425505</td></tr><tr><td><b>3</b></td><td class=\"no-wrap\">-></td><td>All-Bran with Extra Fiber</td><td>K</td><td>C</td><td>50</td><td>4</td><td>0</td><td>140</td><td>14</td><td>8</td><td>0</td><td>330</td><td>25</td><td>3</td><td>1</td><td>0.5</td><td>93.704912</td></tr><tr><td><b>4</b></td><td class=\"no-wrap\">-></td><td>Almond Delight</td><td>R</td><td>C</td><td>110</td><td>2</td><td>2</td><td>200</td><td>1</td><td>14</td><td>8</td><td>-1</td><td>25</td><td>3</td><td>1</td><td>0.75</td><td>34.384843</td></tr><tr><td><b>:</b></td><td class=\"no-wrap\"></td><td>...</td><td>...</td><td>...</td><td>...</td><td>...</td><td>...</td><td>...</td><td>...</td><td>...</td><td>...</td><td>...</td><td>...</td><td>...</td><td>...</td><td>...</td><td>...</td></tr><tr><td><b>72</b></td><td class=\"no-wrap\">-></td><td>Triples</td><td>G</td><td>C</td><td>110</td><td>2</td><td>1</td><td>250</td><td>0</td><td>21</td><td>3</td><td>60</td><td>25</td><td>3</td><td>1</td><td>0.75</td><td>39.106174</td></tr><tr><td><b>73</b></td><td class=\"no-wrap\">-></td><td>Trix</td><td>G</td><td>C</td><td>110</td><td>1</td><td>1</td><td>140</td><td>0</td><td>13</td><td>12</td><td>25</td><td>25</td><td>2</td><td>1</td><td>1</td><td>27.753301</td></tr><tr><td><b>74</b></td><td class=\"no-wrap\">-></td><td>Wheat Chex</td><td>R</td><td>C</td><td>100</td><td>3</td><td>1</td><td>230</td><td>3</td><td>17</td><td>3</td><td>115</td><td>25</td><td>1</td><td>1</td><td>0.67</td><td>49.787445</td></tr><tr><td><b>75</b></td><td class=\"no-wrap\">-></td><td>Wheaties</td><td>G</td><td>C</td><td>100</td><td>3</td><td>1</td><td>200</td><td>3</td><td>17</td><td>3</td><td>110</td><td>25</td><td>1</td><td>1</td><td>1</td><td>51.592193</td></tr><tr><td><b>76</b></td><td class=\"no-wrap\">-></td><td>Wheaties Honey Gold</td><td>G</td><td>C</td><td>110</td><td>2</td><td>1</td><td>200</td><td>1</td><td>16</td><td>8</td><td>60</td><td>25</td><td>1</td><td>1</td><td>0.75</td><td>36.187559</td></tr>\r\n",
       "</table>\r\n",
       "<p><b>77</b> rows x <b>16</b> columns</p><p><b>0</b> missing values</p>\r\n",
       "</div>\r\n"
      ]
     },
     "metadata": {},
     "output_type": "display_data"
    }
   ],
   "source": [
    "df"
   ]
  },
  {
   "cell_type": "markdown",
   "metadata": {},
   "source": [
    "### Helpers"
   ]
  },
  {
   "cell_type": "code",
   "execution_count": 158,
   "metadata": {
    "dotnet_interactive": {
     "language": "fsharp"
    },
    "vscode": {
     "languageId": "dotnet-interactive.fsharp"
    }
   },
   "outputs": [],
   "source": [
    "// https://stackoverflow.com/a/74260934/977406\n",
    "\n",
    "let info (df: Deedle.Frame<'a,'b>) =\n",
    "    let dt = df.GetFrameData()\n",
    "    let countOptionalValues d =\n",
    "        d\n",
    "        |> Seq.filter (\n",
    "            function\n",
    "            | OptionalValue.Present _ -> true\n",
    "            | _ -> false\n",
    "        )\n",
    "        |> Seq.length\n",
    "\n",
    "    Seq.zip dt.ColumnKeys dt.Columns\n",
    "    |> Seq.map (fun (col, (ty, vec)) ->\n",
    "        {|\n",
    "            Column = col\n",
    "            ``Non-Null Count`` =\n",
    "                match vec.Data with\n",
    "                | Vectors.VectorData.DenseList d -> $\"%i{d |> Seq.length} non-null\"\n",
    "                | Vectors.VectorData.SparseList d -> $\"%i{d |> countOptionalValues} non-null\"\n",
    "                | Vectors.VectorData.Sequence d -> $\"%i{d |> countOptionalValues} non-null\"\n",
    "            Dtype = ty\n",
    "        |}\n",
    "    )\n",
    "\n",
    "let unique (col: string) (df: Deedle.Frame<'a, string>)=\n",
    "    df.GetColumn<string> col\n",
    "    |> Series.values\n",
    "    |> Seq.distinct\n",
    "    |> String.concat \", \"\n",
    "\n",
    "let describe (df: Frame<'a, 'b>) =\n",
    "    let describeable =\n",
    "        df.ColumnTypes\n",
    "        |> Seq.mapi (\n",
    "            fun i v ->\n",
    "                match v.Name with\n",
    "                | nameof System.Int32\n",
    "                | nameof System.Decimal\n",
    "                | nameof System.Double -> true\n",
    "                | _ -> false\n",
    "        )\n",
    "\n",
    "    let colNames =\n",
    "        Seq.zip df.ColumnKeys describeable\n",
    "        |> Seq.filter (fun (_, d) -> d)\n",
    "        |> Seq.map (fun (n, _) -> n)\n",
    "\n",
    "    Frame.ofRowsOrdinal (\n",
    "        colNames\n",
    "        |> Seq.map (fun c -> df.GetColumn<decimal> c |> Stats.describe) // TODO: can we add \"count\"? similar to pandas\n",
    "    )\n",
    "    |> Frame.transpose\n",
    "    |> Frame.indexColsWith colNames\n",
    "\n",
    "let mapAndReplaceCol n fn (df: Frame<'a, 'b>) =\n",
    "    df.ReplaceColumn (n, df[n] |> Series.map (fun i v -> v |> fn))\n",
    "\n",
    "let aggregateRowsBy grpBy rowsAggs df =\n",
    "    let rec aggRowsBy rowsAggs (aggDf: Frame<string,'a> option) =\n",
    "        match rowsAggs with\n",
    "        | [] ->\n",
    "            aggDf.Value // will throw an expecption if value is None\n",
    "        | (rowName, aggFn, aggName)::tail ->\n",
    "            let aggregatedDf =\n",
    "                df\n",
    "                |> Frame.aggregateRowsBy [grpBy] [rowName] aggFn\n",
    "                |> Frame.indexRowsString grpBy\n",
    "            aggregatedDf.RenameColumn(rowName,aggName)\n",
    "\n",
    "            match aggDf with\n",
    "            | None ->\n",
    "                aggregatedDf\n",
    "                |> Some\n",
    "                |> aggRowsBy tail\n",
    "            | Some aDf ->\n",
    "                aggregatedDf\n",
    "                |> Frame.join JoinKind.Left aDf\n",
    "                |> Some\n",
    "                |> aggRowsBy tail\n",
    "\n",
    "    aggRowsBy rowsAggs None"
   ]
  },
  {
   "cell_type": "code",
   "execution_count": 159,
   "metadata": {
    "dotnet_interactive": {
     "language": "fsharp"
    },
    "vscode": {
     "languageId": "dotnet-interactive.fsharp"
    }
   },
   "outputs": [
    {
     "data": {
      "text/html": [
       "<table><thead><tr><th><i>index</i></th><th>Column</th><th>Dtype</th><th>Non-Null Count</th></tr></thead><tbody><tr><td>0</td><td><div class=\"dni-plaintext\">[ name ]</div></td><td><span><a href=\"https://docs.microsoft.com/dotnet/api/system.string?view=net-5.0\">System.String</a></span></td><td>77 non-null</td></tr><tr><td>1</td><td><div class=\"dni-plaintext\">[ mfr ]</div></td><td><span><a href=\"https://docs.microsoft.com/dotnet/api/system.string?view=net-5.0\">System.String</a></span></td><td>77 non-null</td></tr><tr><td>2</td><td><div class=\"dni-plaintext\">[ type ]</div></td><td><span><a href=\"https://docs.microsoft.com/dotnet/api/system.string?view=net-5.0\">System.String</a></span></td><td>77 non-null</td></tr><tr><td>3</td><td><div class=\"dni-plaintext\">[ calories ]</div></td><td><span><a href=\"https://docs.microsoft.com/dotnet/api/system.int32?view=net-5.0\">System.Int32</a></span></td><td>77 non-null</td></tr><tr><td>4</td><td><div class=\"dni-plaintext\">[ protein ]</div></td><td><span><a href=\"https://docs.microsoft.com/dotnet/api/system.int32?view=net-5.0\">System.Int32</a></span></td><td>77 non-null</td></tr><tr><td>5</td><td><div class=\"dni-plaintext\">[ fat ]</div></td><td><span><a href=\"https://docs.microsoft.com/dotnet/api/system.int32?view=net-5.0\">System.Int32</a></span></td><td>77 non-null</td></tr><tr><td>6</td><td><div class=\"dni-plaintext\">[ sodium ]</div></td><td><span><a href=\"https://docs.microsoft.com/dotnet/api/system.int32?view=net-5.0\">System.Int32</a></span></td><td>77 non-null</td></tr><tr><td>7</td><td><div class=\"dni-plaintext\">[ fiber ]</div></td><td><span><a href=\"https://docs.microsoft.com/dotnet/api/system.decimal?view=net-5.0\">System.Decimal</a></span></td><td>77 non-null</td></tr><tr><td>8</td><td><div class=\"dni-plaintext\">[ carbo ]</div></td><td><span><a href=\"https://docs.microsoft.com/dotnet/api/system.decimal?view=net-5.0\">System.Decimal</a></span></td><td>77 non-null</td></tr><tr><td>9</td><td><div class=\"dni-plaintext\">[ sugars ]</div></td><td><span><a href=\"https://docs.microsoft.com/dotnet/api/system.int32?view=net-5.0\">System.Int32</a></span></td><td>77 non-null</td></tr><tr><td>10</td><td><div class=\"dni-plaintext\">[ potass ]</div></td><td><span><a href=\"https://docs.microsoft.com/dotnet/api/system.int32?view=net-5.0\">System.Int32</a></span></td><td>77 non-null</td></tr><tr><td>11</td><td><div class=\"dni-plaintext\">[ vitamins ]</div></td><td><span><a href=\"https://docs.microsoft.com/dotnet/api/system.int32?view=net-5.0\">System.Int32</a></span></td><td>77 non-null</td></tr><tr><td>12</td><td><div class=\"dni-plaintext\">[ shelf ]</div></td><td><span><a href=\"https://docs.microsoft.com/dotnet/api/system.int32?view=net-5.0\">System.Int32</a></span></td><td>77 non-null</td></tr><tr><td>13</td><td><div class=\"dni-plaintext\">[ weight ]</div></td><td><span><a href=\"https://docs.microsoft.com/dotnet/api/system.decimal?view=net-5.0\">System.Decimal</a></span></td><td>77 non-null</td></tr><tr><td>14</td><td><div class=\"dni-plaintext\">[ cups ]</div></td><td><span><a href=\"https://docs.microsoft.com/dotnet/api/system.decimal?view=net-5.0\">System.Decimal</a></span></td><td>77 non-null</td></tr><tr><td>15</td><td><div class=\"dni-plaintext\">[ rating ]</div></td><td><span><a href=\"https://docs.microsoft.com/dotnet/api/system.decimal?view=net-5.0\">System.Decimal</a></span></td><td>77 non-null</td></tr></tbody></table>"
      ]
     },
     "metadata": {},
     "output_type": "display_data"
    }
   ],
   "source": [
    "// make sure `name` doesn't have any missing values\n",
    "// we also see there are no missing values in any of the columns\n",
    "df |> info"
   ]
  },
  {
   "cell_type": "code",
   "execution_count": 160,
   "metadata": {
    "dotnet_interactive": {
     "language": "fsharp"
    },
    "vscode": {
     "languageId": "dotnet-interactive.fsharp"
    }
   },
   "outputs": [
    {
     "data": {
      "text/plain": [
       "100% Bran, 100% Natural Bran, All-Bran, All-Bran with Extra Fiber, Almond Delight, Apple Cinnamon Cheerios, Apple Jacks, Basic 4, Bran Chex, Bran Flakes, Cap'n'Crunch, Cheerios, Cinnamon Toast Crunch, Clusters, Cocoa Puffs, Corn Chex, Corn Flakes, Corn Pops, Count Chocula, Cracklin' Oat Bran, Cream of Wheat (Quick), Crispix, Crispy Wheat & Raisins, Double Chex, Froot Loops, Frosted Flakes, Frosted Mini-Wheats, Fruit & Fibre Dates; Walnuts; and Oats, Fruitful Bran, Fruity Pebbles, Golden Crisp, Golden Grahams, Grape Nuts Flakes, Grape-Nuts, Great Grains Pecan, Honey Graham Ohs, Honey Nut Cheerios, Honey-comb, Just Right Crunchy  Nuggets, Just Right Fruit & Nut, Kix, Life, Lucky Charms, Maypo, Muesli Raisins; Dates; & Almonds, Muesli Raisins; Peaches; & Pecans, Mueslix Crispy Blend, Multi-Grain Cheerios, Nut&Honey Crunch, Nutri-Grain Almond-Raisin, Nutri-grain Wheat, Oatmeal Raisin Crisp, Post Nat. Raisin Bran, Product 19, Puffed Rice, Puffed Wheat, Quaker Oat Squares, Quaker Oatmeal, Raisin Bran, Raisin Nut Bran, Raisin Squares, Rice Chex, Rice Krispies, Shredded Wheat, Shredded Wheat 'n'Bran, Shredded Wheat spoon size, Smacks, Special K, Strawberry Fruit Wheats, Total Corn Flakes, Total Raisin Bran, Total Whole Grain, Triples, Trix, Wheat Chex, Wheaties, Wheaties Honey Gold"
      ]
     },
     "metadata": {},
     "output_type": "display_data"
    }
   ],
   "source": [
    "df |> unique \"name\""
   ]
  },
  {
   "cell_type": "code",
   "execution_count": 161,
   "metadata": {
    "dotnet_interactive": {
     "language": "fsharp"
    },
    "vscode": {
     "languageId": "dotnet-interactive.fsharp"
    }
   },
   "outputs": [],
   "source": [
    "// Bran, Wheat, Fiber, Protein, Crunch, Corn, Nut, Rice and Other\n",
    "let nameToCategory (n: string) =\n",
    "    if (n.Contains \"Bran\") then \"Bran\"\n",
    "    else if (n.Contains \"Wheat\") then \"Wheat\"\n",
    "    else if (n.Contains \"Fiber\") then \"Fiber\"\n",
    "    else if (n.Contains \"Protein\") then \"Protein\"\n",
    "    else if (n.Contains \"Crunch\") then \"Crunch\"\n",
    "    else if (n.Contains \"Corn\") then \"Corn\"\n",
    "    else if (n.Contains \"Nut\") || (n.Contains \"Almond\") || (n.Contains \"Walnut\") || (n.Contains \"Pecan\") then \"Nut\"\n",
    "    else if (n.Contains \"Rice\") then \"Rice\"\n",
    "    else \"Other\""
   ]
  },
  {
   "cell_type": "code",
   "execution_count": 162,
   "metadata": {
    "dotnet_interactive": {
     "language": "fsharp"
    },
    "vscode": {
     "languageId": "dotnet-interactive.fsharp"
    }
   },
   "outputs": [
    {
     "data": {
      "text/html": [
       "<div>\r\n",
       "<style scoped>,\r\n",
       "  .series tbody tr th:only-of-type {\r\n",
       "vertical-align: middle;\r\n",
       "  }\r\n",
       "  .series tbody tr {,\r\n",
       "vertical-align: top\r\n",
       "  }\r\n",
       "  .no-wrap {\r\n",
       "white-space: nowrap;\r\n",
       "  }\r\n",
       "</style>\r\n",
       "<table border='1' class='series'>\r\n",
       "<tr><td><b>0</b></td><td class=\"no-wrap\">-></td><td>Bran</td></tr><tr><td><b>1</b></td><td class=\"no-wrap\">-></td><td>Bran</td></tr><tr><td><b>2</b></td><td class=\"no-wrap\">-></td><td>Bran</td></tr><tr><td><b>3</b></td><td class=\"no-wrap\">-></td><td>Bran</td></tr><tr><td><b>4</b></td><td class=\"no-wrap\">-></td><td>Nut</td></tr><tr><td><b>...</b></td><td class=\"no-wrap\">-></td><td>...</td></tr><tr><td><b>72</b></td><td class=\"no-wrap\">-></td><td>Other</td></tr><tr><td><b>73</b></td><td class=\"no-wrap\">-></td><td>Other</td></tr><tr><td><b>74</b></td><td class=\"no-wrap\">-></td><td>Wheat</td></tr><tr><td><b>75</b></td><td class=\"no-wrap\">-></td><td>Wheat</td></tr><tr><td><b>76</b></td><td class=\"no-wrap\">-></td><td>Wheat</td></tr>\r\n",
       "</table>\r\n",
       "<p>Series of <b>77</b> items<p><b>0</b> missing values</p>\r\n",
       "</div>\r\n"
      ]
     },
     "metadata": {},
     "output_type": "display_data"
    }
   ],
   "source": [
    "df.GetColumn<string>(\"name\")\n",
    "|> Series.mapValues nameToCategory"
   ]
  },
  {
   "cell_type": "code",
   "execution_count": 163,
   "metadata": {
    "dotnet_interactive": {
     "language": "fsharp"
    },
    "vscode": {
     "languageId": "dotnet-interactive.fsharp"
    }
   },
   "outputs": [],
   "source": [
    "(\n",
    "    \"Type of Cereal\",\n",
    "    df.GetColumn<string>(\"name\")\n",
    "    |> Series.mapValues nameToCategory\n",
    ")\n",
    "|> df.AddColumn"
   ]
  },
  {
   "cell_type": "code",
   "execution_count": 164,
   "metadata": {
    "dotnet_interactive": {
     "language": "fsharp"
    },
    "vscode": {
     "languageId": "dotnet-interactive.fsharp"
    }
   },
   "outputs": [
    {
     "data": {
      "text/html": [
       "<div>\r\n",
       "<style scoped>,\r\n",
       "  .dataframe tbody tr th:only-of-type {\r\n",
       "    vertical-align: middle;\r\n",
       "  }\r\n",
       "  .dataframe tbody tr th {,\r\n",
       "    vertical-align: top\r\n",
       "  }\r\n",
       "  .dataframe thead th {\r\n",
       "    text-align: right;\r\n",
       "  }\r\n",
       "  .no-wrap {\r\n",
       "    white-space: nowrap;\r\n",
       "  }\r\n",
       "</style>\r\n",
       "<table border='1' class='dataframe'>\r\n",
       "<thead><th></th><th></th><th>name</th><th>mfr</th><th>type</th><th>calories</th><th>protein</th><th>fat</th><th>sodium</th><th>fiber</th><th>carbo</th><th>sugars</th><th>potass</th><th>vitamins</th><th>shelf</th><th>weight</th><th>cups</th><th>rating</th><th>Type of Cereal</th></thead><thead><th></th><th></th><th>(string)</th><th>(string)</th><th>(string)</th><th>(int)</th><th>(int)</th><th>(int)</th><th>(int)</th><th>(Decimal)</th><th>(Decimal)</th><th>(int)</th><th>(int)</th><th>(int)</th><th>(int)</th><th>(Decimal)</th><th>(Decimal)</th><th>(Decimal)</th><th>(string)</th></thead>\r\n",
       "<tr><td><b>0</b></td><td class=\"no-wrap\">-></td><td>100% Bran</td><td>N</td><td>C</td><td>70</td><td>4</td><td>1</td><td>130</td><td>10</td><td>5</td><td>6</td><td>280</td><td>25</td><td>3</td><td>1</td><td>0.33</td><td>68.402973</td><td>Bran</td></tr><tr><td><b>1</b></td><td class=\"no-wrap\">-></td><td>100% Natural Bran</td><td>Q</td><td>C</td><td>120</td><td>3</td><td>5</td><td>15</td><td>2</td><td>8</td><td>8</td><td>135</td><td>0</td><td>3</td><td>1</td><td>1</td><td>33.983679</td><td>Bran</td></tr><tr><td><b>2</b></td><td class=\"no-wrap\">-></td><td>All-Bran</td><td>K</td><td>C</td><td>70</td><td>4</td><td>1</td><td>260</td><td>9</td><td>7</td><td>5</td><td>320</td><td>25</td><td>3</td><td>1</td><td>0.33</td><td>59.425505</td><td>Bran</td></tr><tr><td><b>3</b></td><td class=\"no-wrap\">-></td><td>All-Bran with Extra Fiber</td><td>K</td><td>C</td><td>50</td><td>4</td><td>0</td><td>140</td><td>14</td><td>8</td><td>0</td><td>330</td><td>25</td><td>3</td><td>1</td><td>0.5</td><td>93.704912</td><td>Bran</td></tr><tr><td><b>4</b></td><td class=\"no-wrap\">-></td><td>Almond Delight</td><td>R</td><td>C</td><td>110</td><td>2</td><td>2</td><td>200</td><td>1</td><td>14</td><td>8</td><td>-1</td><td>25</td><td>3</td><td>1</td><td>0.75</td><td>34.384843</td><td>Nut</td></tr><tr><td><b>:</b></td><td class=\"no-wrap\"></td><td>...</td><td>...</td><td>...</td><td>...</td><td>...</td><td>...</td><td>...</td><td>...</td><td>...</td><td>...</td><td>...</td><td>...</td><td>...</td><td>...</td><td>...</td><td>...</td><td>...</td></tr><tr><td><b>72</b></td><td class=\"no-wrap\">-></td><td>Triples</td><td>G</td><td>C</td><td>110</td><td>2</td><td>1</td><td>250</td><td>0</td><td>21</td><td>3</td><td>60</td><td>25</td><td>3</td><td>1</td><td>0.75</td><td>39.106174</td><td>Other</td></tr><tr><td><b>73</b></td><td class=\"no-wrap\">-></td><td>Trix</td><td>G</td><td>C</td><td>110</td><td>1</td><td>1</td><td>140</td><td>0</td><td>13</td><td>12</td><td>25</td><td>25</td><td>2</td><td>1</td><td>1</td><td>27.753301</td><td>Other</td></tr><tr><td><b>74</b></td><td class=\"no-wrap\">-></td><td>Wheat Chex</td><td>R</td><td>C</td><td>100</td><td>3</td><td>1</td><td>230</td><td>3</td><td>17</td><td>3</td><td>115</td><td>25</td><td>1</td><td>1</td><td>0.67</td><td>49.787445</td><td>Wheat</td></tr><tr><td><b>75</b></td><td class=\"no-wrap\">-></td><td>Wheaties</td><td>G</td><td>C</td><td>100</td><td>3</td><td>1</td><td>200</td><td>3</td><td>17</td><td>3</td><td>110</td><td>25</td><td>1</td><td>1</td><td>1</td><td>51.592193</td><td>Wheat</td></tr><tr><td><b>76</b></td><td class=\"no-wrap\">-></td><td>Wheaties Honey Gold</td><td>G</td><td>C</td><td>110</td><td>2</td><td>1</td><td>200</td><td>1</td><td>16</td><td>8</td><td>60</td><td>25</td><td>1</td><td>1</td><td>0.75</td><td>36.187559</td><td>Wheat</td></tr>\r\n",
       "</table>\r\n",
       "<p><b>77</b> rows x <b>17</b> columns</p><p><b>0</b> missing values</p>\r\n",
       "</div>\r\n"
      ]
     },
     "metadata": {},
     "output_type": "display_data"
    }
   ],
   "source": [
    "df"
   ]
  },
  {
   "cell_type": "code",
   "execution_count": 165,
   "metadata": {
    "dotnet_interactive": {
     "language": "fsharp"
    },
    "vscode": {
     "languageId": "dotnet-interactive.fsharp"
    }
   },
   "outputs": [
    {
     "data": {
      "text/plain": [
       "Bran, Nut, Other, Crunch, Corn, Wheat, Rice"
      ]
     },
     "metadata": {},
     "output_type": "display_data"
    }
   ],
   "source": [
    "// resulting categories\n",
    "df |> unique \"Type of Cereal\""
   ]
  },
  {
   "cell_type": "markdown",
   "metadata": {},
   "source": [
    "### **Question 2.**  _(2 points)_\n",
    "* Identify the negative values in the data set and replace them with the median value for that column."
   ]
  },
  {
   "cell_type": "code",
   "execution_count": 166,
   "metadata": {
    "dotnet_interactive": {
     "language": "fsharp"
    },
    "vscode": {
     "languageId": "dotnet-interactive.fsharp"
    }
   },
   "outputs": [
    {
     "data": {
      "text/html": [
       "<div>\r\n",
       "<style scoped>,\r\n",
       "  .dataframe tbody tr th:only-of-type {\r\n",
       "    vertical-align: middle;\r\n",
       "  }\r\n",
       "  .dataframe tbody tr th {,\r\n",
       "    vertical-align: top\r\n",
       "  }\r\n",
       "  .dataframe thead th {\r\n",
       "    text-align: right;\r\n",
       "  }\r\n",
       "  .no-wrap {\r\n",
       "    white-space: nowrap;\r\n",
       "  }\r\n",
       "</style>\r\n",
       "<table border='1' class='dataframe'>\r\n",
       "<thead><th></th><th></th><th>calories</th><th>protein</th><th>fat</th><th>sodium</th><th>fiber</th><th>carbo</th><th>sugars</th><th>potass</th><th>vitamins</th><th>shelf</th><th>weight</th><th>cups</th><th>rating</th></thead><thead><th></th><th></th><th>(float)</th><th>(float)</th><th>(float)</th><th>(float)</th><th>(float)</th><th>(float)</th><th>(float)</th><th>(float)</th><th>(float)</th><th>(float)</th><th>(float)</th><th>(float)</th><th>(float)</th></thead>\r\n",
       "<tr><td><b>unique</b></td><td class=\"no-wrap\">-></td><td>11</td><td>6</td><td>5</td><td>27</td><td>13</td><td>22</td><td>17</td><td>36</td><td>3</td><td>3</td><td>7</td><td>12</td><td>77</td></tr><tr><td><b>mean</b></td><td class=\"no-wrap\">-></td><td>106.88311688311688</td><td>2.5454545454545454</td><td>1.0129870129870129</td><td>159.67532467532467</td><td>2.1519480519480516</td><td>14.597402597402597</td><td>6.922077922077922</td><td>96.07792207792208</td><td>28.246753246753247</td><td>2.207792207792208</td><td>1.0296103896103894</td><td>0.8210389610389613</td><td>42.66570498701299</td></tr><tr><td><b>std</b></td><td class=\"no-wrap\">-></td><td>19.48411905682084</td><td>1.094789748445534</td><td>1.006472559480393</td><td>83.83229524009316</td><td>2.383363964387222</td><td>4.278956280325908</td><td>4.4448853924193585</td><td>71.28681250926212</td><td>22.342522500566307</td><td>0.832524100135788</td><td>0.15047679973689349</td><td>0.2327161384469134</td><td>14.047288743735223</td></tr><tr><td><b>min</b></td><td class=\"no-wrap\">-></td><td>50</td><td>1</td><td>0</td><td>0</td><td>0</td><td>-1</td><td>-1</td><td>-1</td><td>0</td><td>1</td><td>0.5</td><td>0.25</td><td>18.042851</td></tr><tr><td><b>0.25</b></td><td class=\"no-wrap\">-></td><td>100</td><td>2</td><td>0</td><td>130</td><td>1</td><td>12</td><td>3</td><td>40</td><td>25</td><td>1</td><td>1</td><td>0.67</td><td>33.174094</td></tr><tr><td><b>0.5</b></td><td class=\"no-wrap\">-></td><td>110</td><td>3</td><td>1</td><td>180</td><td>2</td><td>14</td><td>7</td><td>90</td><td>25</td><td>2</td><td>1</td><td>0.75</td><td>40.400208</td></tr><tr><td><b>0.75</b></td><td class=\"no-wrap\">-></td><td>110</td><td>3</td><td>2</td><td>210</td><td>3</td><td>17</td><td>11</td><td>120</td><td>25</td><td>3</td><td>1</td><td>1</td><td>50.828392</td></tr><tr><td><b>max</b></td><td class=\"no-wrap\">-></td><td>160</td><td>6</td><td>5</td><td>320</td><td>14</td><td>23</td><td>15</td><td>330</td><td>100</td><td>3</td><td>1.5</td><td>1.5</td><td>93.704912</td></tr>\r\n",
       "</table>\r\n",
       "<p><b>8</b> rows x <b>13</b> columns</p><p><b>0</b> missing values</p>\r\n",
       "</div>\r\n"
      ]
     },
     "metadata": {},
     "output_type": "display_data"
    }
   ],
   "source": [
    "// these 3 columns have negative values \"carbo, sugars and potass\"\n",
    "df |> describe"
   ]
  },
  {
   "cell_type": "code",
   "execution_count": 167,
   "metadata": {
    "dotnet_interactive": {
     "language": "fsharp"
    },
    "vscode": {
     "languageId": "dotnet-interactive.fsharp"
    }
   },
   "outputs": [],
   "source": [
    "let carboMean = df[\"carbo\"].Mean()\n",
    "let sugarsMean = df[\"sugars\"].Mean()\n",
    "let potassMean = df[\"potass\"].Mean()\n",
    "let replaceWithMean m v = if v < 0. then m else v\n",
    "\n",
    "df |> mapAndReplaceCol \"carbo\" (replaceWithMean carboMean)\n",
    "df |> mapAndReplaceCol \"sugars\" (replaceWithMean sugarsMean)\n",
    "df |> mapAndReplaceCol \"potass\" (replaceWithMean potassMean)"
   ]
  },
  {
   "cell_type": "code",
   "execution_count": 168,
   "metadata": {
    "dotnet_interactive": {
     "language": "fsharp"
    },
    "vscode": {
     "languageId": "dotnet-interactive.fsharp"
    }
   },
   "outputs": [
    {
     "data": {
      "text/html": [
       "<div>\r\n",
       "<style scoped>,\r\n",
       "  .dataframe tbody tr th:only-of-type {\r\n",
       "    vertical-align: middle;\r\n",
       "  }\r\n",
       "  .dataframe tbody tr th {,\r\n",
       "    vertical-align: top\r\n",
       "  }\r\n",
       "  .dataframe thead th {\r\n",
       "    text-align: right;\r\n",
       "  }\r\n",
       "  .no-wrap {\r\n",
       "    white-space: nowrap;\r\n",
       "  }\r\n",
       "</style>\r\n",
       "<table border='1' class='dataframe'>\r\n",
       "<thead><th></th><th></th><th>calories</th><th>protein</th><th>fat</th><th>sodium</th><th>fiber</th><th>vitamins</th><th>shelf</th><th>weight</th><th>cups</th><th>rating</th><th>carbo</th><th>sugars</th><th>potass</th></thead><thead><th></th><th></th><th>(float)</th><th>(float)</th><th>(float)</th><th>(float)</th><th>(float)</th><th>(float)</th><th>(float)</th><th>(float)</th><th>(float)</th><th>(float)</th><th>(float)</th><th>(float)</th><th>(float)</th></thead>\r\n",
       "<tr><td><b>unique</b></td><td class=\"no-wrap\">-></td><td>11</td><td>6</td><td>5</td><td>27</td><td>13</td><td>3</td><td>3</td><td>7</td><td>12</td><td>77</td><td>22</td><td>17</td><td>36</td></tr><tr><td><b>mean</b></td><td class=\"no-wrap\">-></td><td>106.88311688311688</td><td>2.5454545454545454</td><td>1.0129870129870129</td><td>159.67532467532467</td><td>2.1519480519480516</td><td>28.246753246753247</td><td>2.207792207792208</td><td>1.0296103896103894</td><td>0.8210389610389613</td><td>42.66570498701299</td><td>14.799966267498736</td><td>7.024962050936077</td><td>98.5994265474785</td></tr><tr><td><b>std</b></td><td class=\"no-wrap\">-></td><td>19.48411905682084</td><td>1.094789748445534</td><td>1.006472559480393</td><td>83.83229524009316</td><td>2.383363964387222</td><td>22.342522500566307</td><td>0.832524100135788</td><td>0.15047679973689349</td><td>0.2327161384469134</td><td>14.047288743735223</td><td>3.8816048051572682</td><td>4.349770249291506</td><td>69.47923977411571</td></tr><tr><td><b>min</b></td><td class=\"no-wrap\">-></td><td>50</td><td>1</td><td>0</td><td>0</td><td>0</td><td>0</td><td>1</td><td>0.5</td><td>0.25</td><td>18.042851</td><td>5</td><td>0</td><td>15</td></tr><tr><td><b>0.25</b></td><td class=\"no-wrap\">-></td><td>100</td><td>2</td><td>0</td><td>130</td><td>1</td><td>25</td><td>1</td><td>1</td><td>0.67</td><td>33.174094</td><td>12</td><td>3</td><td>45</td></tr><tr><td><b>0.5</b></td><td class=\"no-wrap\">-></td><td>110</td><td>3</td><td>1</td><td>180</td><td>2</td><td>25</td><td>2</td><td>1</td><td>0.75</td><td>40.400208</td><td>14.5974025974026</td><td>7</td><td>90</td></tr><tr><td><b>0.75</b></td><td class=\"no-wrap\">-></td><td>110</td><td>3</td><td>2</td><td>210</td><td>3</td><td>25</td><td>3</td><td>1</td><td>1</td><td>50.828392</td><td>17</td><td>11</td><td>120</td></tr><tr><td><b>max</b></td><td class=\"no-wrap\">-></td><td>160</td><td>6</td><td>5</td><td>320</td><td>14</td><td>100</td><td>3</td><td>1.5</td><td>1.5</td><td>93.704912</td><td>23</td><td>15</td><td>330</td></tr>\r\n",
       "</table>\r\n",
       "<p><b>8</b> rows x <b>13</b> columns</p><p><b>0</b> missing values</p>\r\n",
       "</div>\r\n"
      ]
     },
     "metadata": {},
     "output_type": "display_data"
    }
   ],
   "source": [
    "df |> describe"
   ]
  },
  {
   "cell_type": "markdown",
   "metadata": {},
   "source": [
    "### **Question 3.** _(5 points)_\n",
    "* Standardize the 'weight' column to 1. For this question, you will need to write a function to divide the remaining columns which contain nutritional information by the corresponding value in the weight column, and you will need to divide the value in the weight column by itself in order to get 1. For example, if an observation has a weight value of 1.33 and a calories value of 250, if you divide 250/1.33 you should get a calories value of 188 and a weight value of 1."
   ]
  },
  {
   "cell_type": "code",
   "execution_count": 169,
   "metadata": {
    "dotnet_interactive": {
     "language": "fsharp"
    },
    "vscode": {
     "languageId": "dotnet-interactive.fsharp"
    }
   },
   "outputs": [
    {
     "data": {
      "text/html": [
       "<div>\r\n",
       "<style scoped>,\r\n",
       "  .dataframe tbody tr th:only-of-type {\r\n",
       "    vertical-align: middle;\r\n",
       "  }\r\n",
       "  .dataframe tbody tr th {,\r\n",
       "    vertical-align: top\r\n",
       "  }\r\n",
       "  .dataframe thead th {\r\n",
       "    text-align: right;\r\n",
       "  }\r\n",
       "  .no-wrap {\r\n",
       "    white-space: nowrap;\r\n",
       "  }\r\n",
       "</style>\r\n",
       "<table border='1' class='dataframe'>\r\n",
       "<thead><th></th><th></th><th>name</th><th>mfr</th><th>type</th><th>calories</th><th>protein</th><th>fat</th><th>sodium</th><th>fiber</th><th>vitamins</th><th>shelf</th><th>weight</th><th>cups</th><th>rating</th><th>Type of Cereal</th><th>carbo</th><th>sugars</th><th>potass</th></thead><thead><th></th><th></th><th>(string)</th><th>(string)</th><th>(string)</th><th>(int)</th><th>(int)</th><th>(int)</th><th>(int)</th><th>(Decimal)</th><th>(int)</th><th>(int)</th><th>(Decimal)</th><th>(Decimal)</th><th>(Decimal)</th><th>(string)</th><th>(float)</th><th>(float)</th><th>(float)</th></thead>\r\n",
       "<tr><td><b>0</b></td><td class=\"no-wrap\">-></td><td>100% Bran</td><td>N</td><td>C</td><td>70</td><td>4</td><td>1</td><td>130</td><td>10</td><td>25</td><td>3</td><td>1</td><td>0.33</td><td>68.402973</td><td>Bran</td><td>5</td><td>6</td><td>280</td></tr><tr><td><b>1</b></td><td class=\"no-wrap\">-></td><td>100% Natural Bran</td><td>Q</td><td>C</td><td>120</td><td>3</td><td>5</td><td>15</td><td>2</td><td>0</td><td>3</td><td>1</td><td>1</td><td>33.983679</td><td>Bran</td><td>8</td><td>8</td><td>135</td></tr><tr><td><b>2</b></td><td class=\"no-wrap\">-></td><td>All-Bran</td><td>K</td><td>C</td><td>70</td><td>4</td><td>1</td><td>260</td><td>9</td><td>25</td><td>3</td><td>1</td><td>0.33</td><td>59.425505</td><td>Bran</td><td>7</td><td>5</td><td>320</td></tr><tr><td><b>3</b></td><td class=\"no-wrap\">-></td><td>All-Bran with Extra Fiber</td><td>K</td><td>C</td><td>50</td><td>4</td><td>0</td><td>140</td><td>14</td><td>25</td><td>3</td><td>1</td><td>0.5</td><td>93.704912</td><td>Bran</td><td>8</td><td>0</td><td>330</td></tr><tr><td><b>4</b></td><td class=\"no-wrap\">-></td><td>Almond Delight</td><td>R</td><td>C</td><td>110</td><td>2</td><td>2</td><td>200</td><td>1</td><td>25</td><td>3</td><td>1</td><td>0.75</td><td>34.384843</td><td>Nut</td><td>14</td><td>8</td><td>96.07792207792208</td></tr><tr><td><b>:</b></td><td class=\"no-wrap\"></td><td>...</td><td>...</td><td>...</td><td>...</td><td>...</td><td>...</td><td>...</td><td>...</td><td>...</td><td>...</td><td>...</td><td>...</td><td>...</td><td>...</td><td>...</td><td>...</td><td>...</td></tr><tr><td><b>72</b></td><td class=\"no-wrap\">-></td><td>Triples</td><td>G</td><td>C</td><td>110</td><td>2</td><td>1</td><td>250</td><td>0</td><td>25</td><td>3</td><td>1</td><td>0.75</td><td>39.106174</td><td>Other</td><td>21</td><td>3</td><td>60</td></tr><tr><td><b>73</b></td><td class=\"no-wrap\">-></td><td>Trix</td><td>G</td><td>C</td><td>110</td><td>1</td><td>1</td><td>140</td><td>0</td><td>25</td><td>2</td><td>1</td><td>1</td><td>27.753301</td><td>Other</td><td>13</td><td>12</td><td>25</td></tr><tr><td><b>74</b></td><td class=\"no-wrap\">-></td><td>Wheat Chex</td><td>R</td><td>C</td><td>100</td><td>3</td><td>1</td><td>230</td><td>3</td><td>25</td><td>1</td><td>1</td><td>0.67</td><td>49.787445</td><td>Wheat</td><td>17</td><td>3</td><td>115</td></tr><tr><td><b>75</b></td><td class=\"no-wrap\">-></td><td>Wheaties</td><td>G</td><td>C</td><td>100</td><td>3</td><td>1</td><td>200</td><td>3</td><td>25</td><td>1</td><td>1</td><td>1</td><td>51.592193</td><td>Wheat</td><td>17</td><td>3</td><td>110</td></tr><tr><td><b>76</b></td><td class=\"no-wrap\">-></td><td>Wheaties Honey Gold</td><td>G</td><td>C</td><td>110</td><td>2</td><td>1</td><td>200</td><td>1</td><td>25</td><td>1</td><td>1</td><td>0.75</td><td>36.187559</td><td>Wheat</td><td>16</td><td>8</td><td>60</td></tr>\r\n",
       "</table>\r\n",
       "<p><b>77</b> rows x <b>17</b> columns</p><p><b>0</b> missing values</p>\r\n",
       "</div>\r\n"
      ]
     },
     "metadata": {},
     "output_type": "display_data"
    }
   ],
   "source": [
    "df"
   ]
  },
  {
   "cell_type": "code",
   "execution_count": 170,
   "metadata": {
    "dotnet_interactive": {
     "language": "fsharp"
    },
    "vscode": {
     "languageId": "dotnet-interactive.fsharp"
    }
   },
   "outputs": [
    {
     "data": {
      "text/html": [
       "<div>\r\n",
       "<style scoped>,\r\n",
       "  .series tbody tr th:only-of-type {\r\n",
       "vertical-align: middle;\r\n",
       "  }\r\n",
       "  .series tbody tr {,\r\n",
       "vertical-align: top\r\n",
       "  }\r\n",
       "  .no-wrap {\r\n",
       "white-space: nowrap;\r\n",
       "  }\r\n",
       "</style>\r\n",
       "<table border='1' class='series'>\r\n",
       "<tr><td><b>7</b></td><td class=\"no-wrap\">-></td><td>1.33</td></tr><tr><td><b>27</b></td><td class=\"no-wrap\">-></td><td>1.25</td></tr><tr><td><b>28</b></td><td class=\"no-wrap\">-></td><td>1.33</td></tr><tr><td><b>39</b></td><td class=\"no-wrap\">-></td><td>1.3</td></tr><tr><td><b>46</b></td><td class=\"no-wrap\">-></td><td>1.5</td></tr><tr><td><b>...</b></td><td class=\"no-wrap\">-></td><td>...</td></tr><tr><td><b>54</b></td><td class=\"no-wrap\">-></td><td>0.5</td></tr><tr><td><b>55</b></td><td class=\"no-wrap\">-></td><td>0.5</td></tr><tr><td><b>58</b></td><td class=\"no-wrap\">-></td><td>1.33</td></tr><tr><td><b>63</b></td><td class=\"no-wrap\">-></td><td>0.83</td></tr><tr><td><b>70</b></td><td class=\"no-wrap\">-></td><td>1.5</td></tr>\r\n",
       "</table>\r\n",
       "<p>Series of <b>13</b> items<p><b>0</b> missing values</p>\r\n",
       "</div>\r\n"
      ]
     },
     "metadata": {},
     "output_type": "display_data"
    }
   ],
   "source": [
    "df\n",
    "|> Frame.filterRows(fun _ r -> r?weight <> 1.)\n",
    "|> fun f -> f?weight"
   ]
  },
  {
   "cell_type": "code",
   "execution_count": 171,
   "metadata": {
    "dotnet_interactive": {
     "language": "fsharp"
    },
    "vscode": {
     "languageId": "dotnet-interactive.fsharp"
    }
   },
   "outputs": [
    {
     "data": {
      "text/html": [
       "<div>\r\n",
       "<style scoped>,\r\n",
       "  .series tbody tr th:only-of-type {\r\n",
       "vertical-align: middle;\r\n",
       "  }\r\n",
       "  .series tbody tr {,\r\n",
       "vertical-align: top\r\n",
       "  }\r\n",
       "  .no-wrap {\r\n",
       "white-space: nowrap;\r\n",
       "  }\r\n",
       "</style>\r\n",
       "<table border='1' class='series'>\r\n",
       "<tr><td><b>calories</b></td><td class=\"no-wrap\">-></td><td>130</td></tr><tr><td><b>weight</b></td><td class=\"no-wrap\">-></td><td>1.33</td></tr>\r\n",
       "</table>\r\n",
       "<p>Series of <b>2</b> items<p><b>0</b> missing values</p>\r\n",
       "</div>\r\n"
      ]
     },
     "metadata": {},
     "output_type": "display_data"
    }
   ],
   "source": [
    "// index 7 has weight of 1.33 and 130 calories.\n",
    "df\n",
    "|> Frame.filterCols (fun k _ -> List.contains k [\"calories\"; \"weight\"])\n",
    "|> Frame.rows\n",
    "|> Series.getAt 7"
   ]
  },
  {
   "cell_type": "code",
   "execution_count": 172,
   "metadata": {
    "dotnet_interactive": {
     "language": "fsharp"
    },
    "vscode": {
     "languageId": "dotnet-interactive.fsharp"
    }
   },
   "outputs": [
    {
     "data": {
      "text/html": [
       "<div class=\"dni-plaintext\">97.74436090225564</div>"
      ]
     },
     "metadata": {},
     "output_type": "display_data"
    }
   ],
   "source": [
    "(df[\"calories\"] / df[\"weight\"])\n",
    "|> Series.getAt 7"
   ]
  },
  {
   "cell_type": "code",
   "execution_count": 173,
   "metadata": {
    "dotnet_interactive": {
     "language": "fsharp"
    },
    "vscode": {
     "languageId": "dotnet-interactive.fsharp"
    }
   },
   "outputs": [],
   "source": [
    "// normalize by weight\n",
    "df.ReplaceColumn (\"calories\", df[\"calories\"] / df[\"weight\"])\n",
    "df.ReplaceColumn (\"protein\", df[\"protein\"] / df[\"weight\"])\n",
    "df.ReplaceColumn (\"fat\", df[\"fat\"] / df[\"weight\"])\n",
    "df.ReplaceColumn (\"sodium\", df[\"sodium\"] / df[\"weight\"])\n",
    "df.ReplaceColumn (\"fiber\", df[\"fiber\"] / df[\"weight\"])\n",
    "df.ReplaceColumn (\"carbo\", df[\"carbo\"] / df[\"weight\"])\n",
    "df.ReplaceColumn (\"sugars\", df[\"sugars\"] / df[\"weight\"])\n",
    "df.ReplaceColumn (\"potass\", df[\"potass\"] / df[\"weight\"])\n",
    "df.ReplaceColumn (\"vitamins\", df[\"vitamins\"] / df[\"weight\"])\n",
    "df.ReplaceColumn (\"cups\", df[\"cups\"] / df[\"weight\"])"
   ]
  },
  {
   "cell_type": "code",
   "execution_count": 174,
   "metadata": {
    "dotnet_interactive": {
     "language": "fsharp"
    },
    "vscode": {
     "languageId": "dotnet-interactive.fsharp"
    }
   },
   "outputs": [
    {
     "data": {
      "text/html": [
       "<table><thead><tr><th>Item1</th><th>Item2</th></tr></thead><tbody><tr><td><div class=\"dni-plaintext\">97.74436090225564</div></td><td><div class=\"dni-plaintext\">1.33</div></td></tr></tbody></table>"
      ]
     },
     "metadata": {},
     "output_type": "display_data"
    }
   ],
   "source": [
    "df\n",
    "|> Frame.rows\n",
    "|> Series.getAt 7\n",
    "|> fun s -> s?calories, s?weight"
   ]
  },
  {
   "cell_type": "code",
   "execution_count": 175,
   "metadata": {
    "dotnet_interactive": {
     "language": "fsharp"
    },
    "vscode": {
     "languageId": "dotnet-interactive.fsharp"
    }
   },
   "outputs": [],
   "source": [
    "// # override weight to be 1 for all entries\n",
    "df |> mapAndReplaceCol \"weight\" (fun v -> 1)"
   ]
  },
  {
   "cell_type": "code",
   "execution_count": 176,
   "metadata": {
    "dotnet_interactive": {
     "language": "fsharp"
    },
    "vscode": {
     "languageId": "dotnet-interactive.fsharp"
    }
   },
   "outputs": [
    {
     "data": {
      "text/html": [
       "<table><thead><tr><th>Item1</th><th>Item2</th></tr></thead><tbody><tr><td><div class=\"dni-plaintext\">97.74436090225564</div></td><td><div class=\"dni-plaintext\">1</div></td></tr></tbody></table>"
      ]
     },
     "metadata": {},
     "output_type": "display_data"
    }
   ],
   "source": [
    "// # index 7 now has weight of 1 and correct calories.\n",
    "df\n",
    "|> Frame.rows\n",
    "|> Series.getAt 7\n",
    "|> fun s -> s?calories, s?weight"
   ]
  },
  {
   "cell_type": "markdown",
   "metadata": {},
   "source": [
    "### **Question 4.**  _(5 points)_\n",
    "* Create a new column to categorize cereals as 'healthy' vs. 'unhealthy'. You can define your own version of healthy vs. unhealthy, or you can use the following: healthy cereals can be defined as those which have low calories (<100), low sodium (<150), low sugar (<9) high fiber (>3), and high protein (>2). All other cereals are unhealthy."
   ]
  },
  {
   "cell_type": "code",
   "execution_count": 177,
   "metadata": {
    "dotnet_interactive": {
     "language": "fsharp"
    },
    "vscode": {
     "languageId": "dotnet-interactive.fsharp"
    }
   },
   "outputs": [
    {
     "data": {
      "text/html": [
       "<div>\r\n",
       "<style scoped>,\r\n",
       "  .dataframe tbody tr th:only-of-type {\r\n",
       "    vertical-align: middle;\r\n",
       "  }\r\n",
       "  .dataframe tbody tr th {,\r\n",
       "    vertical-align: top\r\n",
       "  }\r\n",
       "  .dataframe thead th {\r\n",
       "    text-align: right;\r\n",
       "  }\r\n",
       "  .no-wrap {\r\n",
       "    white-space: nowrap;\r\n",
       "  }\r\n",
       "</style>\r\n",
       "<table border='1' class='dataframe'>\r\n",
       "<thead><th></th><th></th><th>name</th><th>mfr</th><th>type</th><th>shelf</th><th>rating</th><th>Type of Cereal</th><th>calories</th><th>protein</th><th>fat</th><th>sodium</th><th>fiber</th><th>carbo</th><th>sugars</th><th>potass</th><th>vitamins</th><th>cups</th><th>weight</th></thead><thead><th></th><th></th><th>(string)</th><th>(string)</th><th>(string)</th><th>(int)</th><th>(Decimal)</th><th>(string)</th><th>(float)</th><th>(float)</th><th>(float)</th><th>(float)</th><th>(float)</th><th>(float)</th><th>(float)</th><th>(float)</th><th>(float)</th><th>(float)</th><th>(int)</th></thead>\r\n",
       "<tr><td><b>0</b></td><td class=\"no-wrap\">-></td><td>100% Bran</td><td>N</td><td>C</td><td>3</td><td>68.402973</td><td>Bran</td><td>70</td><td>4</td><td>1</td><td>130</td><td>10</td><td>5</td><td>6</td><td>280</td><td>25</td><td>0.33</td><td>1</td></tr><tr><td><b>1</b></td><td class=\"no-wrap\">-></td><td>100% Natural Bran</td><td>Q</td><td>C</td><td>3</td><td>33.983679</td><td>Bran</td><td>120</td><td>3</td><td>5</td><td>15</td><td>2</td><td>8</td><td>8</td><td>135</td><td>0</td><td>1</td><td>1</td></tr><tr><td><b>2</b></td><td class=\"no-wrap\">-></td><td>All-Bran</td><td>K</td><td>C</td><td>3</td><td>59.425505</td><td>Bran</td><td>70</td><td>4</td><td>1</td><td>260</td><td>9</td><td>7</td><td>5</td><td>320</td><td>25</td><td>0.33</td><td>1</td></tr><tr><td><b>3</b></td><td class=\"no-wrap\">-></td><td>All-Bran with Extra Fiber</td><td>K</td><td>C</td><td>3</td><td>93.704912</td><td>Bran</td><td>50</td><td>4</td><td>0</td><td>140</td><td>14</td><td>8</td><td>0</td><td>330</td><td>25</td><td>0.5</td><td>1</td></tr><tr><td><b>4</b></td><td class=\"no-wrap\">-></td><td>Almond Delight</td><td>R</td><td>C</td><td>3</td><td>34.384843</td><td>Nut</td><td>110</td><td>2</td><td>2</td><td>200</td><td>1</td><td>14</td><td>8</td><td>96.07792207792208</td><td>25</td><td>0.75</td><td>1</td></tr><tr><td><b>:</b></td><td class=\"no-wrap\"></td><td>...</td><td>...</td><td>...</td><td>...</td><td>...</td><td>...</td><td>...</td><td>...</td><td>...</td><td>...</td><td>...</td><td>...</td><td>...</td><td>...</td><td>...</td><td>...</td><td>...</td></tr><tr><td><b>72</b></td><td class=\"no-wrap\">-></td><td>Triples</td><td>G</td><td>C</td><td>3</td><td>39.106174</td><td>Other</td><td>110</td><td>2</td><td>1</td><td>250</td><td>0</td><td>21</td><td>3</td><td>60</td><td>25</td><td>0.75</td><td>1</td></tr><tr><td><b>73</b></td><td class=\"no-wrap\">-></td><td>Trix</td><td>G</td><td>C</td><td>2</td><td>27.753301</td><td>Other</td><td>110</td><td>1</td><td>1</td><td>140</td><td>0</td><td>13</td><td>12</td><td>25</td><td>25</td><td>1</td><td>1</td></tr><tr><td><b>74</b></td><td class=\"no-wrap\">-></td><td>Wheat Chex</td><td>R</td><td>C</td><td>1</td><td>49.787445</td><td>Wheat</td><td>100</td><td>3</td><td>1</td><td>230</td><td>3</td><td>17</td><td>3</td><td>115</td><td>25</td><td>0.67</td><td>1</td></tr><tr><td><b>75</b></td><td class=\"no-wrap\">-></td><td>Wheaties</td><td>G</td><td>C</td><td>1</td><td>51.592193</td><td>Wheat</td><td>100</td><td>3</td><td>1</td><td>200</td><td>3</td><td>17</td><td>3</td><td>110</td><td>25</td><td>1</td><td>1</td></tr><tr><td><b>76</b></td><td class=\"no-wrap\">-></td><td>Wheaties Honey Gold</td><td>G</td><td>C</td><td>1</td><td>36.187559</td><td>Wheat</td><td>110</td><td>2</td><td>1</td><td>200</td><td>1</td><td>16</td><td>8</td><td>60</td><td>25</td><td>0.75</td><td>1</td></tr>\r\n",
       "</table>\r\n",
       "<p><b>77</b> rows x <b>17</b> columns</p><p><b>0</b> missing values</p>\r\n",
       "</div>\r\n"
      ]
     },
     "metadata": {},
     "output_type": "display_data"
    }
   ],
   "source": [
    "df"
   ]
  },
  {
   "cell_type": "code",
   "execution_count": 178,
   "metadata": {
    "dotnet_interactive": {
     "language": "fsharp"
    },
    "vscode": {
     "languageId": "dotnet-interactive.fsharp"
    }
   },
   "outputs": [],
   "source": [
    "// low calories (<100), low sodium (<150), low sugar (<9) high fiber (>3), and high protein (>2)\n",
    "(\n",
    "    \"healthiness\",\n",
    "    df\n",
    "    |> Frame.mapRows (\n",
    "        fun k r -> \n",
    "            if\n",
    "                r?calories < 100 &&\n",
    "                r?sodium < 150 &&\n",
    "                r?sugars < 9 &&\n",
    "                r?fiber > 3 &&\n",
    "                r?protein > 2\n",
    "            then\n",
    "                \"healthy\"\n",
    "            else\n",
    "                \"unhealthy\"\n",
    "    )\n",
    ")\n",
    "|> df.AddColumn"
   ]
  },
  {
   "cell_type": "code",
   "execution_count": 179,
   "metadata": {
    "dotnet_interactive": {
     "language": "fsharp"
    },
    "vscode": {
     "languageId": "dotnet-interactive.fsharp"
    }
   },
   "outputs": [
    {
     "data": {
      "text/html": [
       "<div>\r\n",
       "<style scoped>,\r\n",
       "  .dataframe tbody tr th:only-of-type {\r\n",
       "    vertical-align: middle;\r\n",
       "  }\r\n",
       "  .dataframe tbody tr th {,\r\n",
       "    vertical-align: top\r\n",
       "  }\r\n",
       "  .dataframe thead th {\r\n",
       "    text-align: right;\r\n",
       "  }\r\n",
       "  .no-wrap {\r\n",
       "    white-space: nowrap;\r\n",
       "  }\r\n",
       "</style>\r\n",
       "<table border='1' class='dataframe'>\r\n",
       "<thead><th></th><th></th><th>name</th><th>mfr</th><th>type</th><th>shelf</th><th>rating</th><th>Type of Cereal</th><th>calories</th><th>protein</th><th>fat</th><th>sodium</th><th>fiber</th><th>carbo</th><th>sugars</th><th>potass</th><th>vitamins</th><th>cups</th><th>weight</th><th>healthiness</th></thead><thead><th></th><th></th><th>(string)</th><th>(string)</th><th>(string)</th><th>(int)</th><th>(Decimal)</th><th>(string)</th><th>(float)</th><th>(float)</th><th>(float)</th><th>(float)</th><th>(float)</th><th>(float)</th><th>(float)</th><th>(float)</th><th>(float)</th><th>(float)</th><th>(int)</th><th>(string)</th></thead>\r\n",
       "<tr><td><b>0</b></td><td class=\"no-wrap\">-></td><td>100% Bran</td><td>N</td><td>C</td><td>3</td><td>68.402973</td><td>Bran</td><td>70</td><td>4</td><td>1</td><td>130</td><td>10</td><td>5</td><td>6</td><td>280</td><td>25</td><td>0.33</td><td>1</td><td>healthy</td></tr><tr><td><b>1</b></td><td class=\"no-wrap\">-></td><td>100% Natural Bran</td><td>Q</td><td>C</td><td>3</td><td>33.983679</td><td>Bran</td><td>120</td><td>3</td><td>5</td><td>15</td><td>2</td><td>8</td><td>8</td><td>135</td><td>0</td><td>1</td><td>1</td><td>unhealthy</td></tr><tr><td><b>2</b></td><td class=\"no-wrap\">-></td><td>All-Bran</td><td>K</td><td>C</td><td>3</td><td>59.425505</td><td>Bran</td><td>70</td><td>4</td><td>1</td><td>260</td><td>9</td><td>7</td><td>5</td><td>320</td><td>25</td><td>0.33</td><td>1</td><td>unhealthy</td></tr><tr><td><b>3</b></td><td class=\"no-wrap\">-></td><td>All-Bran with Extra Fiber</td><td>K</td><td>C</td><td>3</td><td>93.704912</td><td>Bran</td><td>50</td><td>4</td><td>0</td><td>140</td><td>14</td><td>8</td><td>0</td><td>330</td><td>25</td><td>0.5</td><td>1</td><td>healthy</td></tr><tr><td><b>4</b></td><td class=\"no-wrap\">-></td><td>Almond Delight</td><td>R</td><td>C</td><td>3</td><td>34.384843</td><td>Nut</td><td>110</td><td>2</td><td>2</td><td>200</td><td>1</td><td>14</td><td>8</td><td>96.07792207792208</td><td>25</td><td>0.75</td><td>1</td><td>unhealthy</td></tr><tr><td><b>:</b></td><td class=\"no-wrap\"></td><td>...</td><td>...</td><td>...</td><td>...</td><td>...</td><td>...</td><td>...</td><td>...</td><td>...</td><td>...</td><td>...</td><td>...</td><td>...</td><td>...</td><td>...</td><td>...</td><td>...</td><td>...</td></tr><tr><td><b>72</b></td><td class=\"no-wrap\">-></td><td>Triples</td><td>G</td><td>C</td><td>3</td><td>39.106174</td><td>Other</td><td>110</td><td>2</td><td>1</td><td>250</td><td>0</td><td>21</td><td>3</td><td>60</td><td>25</td><td>0.75</td><td>1</td><td>unhealthy</td></tr><tr><td><b>73</b></td><td class=\"no-wrap\">-></td><td>Trix</td><td>G</td><td>C</td><td>2</td><td>27.753301</td><td>Other</td><td>110</td><td>1</td><td>1</td><td>140</td><td>0</td><td>13</td><td>12</td><td>25</td><td>25</td><td>1</td><td>1</td><td>unhealthy</td></tr><tr><td><b>74</b></td><td class=\"no-wrap\">-></td><td>Wheat Chex</td><td>R</td><td>C</td><td>1</td><td>49.787445</td><td>Wheat</td><td>100</td><td>3</td><td>1</td><td>230</td><td>3</td><td>17</td><td>3</td><td>115</td><td>25</td><td>0.67</td><td>1</td><td>unhealthy</td></tr><tr><td><b>75</b></td><td class=\"no-wrap\">-></td><td>Wheaties</td><td>G</td><td>C</td><td>1</td><td>51.592193</td><td>Wheat</td><td>100</td><td>3</td><td>1</td><td>200</td><td>3</td><td>17</td><td>3</td><td>110</td><td>25</td><td>1</td><td>1</td><td>unhealthy</td></tr><tr><td><b>76</b></td><td class=\"no-wrap\">-></td><td>Wheaties Honey Gold</td><td>G</td><td>C</td><td>1</td><td>36.187559</td><td>Wheat</td><td>110</td><td>2</td><td>1</td><td>200</td><td>1</td><td>16</td><td>8</td><td>60</td><td>25</td><td>0.75</td><td>1</td><td>unhealthy</td></tr>\r\n",
       "</table>\r\n",
       "<p><b>77</b> rows x <b>18</b> columns</p><p><b>0</b> missing values</p>\r\n",
       "</div>\r\n"
      ]
     },
     "metadata": {},
     "output_type": "display_data"
    }
   ],
   "source": [
    "df"
   ]
  },
  {
   "cell_type": "markdown",
   "metadata": {},
   "source": [
    "### **Question 5.** _(2 points)_\n",
    "* Based on your newly prepared data set, identify what % of cereals that each manufacturer produces are healthy."
   ]
  },
  {
   "cell_type": "code",
   "execution_count": 180,
   "metadata": {
    "dotnet_interactive": {
     "language": "fsharp"
    },
    "vscode": {
     "languageId": "dotnet-interactive.fsharp"
    }
   },
   "outputs": [
    {
     "data": {
      "text/plain": [
       "N, Q, K, R, G, P, A"
      ]
     },
     "metadata": {},
     "output_type": "display_data"
    }
   ],
   "source": [
    "df |> unique \"mfr\""
   ]
  },
  {
   "cell_type": "code",
   "execution_count": 181,
   "metadata": {
    "dotnet_interactive": {
     "language": "fsharp"
    },
    "vscode": {
     "languageId": "dotnet-interactive.fsharp"
    }
   },
   "outputs": [
    {
     "data": {
      "text/html": [
       "<div>\r\n",
       "<style scoped>,\r\n",
       "  .series tbody tr th:only-of-type {\r\n",
       "vertical-align: middle;\r\n",
       "  }\r\n",
       "  .series tbody tr {,\r\n",
       "vertical-align: top\r\n",
       "  }\r\n",
       "  .no-wrap {\r\n",
       "white-space: nowrap;\r\n",
       "  }\r\n",
       "</style>\r\n",
       "<table border='1' class='series'>\r\n",
       "<tr><td><b>healthy</b></td><td><b>N</b></td><td class=\"no-wrap\">-></td><td>3</td></tr><tr><td><b>healthy</b></td><td><b>K</b></td><td class=\"no-wrap\">-></td><td>1</td></tr><tr><td><b>healthy</b></td><td><b>P</b></td><td class=\"no-wrap\">-></td><td>1</td></tr><tr><td><b>unhealthy</b></td><td><b>N</b></td><td class=\"no-wrap\">-></td><td>3</td></tr><tr><td><b>unhealthy</b></td><td><b>Q</b></td><td class=\"no-wrap\">-></td><td>8</td></tr><tr><td><b>unhealthy</b></td><td><b>K</b></td><td class=\"no-wrap\">-></td><td>22</td></tr><tr><td><b>unhealthy</b></td><td><b>R</b></td><td class=\"no-wrap\">-></td><td>8</td></tr><tr><td><b>unhealthy</b></td><td><b>G</b></td><td class=\"no-wrap\">-></td><td>22</td></tr><tr><td><b>unhealthy</b></td><td><b>P</b></td><td class=\"no-wrap\">-></td><td>8</td></tr><tr><td><b>unhealthy</b></td><td><b>A</b></td><td class=\"no-wrap\">-></td><td>1</td></tr>\r\n",
       "</table>\r\n",
       "<p>Series of <b>10</b> items<p><b>0</b> missing values</p>\r\n",
       "</div>\r\n"
      ]
     },
     "metadata": {},
     "output_type": "display_data"
    }
   ],
   "source": [
    "let gmh =\n",
    "    df\n",
    "    |> Frame.groupRowsByString \"mfr\"\n",
    "    |> Frame.groupRowsByString \"healthiness\"\n",
    "    |> Frame.mapRowKeys Pair.flatten3\n",
    "    |> Frame.getCol \"mfr\"\n",
    "    |> Stats.levelCount Pair.get1And2Of3\n",
    "gmh"
   ]
  },
  {
   "cell_type": "code",
   "execution_count": 182,
   "metadata": {
    "dotnet_interactive": {
     "language": "fsharp"
    },
    "vscode": {
     "languageId": "dotnet-interactive.fsharp"
    }
   },
   "outputs": [
    {
     "data": {
      "text/html": [
       "\n",
       "<div>\n",
       "    <div id=\"a84210ef-79b3-4991-b212-b1f10435c569\"><!-- Plotly chart will be drawn inside this DIV --></div>\r\n",
       "<script type=\"text/javascript\">\r\n",
       "\r\n",
       "            var renderPlotly_a84210ef79b34991b212b1f10435c569 = function() {\r\n",
       "            var fsharpPlotlyRequire = requirejs.config({context:'fsharp-plotly',paths:{plotly:'https://cdn.plot.ly/plotly-2.6.3.min'}}) || require;\r\n",
       "            fsharpPlotlyRequire(['plotly'], function(Plotly) {\r\n",
       "\r\n",
       "            var data = [{\"type\":\"bar\",\"name\":\"healthy\",\"x\":[\"N\",\"K\",\"P\"],\"y\":[3,1,1],\"orientation\":\"v\",\"marker\":{\"pattern\":{}}},{\"type\":\"bar\",\"name\":\"unhealthy\",\"x\":[\"N\",\"Q\",\"K\",\"R\",\"G\",\"P\",\"A\"],\"y\":[3,8,22,8,22,8,1],\"orientation\":\"v\",\"marker\":{\"pattern\":{}}}];\r\n",
       "            var layout = {\"width\":600,\"height\":600,\"template\":{\"layout\":{\"title\":{\"x\":0.05},\"font\":{\"color\":\"rgba(42, 63, 95, 1.0)\"},\"paper_bgcolor\":\"rgba(255, 255, 255, 1.0)\",\"plot_bgcolor\":\"rgba(229, 236, 246, 1.0)\",\"autotypenumbers\":\"strict\",\"colorscale\":{\"diverging\":[[0.0,\"#8e0152\"],[0.1,\"#c51b7d\"],[0.2,\"#de77ae\"],[0.3,\"#f1b6da\"],[0.4,\"#fde0ef\"],[0.5,\"#f7f7f7\"],[0.6,\"#e6f5d0\"],[0.7,\"#b8e186\"],[0.8,\"#7fbc41\"],[0.9,\"#4d9221\"],[1.0,\"#276419\"]],\"sequential\":[[0.0,\"#0d0887\"],[0.1111111111111111,\"#46039f\"],[0.2222222222222222,\"#7201a8\"],[0.3333333333333333,\"#9c179e\"],[0.4444444444444444,\"#bd3786\"],[0.5555555555555556,\"#d8576b\"],[0.6666666666666666,\"#ed7953\"],[0.7777777777777778,\"#fb9f3a\"],[0.8888888888888888,\"#fdca26\"],[1.0,\"#f0f921\"]],\"sequentialminus\":[[0.0,\"#0d0887\"],[0.1111111111111111,\"#46039f\"],[0.2222222222222222,\"#7201a8\"],[0.3333333333333333,\"#9c179e\"],[0.4444444444444444,\"#bd3786\"],[0.5555555555555556,\"#d8576b\"],[0.6666666666666666,\"#ed7953\"],[0.7777777777777778,\"#fb9f3a\"],[0.8888888888888888,\"#fdca26\"],[1.0,\"#f0f921\"]]},\"hovermode\":\"closest\",\"hoverlabel\":{\"align\":\"left\"},\"coloraxis\":{\"colorbar\":{\"outlinewidth\":0.0,\"ticks\":\"\"}},\"geo\":{\"showland\":true,\"landcolor\":\"rgba(229, 236, 246, 1.0)\",\"showlakes\":true,\"lakecolor\":\"rgba(255, 255, 255, 1.0)\",\"subunitcolor\":\"rgba(255, 255, 255, 1.0)\",\"bgcolor\":\"rgba(255, 255, 255, 1.0)\"},\"mapbox\":{\"style\":\"light\"},\"polar\":{\"bgcolor\":\"rgba(229, 236, 246, 1.0)\",\"radialaxis\":{\"linecolor\":\"rgba(255, 255, 255, 1.0)\",\"gridcolor\":\"rgba(255, 255, 255, 1.0)\",\"ticks\":\"\"},\"angularaxis\":{\"linecolor\":\"rgba(255, 255, 255, 1.0)\",\"gridcolor\":\"rgba(255, 255, 255, 1.0)\",\"ticks\":\"\"}},\"scene\":{\"xaxis\":{\"ticks\":\"\",\"linecolor\":\"rgba(255, 255, 255, 1.0)\",\"gridcolor\":\"rgba(255, 255, 255, 1.0)\",\"gridwidth\":2.0,\"zerolinecolor\":\"rgba(255, 255, 255, 1.0)\",\"backgroundcolor\":\"rgba(229, 236, 246, 1.0)\",\"showbackground\":true},\"yaxis\":{\"ticks\":\"\",\"linecolor\":\"rgba(255, 255, 255, 1.0)\",\"gridcolor\":\"rgba(255, 255, 255, 1.0)\",\"gridwidth\":2.0,\"zerolinecolor\":\"rgba(255, 255, 255, 1.0)\",\"backgroundcolor\":\"rgba(229, 236, 246, 1.0)\",\"showbackground\":true},\"zaxis\":{\"ticks\":\"\",\"linecolor\":\"rgba(255, 255, 255, 1.0)\",\"gridcolor\":\"rgba(255, 255, 255, 1.0)\",\"gridwidth\":2.0,\"zerolinecolor\":\"rgba(255, 255, 255, 1.0)\",\"backgroundcolor\":\"rgba(229, 236, 246, 1.0)\",\"showbackground\":true}},\"ternary\":{\"aaxis\":{\"ticks\":\"\",\"linecolor\":\"rgba(255, 255, 255, 1.0)\",\"gridcolor\":\"rgba(255, 255, 255, 1.0)\"},\"baxis\":{\"ticks\":\"\",\"linecolor\":\"rgba(255, 255, 255, 1.0)\",\"gridcolor\":\"rgba(255, 255, 255, 1.0)\"},\"caxis\":{\"ticks\":\"\",\"linecolor\":\"rgba(255, 255, 255, 1.0)\",\"gridcolor\":\"rgba(255, 255, 255, 1.0)\"},\"bgcolor\":\"rgba(229, 236, 246, 1.0)\"},\"xaxis\":{\"title\":{\"standoff\":15},\"ticks\":\"\",\"automargin\":true,\"linecolor\":\"rgba(255, 255, 255, 1.0)\",\"gridcolor\":\"rgba(255, 255, 255, 1.0)\",\"zerolinecolor\":\"rgba(255, 255, 255, 1.0)\",\"zerolinewidth\":2.0},\"yaxis\":{\"title\":{\"standoff\":15},\"ticks\":\"\",\"automargin\":true,\"linecolor\":\"rgba(255, 255, 255, 1.0)\",\"gridcolor\":\"rgba(255, 255, 255, 1.0)\",\"zerolinecolor\":\"rgba(255, 255, 255, 1.0)\",\"zerolinewidth\":2.0},\"annotationdefaults\":{\"arrowcolor\":\"#2a3f5f\",\"arrowhead\":0,\"arrowwidth\":1},\"shapedefaults\":{\"line\":{\"color\":\"rgba(42, 63, 95, 1.0)\"}},\"colorway\":[\"rgba(99, 110, 250, 1.0)\",\"rgba(239, 85, 59, 1.0)\",\"rgba(0, 204, 150, 1.0)\",\"rgba(171, 99, 250, 1.0)\",\"rgba(255, 161, 90, 1.0)\",\"rgba(25, 211, 243, 1.0)\",\"rgba(255, 102, 146, 1.0)\",\"rgba(182, 232, 128, 1.0)\",\"rgba(255, 151, 255, 1.0)\",\"rgba(254, 203, 82, 1.0)\"]},\"data\":{\"bar\":[{\"marker\":{\"line\":{\"color\":\"rgba(229, 236, 246, 1.0)\",\"width\":0.5},\"pattern\":{\"fillmode\":\"overlay\",\"size\":10,\"solidity\":0.2}},\"error_x\":{\"color\":\"rgba(42, 63, 95, 1.0)\"},\"error_y\":{\"color\":\"rgba(42, 63, 95, 1.0)\"}}],\"barpolar\":[{\"marker\":{\"line\":{\"color\":\"rgba(229, 236, 246, 1.0)\",\"width\":0.5},\"pattern\":{\"fillmode\":\"overlay\",\"size\":10,\"solidity\":0.2}}}],\"carpet\":[{\"aaxis\":{\"linecolor\":\"rgba(255, 255, 255, 1.0)\",\"gridcolor\":\"rgba(255, 255, 255, 1.0)\",\"endlinecolor\":\"rgba(42, 63, 95, 1.0)\",\"minorgridcolor\":\"rgba(255, 255, 255, 1.0)\",\"startlinecolor\":\"rgba(42, 63, 95, 1.0)\"},\"baxis\":{\"linecolor\":\"rgba(255, 255, 255, 1.0)\",\"gridcolor\":\"rgba(255, 255, 255, 1.0)\",\"endlinecolor\":\"rgba(42, 63, 95, 1.0)\",\"minorgridcolor\":\"rgba(255, 255, 255, 1.0)\",\"startlinecolor\":\"rgba(42, 63, 95, 1.0)\"}}],\"choropleth\":[{\"colorbar\":{\"outlinewidth\":0.0,\"ticks\":\"\"},\"colorscale\":[[0.0,\"#0d0887\"],[0.1111111111111111,\"#46039f\"],[0.2222222222222222,\"#7201a8\"],[0.3333333333333333,\"#9c179e\"],[0.4444444444444444,\"#bd3786\"],[0.5555555555555556,\"#d8576b\"],[0.6666666666666666,\"#ed7953\"],[0.7777777777777778,\"#fb9f3a\"],[0.8888888888888888,\"#fdca26\"],[1.0,\"#f0f921\"]]}],\"contour\":[{\"colorbar\":{\"outlinewidth\":0.0,\"ticks\":\"\"},\"colorscale\":[[0.0,\"#0d0887\"],[0.1111111111111111,\"#46039f\"],[0.2222222222222222,\"#7201a8\"],[0.3333333333333333,\"#9c179e\"],[0.4444444444444444,\"#bd3786\"],[0.5555555555555556,\"#d8576b\"],[0.6666666666666666,\"#ed7953\"],[0.7777777777777778,\"#fb9f3a\"],[0.8888888888888888,\"#fdca26\"],[1.0,\"#f0f921\"]]}],\"contourcarpet\":[{\"colorbar\":{\"outlinewidth\":0.0,\"ticks\":\"\"}}],\"heatmap\":[{\"colorbar\":{\"outlinewidth\":0.0,\"ticks\":\"\"},\"colorscale\":[[0.0,\"#0d0887\"],[0.1111111111111111,\"#46039f\"],[0.2222222222222222,\"#7201a8\"],[0.3333333333333333,\"#9c179e\"],[0.4444444444444444,\"#bd3786\"],[0.5555555555555556,\"#d8576b\"],[0.6666666666666666,\"#ed7953\"],[0.7777777777777778,\"#fb9f3a\"],[0.8888888888888888,\"#fdca26\"],[1.0,\"#f0f921\"]]}],\"heatmapgl\":[{\"colorbar\":{\"outlinewidth\":0.0,\"ticks\":\"\"},\"colorscale\":[[0.0,\"#0d0887\"],[0.1111111111111111,\"#46039f\"],[0.2222222222222222,\"#7201a8\"],[0.3333333333333333,\"#9c179e\"],[0.4444444444444444,\"#bd3786\"],[0.5555555555555556,\"#d8576b\"],[0.6666666666666666,\"#ed7953\"],[0.7777777777777778,\"#fb9f3a\"],[0.8888888888888888,\"#fdca26\"],[1.0,\"#f0f921\"]]}],\"histogram\":[{\"marker\":{\"pattern\":{\"fillmode\":\"overlay\",\"size\":10,\"solidity\":0.2}}}],\"histogram2d\":[{\"colorbar\":{\"outlinewidth\":0.0,\"ticks\":\"\"},\"colorscale\":[[0.0,\"#0d0887\"],[0.1111111111111111,\"#46039f\"],[0.2222222222222222,\"#7201a8\"],[0.3333333333333333,\"#9c179e\"],[0.4444444444444444,\"#bd3786\"],[0.5555555555555556,\"#d8576b\"],[0.6666666666666666,\"#ed7953\"],[0.7777777777777778,\"#fb9f3a\"],[0.8888888888888888,\"#fdca26\"],[1.0,\"#f0f921\"]]}],\"histogram2dcontour\":[{\"colorbar\":{\"outlinewidth\":0.0,\"ticks\":\"\"},\"colorscale\":[[0.0,\"#0d0887\"],[0.1111111111111111,\"#46039f\"],[0.2222222222222222,\"#7201a8\"],[0.3333333333333333,\"#9c179e\"],[0.4444444444444444,\"#bd3786\"],[0.5555555555555556,\"#d8576b\"],[0.6666666666666666,\"#ed7953\"],[0.7777777777777778,\"#fb9f3a\"],[0.8888888888888888,\"#fdca26\"],[1.0,\"#f0f921\"]]}],\"mesh3d\":[{\"colorbar\":{\"outlinewidth\":0.0,\"ticks\":\"\"}}],\"parcoords\":[{\"line\":{\"colorbar\":{\"outlinewidth\":0.0,\"ticks\":\"\"}}}],\"pie\":[{\"automargin\":true}],\"scatter\":[{\"marker\":{\"colorbar\":{\"outlinewidth\":0.0,\"ticks\":\"\"}}}],\"scatter3d\":[{\"marker\":{\"colorbar\":{\"outlinewidth\":0.0,\"ticks\":\"\"}},\"line\":{\"colorbar\":{\"outlinewidth\":0.0,\"ticks\":\"\"}}}],\"scattercarpet\":[{\"marker\":{\"colorbar\":{\"outlinewidth\":0.0,\"ticks\":\"\"}}}],\"scattergeo\":[{\"marker\":{\"colorbar\":{\"outlinewidth\":0.0,\"ticks\":\"\"}}}],\"scattergl\":[{\"marker\":{\"colorbar\":{\"outlinewidth\":0.0,\"ticks\":\"\"}}}],\"scattermapbox\":[{\"marker\":{\"colorbar\":{\"outlinewidth\":0.0,\"ticks\":\"\"}}}],\"scatterpolar\":[{\"marker\":{\"colorbar\":{\"outlinewidth\":0.0,\"ticks\":\"\"}}}],\"scatterpolargl\":[{\"marker\":{\"colorbar\":{\"outlinewidth\":0.0,\"ticks\":\"\"}}}],\"scatterternary\":[{\"marker\":{\"colorbar\":{\"outlinewidth\":0.0,\"ticks\":\"\"}}}],\"surface\":[{\"colorbar\":{\"outlinewidth\":0.0,\"ticks\":\"\"},\"colorscale\":[[0.0,\"#0d0887\"],[0.1111111111111111,\"#46039f\"],[0.2222222222222222,\"#7201a8\"],[0.3333333333333333,\"#9c179e\"],[0.4444444444444444,\"#bd3786\"],[0.5555555555555556,\"#d8576b\"],[0.6666666666666666,\"#ed7953\"],[0.7777777777777778,\"#fb9f3a\"],[0.8888888888888888,\"#fdca26\"],[1.0,\"#f0f921\"]]}],\"table\":[{\"cells\":{\"fill\":{\"color\":\"rgba(235, 240, 248, 1.0)\"},\"line\":{\"color\":\"rgba(255, 255, 255, 1.0)\"}},\"header\":{\"fill\":{\"color\":\"rgba(200, 212, 227, 1.0)\"},\"line\":{\"color\":\"rgba(255, 255, 255, 1.0)\"}}}]}}};\r\n",
       "            var config = {\"responsive\":true};\r\n",
       "            Plotly.newPlot('a84210ef-79b3-4991-b212-b1f10435c569', data, layout, config);\r\n",
       "});\r\n",
       "            };\r\n",
       "            if ((typeof(requirejs) !==  typeof(Function)) || (typeof(requirejs.config) !== typeof(Function))) {\r\n",
       "                var script = document.createElement(\"script\");\r\n",
       "                script.setAttribute(\"src\", \"https://cdnjs.cloudflare.com/ajax/libs/require.js/2.3.6/require.min.js\");\r\n",
       "                script.onload = function(){\r\n",
       "                    renderPlotly_a84210ef79b34991b212b1f10435c569();\r\n",
       "                };\r\n",
       "                document.getElementsByTagName(\"head\")[0].appendChild(script);\r\n",
       "            }\r\n",
       "            else {\r\n",
       "                renderPlotly_a84210ef79b34991b212b1f10435c569();\r\n",
       "            }\r\n",
       "</script>\r\n",
       "\n",
       "    \n",
       "</div>    \n"
      ]
     },
     "metadata": {},
     "output_type": "display_data"
    }
   ],
   "source": [
    "Seq.zip gmh.Keys gmh.Values\n",
    "|> Seq.map (fun ((k1, k2), v) -> (k1, k2, v))\n",
    "|> Seq.groupBy Pair.get1Of3\n",
    "|> Seq.map (fun (k, v) ->\n",
    "    Chart.Column(v |> Seq.map Pair.get3Of3, v |> Seq.map Pair.get2Of3, k)\n",
    ")\n",
    "|> Chart.combine"
   ]
  },
  {
   "cell_type": "markdown",
   "metadata": {},
   "source": [
    "### **Question 6.** _(2 points)_\n",
    "* Calculate the average, minimum and maximum ratings for healthy vs. unhealthy cereals."
   ]
  },
  {
   "cell_type": "code",
   "execution_count": 183,
   "metadata": {
    "dotnet_interactive": {
     "language": "fsharp"
    },
    "vscode": {
     "languageId": "dotnet-interactive.fsharp"
    }
   },
   "outputs": [
    {
     "data": {
      "text/html": [
       "<div>\r\n",
       "<style scoped>,\r\n",
       "  .dataframe tbody tr th:only-of-type {\r\n",
       "    vertical-align: middle;\r\n",
       "  }\r\n",
       "  .dataframe tbody tr th {,\r\n",
       "    vertical-align: top\r\n",
       "  }\r\n",
       "  .dataframe thead th {\r\n",
       "    text-align: right;\r\n",
       "  }\r\n",
       "  .no-wrap {\r\n",
       "    white-space: nowrap;\r\n",
       "  }\r\n",
       "</style>\r\n",
       "<table border='1' class='dataframe'>\r\n",
       "<thead><th></th><th></th><th>name</th><th>mfr</th><th>type</th><th>shelf</th><th>rating</th><th>Type of Cereal</th><th>calories</th><th>protein</th><th>fat</th><th>sodium</th><th>fiber</th><th>carbo</th><th>sugars</th><th>potass</th><th>vitamins</th><th>cups</th><th>weight</th><th>healthiness</th></thead><thead><th></th><th></th><th>(string)</th><th>(string)</th><th>(string)</th><th>(int)</th><th>(Decimal)</th><th>(string)</th><th>(float)</th><th>(float)</th><th>(float)</th><th>(float)</th><th>(float)</th><th>(float)</th><th>(float)</th><th>(float)</th><th>(float)</th><th>(float)</th><th>(int)</th><th>(string)</th></thead>\r\n",
       "<tr><td><b>0</b></td><td class=\"no-wrap\">-></td><td>100% Bran</td><td>N</td><td>C</td><td>3</td><td>68.402973</td><td>Bran</td><td>70</td><td>4</td><td>1</td><td>130</td><td>10</td><td>5</td><td>6</td><td>280</td><td>25</td><td>0.33</td><td>1</td><td>healthy</td></tr><tr><td><b>1</b></td><td class=\"no-wrap\">-></td><td>100% Natural Bran</td><td>Q</td><td>C</td><td>3</td><td>33.983679</td><td>Bran</td><td>120</td><td>3</td><td>5</td><td>15</td><td>2</td><td>8</td><td>8</td><td>135</td><td>0</td><td>1</td><td>1</td><td>unhealthy</td></tr><tr><td><b>2</b></td><td class=\"no-wrap\">-></td><td>All-Bran</td><td>K</td><td>C</td><td>3</td><td>59.425505</td><td>Bran</td><td>70</td><td>4</td><td>1</td><td>260</td><td>9</td><td>7</td><td>5</td><td>320</td><td>25</td><td>0.33</td><td>1</td><td>unhealthy</td></tr><tr><td><b>3</b></td><td class=\"no-wrap\">-></td><td>All-Bran with Extra Fiber</td><td>K</td><td>C</td><td>3</td><td>93.704912</td><td>Bran</td><td>50</td><td>4</td><td>0</td><td>140</td><td>14</td><td>8</td><td>0</td><td>330</td><td>25</td><td>0.5</td><td>1</td><td>healthy</td></tr><tr><td><b>4</b></td><td class=\"no-wrap\">-></td><td>Almond Delight</td><td>R</td><td>C</td><td>3</td><td>34.384843</td><td>Nut</td><td>110</td><td>2</td><td>2</td><td>200</td><td>1</td><td>14</td><td>8</td><td>96.07792207792208</td><td>25</td><td>0.75</td><td>1</td><td>unhealthy</td></tr>\r\n",
       "</table>\r\n",
       "<p><b>5</b> rows x <b>18</b> columns</p><p><b>0</b> missing values</p>\r\n",
       "</div>\r\n"
      ]
     },
     "metadata": {},
     "output_type": "display_data"
    }
   ],
   "source": [
    "df |> Frame.take 5"
   ]
  },
  {
   "cell_type": "code",
   "execution_count": 184,
   "metadata": {
    "dotnet_interactive": {
     "language": "fsharp"
    },
    "vscode": {
     "languageId": "dotnet-interactive.fsharp"
    }
   },
   "outputs": [
    {
     "data": {
      "text/html": [
       "<div>\r\n",
       "<style scoped>,\r\n",
       "  .dataframe tbody tr th:only-of-type {\r\n",
       "    vertical-align: middle;\r\n",
       "  }\r\n",
       "  .dataframe tbody tr th {,\r\n",
       "    vertical-align: top\r\n",
       "  }\r\n",
       "  .dataframe thead th {\r\n",
       "    text-align: right;\r\n",
       "  }\r\n",
       "  .no-wrap {\r\n",
       "    white-space: nowrap;\r\n",
       "  }\r\n",
       "</style>\r\n",
       "<table border='1' class='dataframe'>\r\n",
       "<thead><th></th><th></th><th>r_mean</th><th>r_min</th><th>r_max</th></thead><thead><th></th><th></th><th>(float)</th><th>(float)</th><th>(float)</th></thead>\r\n",
       "<tr><td><b>healthy</b></td><td class=\"no-wrap\">-></td><td>69.14675319999999</td><td>40.917047</td><td>93.704912</td></tr><tr><td><b>unhealthy</b></td><td class=\"no-wrap\">-></td><td>40.826743305555546</td><td>18.042851</td><td>72.801787</td></tr>\r\n",
       "</table>\r\n",
       "<p><b>2</b> rows x <b>3</b> columns</p><p><b>0</b> missing values</p>\r\n",
       "</div>\r\n"
      ]
     },
     "metadata": {},
     "output_type": "display_data"
    }
   ],
   "source": [
    "df\n",
    "|> aggregateRowsBy\n",
    "    \"healthiness\"\n",
    "    [\n",
    "        \"rating\", Stats.mean, \"r_mean\"\n",
    "        \"rating\", Stats.min, \"r_min\"\n",
    "        \"rating\", Stats.max, \"r_max\"\n",
    "    ]"
   ]
  },
  {
   "cell_type": "markdown",
   "metadata": {},
   "source": [
    "### **Question 7.** _(2 points)_\n",
    "* Calculate the average, minimum and maximum ratings for each type of cereal: Bran, Wheat, Fiber, Protein, Crunch, Corn, Nut, Rice and Other."
   ]
  },
  {
   "cell_type": "code",
   "execution_count": 185,
   "metadata": {
    "dotnet_interactive": {
     "language": "fsharp"
    },
    "vscode": {
     "languageId": "dotnet-interactive.fsharp"
    }
   },
   "outputs": [
    {
     "data": {
      "text/plain": [
       "Bran, Nut, Other, Crunch, Corn, Wheat, Rice"
      ]
     },
     "metadata": {},
     "output_type": "display_data"
    }
   ],
   "source": [
    "df |> unique \"Type of Cereal\""
   ]
  },
  {
   "cell_type": "code",
   "execution_count": 201,
   "metadata": {
    "dotnet_interactive": {
     "language": "fsharp"
    },
    "vscode": {
     "languageId": "dotnet-interactive.fsharp"
    }
   },
   "outputs": [
    {
     "data": {
      "text/html": [
       "<div>\r\n",
       "<style scoped>,\r\n",
       "  .dataframe tbody tr th:only-of-type {\r\n",
       "    vertical-align: middle;\r\n",
       "  }\r\n",
       "  .dataframe tbody tr th {,\r\n",
       "    vertical-align: top\r\n",
       "  }\r\n",
       "  .dataframe thead th {\r\n",
       "    text-align: right;\r\n",
       "  }\r\n",
       "  .no-wrap {\r\n",
       "    white-space: nowrap;\r\n",
       "  }\r\n",
       "</style>\r\n",
       "<table border='1' class='dataframe'>\r\n",
       "<thead><th></th><th></th><th>r_mean</th><th>r_min</th><th>r_max</th></thead><thead><th></th><th></th><th>(float)</th><th>(float)</th><th>(float)</th></thead>\r\n",
       "<tr><td><b>Bran</b></td><td class=\"no-wrap\">-></td><td>50.71417876923077</td><td>28.592785</td><td>93.704912</td></tr><tr><td><b>Nut</b></td><td class=\"no-wrap\">-></td><td>40.6074187</td><td>31.072217</td><td>53.371007</td></tr><tr><td><b>Other</b></td><td class=\"no-wrap\">-></td><td>37.20836875</td><td>21.871292</td><td>55.333142</td></tr><tr><td><b>Crunch</b></td><td class=\"no-wrap\">-></td><td>26.078598</td><td>18.042851</td><td>36.523683</td></tr><tr><td><b>Corn</b></td><td class=\"no-wrap\">-></td><td>40.48272</td><td>35.782791</td><td>45.863324</td></tr><tr><td><b>Wheat</b></td><td class=\"no-wrap\">-></td><td>56.333863363636354</td><td>36.176196</td><td>72.801787</td></tr><tr><td><b>Rice</b></td><td class=\"no-wrap\">-></td><td>47.77173466666667</td><td>40.560159</td><td>60.756112</td></tr>\r\n",
       "</table>\r\n",
       "<p><b>7</b> rows x <b>3</b> columns</p><p><b>0</b> missing values</p>\r\n",
       "</div>\r\n"
      ]
     },
     "metadata": {},
     "output_type": "display_data"
    }
   ],
   "source": [
    "let typeOfCereal =\n",
    "    df\n",
    "    |> aggregateRowsBy\n",
    "        \"Type of Cereal\"\n",
    "        [\n",
    "            \"rating\", Stats.mean, \"r_mean\"\n",
    "            \"rating\", Stats.min, \"r_min\"\n",
    "            \"rating\", Stats.max, \"r_max\"\n",
    "        ]\n",
    "typeOfCereal"
   ]
  },
  {
   "cell_type": "code",
   "execution_count": 207,
   "metadata": {
    "dotnet_interactive": {
     "language": "fsharp"
    },
    "vscode": {
     "languageId": "dotnet-interactive.fsharp"
    }
   },
   "outputs": [
    {
     "data": {
      "text/html": [
       "\n",
       "<div>\n",
       "    <div id=\"ad3ab678-325e-4af6-8f4b-6c15d1ae1596\"><!-- Plotly chart will be drawn inside this DIV --></div>\r\n",
       "<script type=\"text/javascript\">\r\n",
       "\r\n",
       "            var renderPlotly_ad3ab678325e4af68f4b6c15d1ae1596 = function() {\r\n",
       "            var fsharpPlotlyRequire = requirejs.config({context:'fsharp-plotly',paths:{plotly:'https://cdn.plot.ly/plotly-2.6.3.min'}}) || require;\r\n",
       "            fsharpPlotlyRequire(['plotly'], function(Plotly) {\r\n",
       "\r\n",
       "            var data = [{\"type\":\"bar\",\"name\":\"r_mean\",\"x\":[\"Bran\",\"Nut\",\"Other\",\"Crunch\",\"Corn\",\"Wheat\",\"Rice\"],\"y\":[50.71417876923077,40.6074187,37.20836875,26.078598,40.48272,56.333863363636354,47.77173466666667],\"orientation\":\"v\",\"marker\":{\"pattern\":{}}},{\"type\":\"bar\",\"name\":\"r_min\",\"x\":[\"Bran\",\"Nut\",\"Other\",\"Crunch\",\"Corn\",\"Wheat\",\"Rice\"],\"y\":[28.592785,31.072217,21.871292,18.042851,35.782791,36.176196,40.560159],\"orientation\":\"v\",\"marker\":{\"pattern\":{}}},{\"type\":\"bar\",\"name\":\"r_max\",\"x\":[\"Bran\",\"Nut\",\"Other\",\"Crunch\",\"Corn\",\"Wheat\",\"Rice\"],\"y\":[93.704912,53.371007,55.333142,36.523683,45.863324,72.801787,60.756112],\"orientation\":\"v\",\"marker\":{\"pattern\":{}}}];\r\n",
       "            var layout = {\"width\":600,\"height\":600,\"template\":{\"layout\":{\"title\":{\"x\":0.05},\"font\":{\"color\":\"rgba(42, 63, 95, 1.0)\"},\"paper_bgcolor\":\"rgba(255, 255, 255, 1.0)\",\"plot_bgcolor\":\"rgba(229, 236, 246, 1.0)\",\"autotypenumbers\":\"strict\",\"colorscale\":{\"diverging\":[[0.0,\"#8e0152\"],[0.1,\"#c51b7d\"],[0.2,\"#de77ae\"],[0.3,\"#f1b6da\"],[0.4,\"#fde0ef\"],[0.5,\"#f7f7f7\"],[0.6,\"#e6f5d0\"],[0.7,\"#b8e186\"],[0.8,\"#7fbc41\"],[0.9,\"#4d9221\"],[1.0,\"#276419\"]],\"sequential\":[[0.0,\"#0d0887\"],[0.1111111111111111,\"#46039f\"],[0.2222222222222222,\"#7201a8\"],[0.3333333333333333,\"#9c179e\"],[0.4444444444444444,\"#bd3786\"],[0.5555555555555556,\"#d8576b\"],[0.6666666666666666,\"#ed7953\"],[0.7777777777777778,\"#fb9f3a\"],[0.8888888888888888,\"#fdca26\"],[1.0,\"#f0f921\"]],\"sequentialminus\":[[0.0,\"#0d0887\"],[0.1111111111111111,\"#46039f\"],[0.2222222222222222,\"#7201a8\"],[0.3333333333333333,\"#9c179e\"],[0.4444444444444444,\"#bd3786\"],[0.5555555555555556,\"#d8576b\"],[0.6666666666666666,\"#ed7953\"],[0.7777777777777778,\"#fb9f3a\"],[0.8888888888888888,\"#fdca26\"],[1.0,\"#f0f921\"]]},\"hovermode\":\"closest\",\"hoverlabel\":{\"align\":\"left\"},\"coloraxis\":{\"colorbar\":{\"outlinewidth\":0.0,\"ticks\":\"\"}},\"geo\":{\"showland\":true,\"landcolor\":\"rgba(229, 236, 246, 1.0)\",\"showlakes\":true,\"lakecolor\":\"rgba(255, 255, 255, 1.0)\",\"subunitcolor\":\"rgba(255, 255, 255, 1.0)\",\"bgcolor\":\"rgba(255, 255, 255, 1.0)\"},\"mapbox\":{\"style\":\"light\"},\"polar\":{\"bgcolor\":\"rgba(229, 236, 246, 1.0)\",\"radialaxis\":{\"linecolor\":\"rgba(255, 255, 255, 1.0)\",\"gridcolor\":\"rgba(255, 255, 255, 1.0)\",\"ticks\":\"\"},\"angularaxis\":{\"linecolor\":\"rgba(255, 255, 255, 1.0)\",\"gridcolor\":\"rgba(255, 255, 255, 1.0)\",\"ticks\":\"\"}},\"scene\":{\"xaxis\":{\"ticks\":\"\",\"linecolor\":\"rgba(255, 255, 255, 1.0)\",\"gridcolor\":\"rgba(255, 255, 255, 1.0)\",\"gridwidth\":2.0,\"zerolinecolor\":\"rgba(255, 255, 255, 1.0)\",\"backgroundcolor\":\"rgba(229, 236, 246, 1.0)\",\"showbackground\":true},\"yaxis\":{\"ticks\":\"\",\"linecolor\":\"rgba(255, 255, 255, 1.0)\",\"gridcolor\":\"rgba(255, 255, 255, 1.0)\",\"gridwidth\":2.0,\"zerolinecolor\":\"rgba(255, 255, 255, 1.0)\",\"backgroundcolor\":\"rgba(229, 236, 246, 1.0)\",\"showbackground\":true},\"zaxis\":{\"ticks\":\"\",\"linecolor\":\"rgba(255, 255, 255, 1.0)\",\"gridcolor\":\"rgba(255, 255, 255, 1.0)\",\"gridwidth\":2.0,\"zerolinecolor\":\"rgba(255, 255, 255, 1.0)\",\"backgroundcolor\":\"rgba(229, 236, 246, 1.0)\",\"showbackground\":true}},\"ternary\":{\"aaxis\":{\"ticks\":\"\",\"linecolor\":\"rgba(255, 255, 255, 1.0)\",\"gridcolor\":\"rgba(255, 255, 255, 1.0)\"},\"baxis\":{\"ticks\":\"\",\"linecolor\":\"rgba(255, 255, 255, 1.0)\",\"gridcolor\":\"rgba(255, 255, 255, 1.0)\"},\"caxis\":{\"ticks\":\"\",\"linecolor\":\"rgba(255, 255, 255, 1.0)\",\"gridcolor\":\"rgba(255, 255, 255, 1.0)\"},\"bgcolor\":\"rgba(229, 236, 246, 1.0)\"},\"xaxis\":{\"title\":{\"standoff\":15},\"ticks\":\"\",\"automargin\":true,\"linecolor\":\"rgba(255, 255, 255, 1.0)\",\"gridcolor\":\"rgba(255, 255, 255, 1.0)\",\"zerolinecolor\":\"rgba(255, 255, 255, 1.0)\",\"zerolinewidth\":2.0},\"yaxis\":{\"title\":{\"standoff\":15},\"ticks\":\"\",\"automargin\":true,\"linecolor\":\"rgba(255, 255, 255, 1.0)\",\"gridcolor\":\"rgba(255, 255, 255, 1.0)\",\"zerolinecolor\":\"rgba(255, 255, 255, 1.0)\",\"zerolinewidth\":2.0},\"annotationdefaults\":{\"arrowcolor\":\"#2a3f5f\",\"arrowhead\":0,\"arrowwidth\":1},\"shapedefaults\":{\"line\":{\"color\":\"rgba(42, 63, 95, 1.0)\"}},\"colorway\":[\"rgba(99, 110, 250, 1.0)\",\"rgba(239, 85, 59, 1.0)\",\"rgba(0, 204, 150, 1.0)\",\"rgba(171, 99, 250, 1.0)\",\"rgba(255, 161, 90, 1.0)\",\"rgba(25, 211, 243, 1.0)\",\"rgba(255, 102, 146, 1.0)\",\"rgba(182, 232, 128, 1.0)\",\"rgba(255, 151, 255, 1.0)\",\"rgba(254, 203, 82, 1.0)\"]},\"data\":{\"bar\":[{\"marker\":{\"line\":{\"color\":\"rgba(229, 236, 246, 1.0)\",\"width\":0.5},\"pattern\":{\"fillmode\":\"overlay\",\"size\":10,\"solidity\":0.2}},\"error_x\":{\"color\":\"rgba(42, 63, 95, 1.0)\"},\"error_y\":{\"color\":\"rgba(42, 63, 95, 1.0)\"}}],\"barpolar\":[{\"marker\":{\"line\":{\"color\":\"rgba(229, 236, 246, 1.0)\",\"width\":0.5},\"pattern\":{\"fillmode\":\"overlay\",\"size\":10,\"solidity\":0.2}}}],\"carpet\":[{\"aaxis\":{\"linecolor\":\"rgba(255, 255, 255, 1.0)\",\"gridcolor\":\"rgba(255, 255, 255, 1.0)\",\"endlinecolor\":\"rgba(42, 63, 95, 1.0)\",\"minorgridcolor\":\"rgba(255, 255, 255, 1.0)\",\"startlinecolor\":\"rgba(42, 63, 95, 1.0)\"},\"baxis\":{\"linecolor\":\"rgba(255, 255, 255, 1.0)\",\"gridcolor\":\"rgba(255, 255, 255, 1.0)\",\"endlinecolor\":\"rgba(42, 63, 95, 1.0)\",\"minorgridcolor\":\"rgba(255, 255, 255, 1.0)\",\"startlinecolor\":\"rgba(42, 63, 95, 1.0)\"}}],\"choropleth\":[{\"colorbar\":{\"outlinewidth\":0.0,\"ticks\":\"\"},\"colorscale\":[[0.0,\"#0d0887\"],[0.1111111111111111,\"#46039f\"],[0.2222222222222222,\"#7201a8\"],[0.3333333333333333,\"#9c179e\"],[0.4444444444444444,\"#bd3786\"],[0.5555555555555556,\"#d8576b\"],[0.6666666666666666,\"#ed7953\"],[0.7777777777777778,\"#fb9f3a\"],[0.8888888888888888,\"#fdca26\"],[1.0,\"#f0f921\"]]}],\"contour\":[{\"colorbar\":{\"outlinewidth\":0.0,\"ticks\":\"\"},\"colorscale\":[[0.0,\"#0d0887\"],[0.1111111111111111,\"#46039f\"],[0.2222222222222222,\"#7201a8\"],[0.3333333333333333,\"#9c179e\"],[0.4444444444444444,\"#bd3786\"],[0.5555555555555556,\"#d8576b\"],[0.6666666666666666,\"#ed7953\"],[0.7777777777777778,\"#fb9f3a\"],[0.8888888888888888,\"#fdca26\"],[1.0,\"#f0f921\"]]}],\"contourcarpet\":[{\"colorbar\":{\"outlinewidth\":0.0,\"ticks\":\"\"}}],\"heatmap\":[{\"colorbar\":{\"outlinewidth\":0.0,\"ticks\":\"\"},\"colorscale\":[[0.0,\"#0d0887\"],[0.1111111111111111,\"#46039f\"],[0.2222222222222222,\"#7201a8\"],[0.3333333333333333,\"#9c179e\"],[0.4444444444444444,\"#bd3786\"],[0.5555555555555556,\"#d8576b\"],[0.6666666666666666,\"#ed7953\"],[0.7777777777777778,\"#fb9f3a\"],[0.8888888888888888,\"#fdca26\"],[1.0,\"#f0f921\"]]}],\"heatmapgl\":[{\"colorbar\":{\"outlinewidth\":0.0,\"ticks\":\"\"},\"colorscale\":[[0.0,\"#0d0887\"],[0.1111111111111111,\"#46039f\"],[0.2222222222222222,\"#7201a8\"],[0.3333333333333333,\"#9c179e\"],[0.4444444444444444,\"#bd3786\"],[0.5555555555555556,\"#d8576b\"],[0.6666666666666666,\"#ed7953\"],[0.7777777777777778,\"#fb9f3a\"],[0.8888888888888888,\"#fdca26\"],[1.0,\"#f0f921\"]]}],\"histogram\":[{\"marker\":{\"pattern\":{\"fillmode\":\"overlay\",\"size\":10,\"solidity\":0.2}}}],\"histogram2d\":[{\"colorbar\":{\"outlinewidth\":0.0,\"ticks\":\"\"},\"colorscale\":[[0.0,\"#0d0887\"],[0.1111111111111111,\"#46039f\"],[0.2222222222222222,\"#7201a8\"],[0.3333333333333333,\"#9c179e\"],[0.4444444444444444,\"#bd3786\"],[0.5555555555555556,\"#d8576b\"],[0.6666666666666666,\"#ed7953\"],[0.7777777777777778,\"#fb9f3a\"],[0.8888888888888888,\"#fdca26\"],[1.0,\"#f0f921\"]]}],\"histogram2dcontour\":[{\"colorbar\":{\"outlinewidth\":0.0,\"ticks\":\"\"},\"colorscale\":[[0.0,\"#0d0887\"],[0.1111111111111111,\"#46039f\"],[0.2222222222222222,\"#7201a8\"],[0.3333333333333333,\"#9c179e\"],[0.4444444444444444,\"#bd3786\"],[0.5555555555555556,\"#d8576b\"],[0.6666666666666666,\"#ed7953\"],[0.7777777777777778,\"#fb9f3a\"],[0.8888888888888888,\"#fdca26\"],[1.0,\"#f0f921\"]]}],\"mesh3d\":[{\"colorbar\":{\"outlinewidth\":0.0,\"ticks\":\"\"}}],\"parcoords\":[{\"line\":{\"colorbar\":{\"outlinewidth\":0.0,\"ticks\":\"\"}}}],\"pie\":[{\"automargin\":true}],\"scatter\":[{\"marker\":{\"colorbar\":{\"outlinewidth\":0.0,\"ticks\":\"\"}}}],\"scatter3d\":[{\"marker\":{\"colorbar\":{\"outlinewidth\":0.0,\"ticks\":\"\"}},\"line\":{\"colorbar\":{\"outlinewidth\":0.0,\"ticks\":\"\"}}}],\"scattercarpet\":[{\"marker\":{\"colorbar\":{\"outlinewidth\":0.0,\"ticks\":\"\"}}}],\"scattergeo\":[{\"marker\":{\"colorbar\":{\"outlinewidth\":0.0,\"ticks\":\"\"}}}],\"scattergl\":[{\"marker\":{\"colorbar\":{\"outlinewidth\":0.0,\"ticks\":\"\"}}}],\"scattermapbox\":[{\"marker\":{\"colorbar\":{\"outlinewidth\":0.0,\"ticks\":\"\"}}}],\"scatterpolar\":[{\"marker\":{\"colorbar\":{\"outlinewidth\":0.0,\"ticks\":\"\"}}}],\"scatterpolargl\":[{\"marker\":{\"colorbar\":{\"outlinewidth\":0.0,\"ticks\":\"\"}}}],\"scatterternary\":[{\"marker\":{\"colorbar\":{\"outlinewidth\":0.0,\"ticks\":\"\"}}}],\"surface\":[{\"colorbar\":{\"outlinewidth\":0.0,\"ticks\":\"\"},\"colorscale\":[[0.0,\"#0d0887\"],[0.1111111111111111,\"#46039f\"],[0.2222222222222222,\"#7201a8\"],[0.3333333333333333,\"#9c179e\"],[0.4444444444444444,\"#bd3786\"],[0.5555555555555556,\"#d8576b\"],[0.6666666666666666,\"#ed7953\"],[0.7777777777777778,\"#fb9f3a\"],[0.8888888888888888,\"#fdca26\"],[1.0,\"#f0f921\"]]}],\"table\":[{\"cells\":{\"fill\":{\"color\":\"rgba(235, 240, 248, 1.0)\"},\"line\":{\"color\":\"rgba(255, 255, 255, 1.0)\"}},\"header\":{\"fill\":{\"color\":\"rgba(200, 212, 227, 1.0)\"},\"line\":{\"color\":\"rgba(255, 255, 255, 1.0)\"}}}]}}};\r\n",
       "            var config = {\"responsive\":true};\r\n",
       "            Plotly.newPlot('ad3ab678-325e-4af6-8f4b-6c15d1ae1596', data, layout, config);\r\n",
       "});\r\n",
       "            };\r\n",
       "            if ((typeof(requirejs) !==  typeof(Function)) || (typeof(requirejs.config) !== typeof(Function))) {\r\n",
       "                var script = document.createElement(\"script\");\r\n",
       "                script.setAttribute(\"src\", \"https://cdnjs.cloudflare.com/ajax/libs/require.js/2.3.6/require.min.js\");\r\n",
       "                script.onload = function(){\r\n",
       "                    renderPlotly_ad3ab678325e4af68f4b6c15d1ae1596();\r\n",
       "                };\r\n",
       "                document.getElementsByTagName(\"head\")[0].appendChild(script);\r\n",
       "            }\r\n",
       "            else {\r\n",
       "                renderPlotly_ad3ab678325e4af68f4b6c15d1ae1596();\r\n",
       "            }\r\n",
       "</script>\r\n",
       "\n",
       "    \n",
       "</div>    \n"
      ]
     },
     "metadata": {},
     "output_type": "display_data"
    }
   ],
   "source": [
    "typeOfCereal.ColumnKeys\n",
    "|> Seq.map (fun columnName ->\n",
    "    Chart.Column (\n",
    "        typeOfCereal\n",
    "        |> Frame.getCol columnName\n",
    "        |> Series.observations,\n",
    "        columnName\n",
    "    )\n",
    ")\n",
    "|> Chart.combine"
   ]
  },
  {
   "cell_type": "markdown",
   "metadata": {},
   "source": [
    "### **Question 8.** _(3 points)_\n",
    "* Create a stacked bar chart which shows how many of each type of cereal each manufacturer produces."
   ]
  },
  {
   "cell_type": "code",
   "execution_count": 258,
   "metadata": {
    "dotnet_interactive": {
     "language": "csharp"
    },
    "vscode": {
     "languageId": "dotnet-interactive.csharp"
    }
   },
   "outputs": [
    {
     "data": {
      "image/png": "[encoded data removed]",
      "text/plain": [
       "<Figure size 576x288 with 1 Axes>"
      ]
     },
     "metadata": {
      "needs_background": "light"
     },
     "output_type": "display_data"
    }
   ],
   "source": [
    "df.rename(columns={\"mfr\": \"manufacturer\"})\\\n",
    "    .groupby([\"manufacturer\", \"Type of Cereal\"])\\\n",
    "        .size().unstack()\\\n",
    "            .plot(kind=\"bar\", figsize=(8,4), stacked=True);"
   ]
  },
  {
   "cell_type": "markdown",
   "metadata": {},
   "source": [
    "### **Question 9.** _(3 points)_\n",
    "* Create a 3-dimensional scatterplot which shows the relationship between rating and calories; the 3-rd dimension should be reflected in the color of the dots and should highlight whether the cereal is categorized as healthy or unhealthy."
   ]
  },
  {
   "cell_type": "code",
   "execution_count": 259,
   "metadata": {
    "dotnet_interactive": {
     "language": "csharp"
    },
    "vscode": {
     "languageId": "dotnet-interactive.csharp"
    }
   },
   "outputs": [],
   "source": [
    "import seaborn as sns"
   ]
  },
  {
   "cell_type": "code",
   "execution_count": 265,
   "metadata": {
    "dotnet_interactive": {
     "language": "csharp"
    },
    "vscode": {
     "languageId": "dotnet-interactive.csharp"
    }
   },
   "outputs": [
    {
     "data": {
      "image/png": "[encoded data removed]",
      "text/plain": [
       "<Figure size 446.375x360 with 1 Axes>"
      ]
     },
     "metadata": {
      "needs_background": "light"
     },
     "output_type": "display_data"
    }
   ],
   "source": [
    "# rating seem to increase as calories drop, for both healthy and unhealthy categories\n",
    "sns.lmplot(x=\"rating\", y=\"calories\", hue=\"healthiness\", data=df, fit_reg=True);"
   ]
  },
  {
   "cell_type": "markdown",
   "metadata": {},
   "source": [
    "### **Question 10.** _(1 point)_\n",
    "* Which shelf has the most healthy cereals?"
   ]
  },
  {
   "cell_type": "code",
   "execution_count": 280,
   "metadata": {
    "dotnet_interactive": {
     "language": "csharp"
    },
    "vscode": {
     "languageId": "dotnet-interactive.csharp"
    }
   },
   "outputs": [
    {
     "data": {
      "image/png": "[encoded data removed]",
      "text/plain": [
       "<Figure size 432x288 with 1 Axes>"
      ]
     },
     "metadata": {
      "needs_background": "light"
     },
     "output_type": "display_data"
    }
   ],
   "source": [
    "# shelf #3 has most of the healthy cerials\n",
    "df[df[\"healthiness\"] == \"healthy\"].groupby(\"shelf\")\\\n",
    "    .size().sort_values(ascending=False).plot(kind=\"bar\");"
   ]
  },
  {
   "cell_type": "markdown",
   "metadata": {},
   "source": [
    "### **Question 11.** _(1 point)_\n",
    "* Based on the analysis conducted, what can you conclude about the cereal data set?"
   ]
  },
  {
   "cell_type": "code",
   "execution_count": 285,
   "metadata": {
    "dotnet_interactive": {
     "language": "csharp"
    },
    "vscode": {
     "languageId": "dotnet-interactive.csharp"
    }
   },
   "outputs": [
    {
     "data": {
      "text/html": [
       "<div>\n",
       "<style scoped>\n",
       "    .dataframe tbody tr th:only-of-type {\n",
       "        vertical-align: middle;\n",
       "    }\n",
       "\n",
       "    .dataframe tbody tr th {\n",
       "        vertical-align: top;\n",
       "    }\n",
       "\n",
       "    .dataframe thead th {\n",
       "        text-align: right;\n",
       "    }\n",
       "</style>\n",
       "<table border=\"1\" class=\"dataframe\">\n",
       "  <thead>\n",
       "    <tr style=\"text-align: right;\">\n",
       "      <th></th>\n",
       "      <th>calories</th>\n",
       "      <th>protein</th>\n",
       "      <th>fat</th>\n",
       "      <th>sodium</th>\n",
       "      <th>fiber</th>\n",
       "      <th>carbo</th>\n",
       "      <th>sugars</th>\n",
       "      <th>potass</th>\n",
       "      <th>vitamins</th>\n",
       "      <th>shelf</th>\n",
       "      <th>weight</th>\n",
       "      <th>cups</th>\n",
       "      <th>rating</th>\n",
       "    </tr>\n",
       "  </thead>\n",
       "  <tbody>\n",
       "    <tr>\n",
       "      <th>count</th>\n",
       "      <td>77.000000</td>\n",
       "      <td>77.000000</td>\n",
       "      <td>77.000000</td>\n",
       "      <td>77.000000</td>\n",
       "      <td>77.000000</td>\n",
       "      <td>77.000000</td>\n",
       "      <td>77.000000</td>\n",
       "      <td>77.000000</td>\n",
       "      <td>77.000000</td>\n",
       "      <td>77.000000</td>\n",
       "      <td>77.0</td>\n",
       "      <td>77.000000</td>\n",
       "      <td>77.000000</td>\n",
       "    </tr>\n",
       "    <tr>\n",
       "      <th>mean</th>\n",
       "      <td>103.996910</td>\n",
       "      <td>2.545455</td>\n",
       "      <td>1.012987</td>\n",
       "      <td>159.675325</td>\n",
       "      <td>2.151948</td>\n",
       "      <td>14.792208</td>\n",
       "      <td>7.025974</td>\n",
       "      <td>98.441558</td>\n",
       "      <td>28.246753</td>\n",
       "      <td>2.207792</td>\n",
       "      <td>1.0</td>\n",
       "      <td>0.821039</td>\n",
       "      <td>42.665705</td>\n",
       "    </tr>\n",
       "    <tr>\n",
       "      <th>std</th>\n",
       "      <td>13.851864</td>\n",
       "      <td>1.094790</td>\n",
       "      <td>1.006473</td>\n",
       "      <td>83.832295</td>\n",
       "      <td>2.383364</td>\n",
       "      <td>3.882612</td>\n",
       "      <td>4.349755</td>\n",
       "      <td>69.491857</td>\n",
       "      <td>22.342523</td>\n",
       "      <td>0.832524</td>\n",
       "      <td>0.0</td>\n",
       "      <td>0.232716</td>\n",
       "      <td>14.047289</td>\n",
       "    </tr>\n",
       "    <tr>\n",
       "      <th>min</th>\n",
       "      <td>50.000000</td>\n",
       "      <td>1.000000</td>\n",
       "      <td>0.000000</td>\n",
       "      <td>0.000000</td>\n",
       "      <td>0.000000</td>\n",
       "      <td>5.000000</td>\n",
       "      <td>0.000000</td>\n",
       "      <td>15.000000</td>\n",
       "      <td>0.000000</td>\n",
       "      <td>1.000000</td>\n",
       "      <td>1.0</td>\n",
       "      <td>0.250000</td>\n",
       "      <td>18.042851</td>\n",
       "    </tr>\n",
       "    <tr>\n",
       "      <th>25%</th>\n",
       "      <td>100.000000</td>\n",
       "      <td>2.000000</td>\n",
       "      <td>0.000000</td>\n",
       "      <td>130.000000</td>\n",
       "      <td>1.000000</td>\n",
       "      <td>12.000000</td>\n",
       "      <td>3.000000</td>\n",
       "      <td>45.000000</td>\n",
       "      <td>25.000000</td>\n",
       "      <td>1.000000</td>\n",
       "      <td>1.0</td>\n",
       "      <td>0.670000</td>\n",
       "      <td>33.174094</td>\n",
       "    </tr>\n",
       "    <tr>\n",
       "      <th>50%</th>\n",
       "      <td>106.666667</td>\n",
       "      <td>3.000000</td>\n",
       "      <td>1.000000</td>\n",
       "      <td>180.000000</td>\n",
       "      <td>2.000000</td>\n",
       "      <td>14.000000</td>\n",
       "      <td>7.000000</td>\n",
       "      <td>90.000000</td>\n",
       "      <td>25.000000</td>\n",
       "      <td>2.000000</td>\n",
       "      <td>1.0</td>\n",
       "      <td>0.750000</td>\n",
       "      <td>40.400208</td>\n",
       "    </tr>\n",
       "    <tr>\n",
       "      <th>75%</th>\n",
       "      <td>110.000000</td>\n",
       "      <td>3.000000</td>\n",
       "      <td>2.000000</td>\n",
       "      <td>210.000000</td>\n",
       "      <td>3.000000</td>\n",
       "      <td>17.000000</td>\n",
       "      <td>11.000000</td>\n",
       "      <td>120.000000</td>\n",
       "      <td>25.000000</td>\n",
       "      <td>3.000000</td>\n",
       "      <td>1.0</td>\n",
       "      <td>1.000000</td>\n",
       "      <td>50.828392</td>\n",
       "    </tr>\n",
       "    <tr>\n",
       "      <th>max</th>\n",
       "      <td>150.000000</td>\n",
       "      <td>6.000000</td>\n",
       "      <td>5.000000</td>\n",
       "      <td>320.000000</td>\n",
       "      <td>14.000000</td>\n",
       "      <td>23.000000</td>\n",
       "      <td>15.000000</td>\n",
       "      <td>330.000000</td>\n",
       "      <td>100.000000</td>\n",
       "      <td>3.000000</td>\n",
       "      <td>1.0</td>\n",
       "      <td>1.500000</td>\n",
       "      <td>93.704912</td>\n",
       "    </tr>\n",
       "  </tbody>\n",
       "</table>\n",
       "</div>"
      ],
      "text/plain": [
       "         calories    protein        fat      sodium      fiber      carbo  \\\n",
       "count   77.000000  77.000000  77.000000   77.000000  77.000000  77.000000   \n",
       "mean   103.996910   2.545455   1.012987  159.675325   2.151948  14.792208   \n",
       "std     13.851864   1.094790   1.006473   83.832295   2.383364   3.882612   \n",
       "min     50.000000   1.000000   0.000000    0.000000   0.000000   5.000000   \n",
       "25%    100.000000   2.000000   0.000000  130.000000   1.000000  12.000000   \n",
       "50%    106.666667   3.000000   1.000000  180.000000   2.000000  14.000000   \n",
       "75%    110.000000   3.000000   2.000000  210.000000   3.000000  17.000000   \n",
       "max    150.000000   6.000000   5.000000  320.000000  14.000000  23.000000   \n",
       "\n",
       "          sugars      potass    vitamins      shelf  weight       cups  \\\n",
       "count  77.000000   77.000000   77.000000  77.000000    77.0  77.000000   \n",
       "mean    7.025974   98.441558   28.246753   2.207792     1.0   0.821039   \n",
       "std     4.349755   69.491857   22.342523   0.832524     0.0   0.232716   \n",
       "min     0.000000   15.000000    0.000000   1.000000     1.0   0.250000   \n",
       "25%     3.000000   45.000000   25.000000   1.000000     1.0   0.670000   \n",
       "50%     7.000000   90.000000   25.000000   2.000000     1.0   0.750000   \n",
       "75%    11.000000  120.000000   25.000000   3.000000     1.0   1.000000   \n",
       "max    15.000000  330.000000  100.000000   3.000000     1.0   1.500000   \n",
       "\n",
       "          rating  \n",
       "count  77.000000  \n",
       "mean   42.665705  \n",
       "std    14.047289  \n",
       "min    18.042851  \n",
       "25%    33.174094  \n",
       "50%    40.400208  \n",
       "75%    50.828392  \n",
       "max    93.704912  "
      ]
     },
     "execution_count": 285,
     "metadata": {},
     "output_type": "execute_result"
    }
   ],
   "source": [
    "df.describe()"
   ]
  },
  {
   "cell_type": "markdown",
   "metadata": {},
   "source": [
    "Overview:\n",
    "- The data set is decent as is mostly have all the necessary data for analysis, except a few missing data points represented by a `-1`\n",
    "- Unfortunately there is no type category and we have infer it from the name, which may be quite inaccurate.\n",
    "- Finally the data set is fairly small, only 77 entries; however, despite a small size we seem to be able to identify a strong correlation between calories and rating."
   ]
  },
  {
   "cell_type": "code",
   "execution_count": 292,
   "metadata": {
    "dotnet_interactive": {
     "language": "csharp"
    },
    "vscode": {
     "languageId": "dotnet-interactive.csharp"
    }
   },
   "outputs": [
    {
     "data": {
      "text/plain": [
       "count          15\n",
       "unique          1\n",
       "top       healthy\n",
       "freq           15\n",
       "Name: healthyness, dtype: object"
      ]
     },
     "execution_count": 292,
     "metadata": {},
     "output_type": "execute_result"
    }
   ],
   "source": [
    "df[df[\"healthiness\"]==\"healthy\"][\"healthiness\"].describe()"
   ]
  },
  {
   "cell_type": "markdown",
   "metadata": {},
   "source": [
    "Conclusions:\n",
    "- The wast majority of cereals are unhealthy\n",
    "- People looking for healthier options would likely find on the 3rd shelf\n",
    "- People seem to give higher rating lower calories with lower calories count\n",
    "- Looking at the destribution or ratings, we can conclude that either there is no correlation between high rading and \"healthiness\" or our definition of \"healthiness\" may not be the same as the one of the consumers"
   ]
  }
 ],
 "metadata": {
  "kernelspec": {
   "display_name": ".NET (C#)",
   "language": "C#",
   "name": ".net-csharp"
  },
  "language_info": {
   "file_extension": ".cs",
   "mimetype": "text/x-csharp",
   "name": "C#",
   "pygments_lexer": "csharp",
   "version": "9.0"
  },
  "toc": {
   "base_numbering": 1,
   "nav_menu": {},
   "number_sections": false,
   "sideBar": true,
   "skip_h1_title": false,
   "title_cell": "Table of Contents",
   "title_sidebar": "Contents",
   "toc_cell": false,
   "toc_position": {},
   "toc_section_display": true,
   "toc_window_display": false
  },
  "vscode": {
   "interpreter": {
    "hash": "cbab5e14ac642e0b7d4f8b3c341f39ee1a1cfd41468eefd45b78af4896dd8d2b"
   }
  }
 },
 "nbformat": 4,
 "nbformat_minor": 4
}
