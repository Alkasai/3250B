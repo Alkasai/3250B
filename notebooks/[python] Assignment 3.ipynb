{
 "cells": [
  {
   "cell_type": "markdown",
   "metadata": {},
   "source": [
    "Before you turn this problem in, make sure everything runs as expected. First, **restart the kernel** (in the menu bar, select Kernel$\\rightarrow$Restart) and then **run all cells** (in the menu bar, select Cell$\\rightarrow$Run All).\n",
    "\n",
    "Make sure that in addition to the code, you provide written answers for all questions of the assignment. \n",
    "\n",
    "Below, please fill in your name:"
   ]
  },
  {
   "cell_type": "code",
   "execution_count": 1,
   "metadata": {},
   "outputs": [],
   "source": [
    "NAME = \"Alexey Adamsky\""
   ]
  },
  {
   "cell_type": "markdown",
   "metadata": {},
   "source": [
    "# Assignment 3 - Linear Regression\n",
    "\n",
    "In this assignment, we will be building a linear regression model to understand the drivers which influence car prices. \n",
    "\n",
    "The car_data.csv dataset contains the following data points about car prices:\n",
    "\n",
    "- 1 Car_Name - the model of the car\n",
    "- 2 Year - the year of the car\n",
    "- 3 Selling_Price - the current selling price of the used car\n",
    "- 4 Present_Price - the price of the same car, but new\n",
    "- 5 Kms_Driven - how many kms have been driven\n",
    "- 6 Fuel_Type - diesel or gas\n",
    "- 7 Seller_Type - sold by a dealer or individual seller\n",
    "- 8 Transmission - standard or automatic\n",
    "- 9 Owner - number of owners\n",
    "\n",
    "\n",
    "Complete the following:\n",
    "\n",
    "**Data Preparation**\n",
    "\n",
    "**Question 1** _(3 points)_\n",
    "* Create dummy variables for the Fuel_Type, Transmission and Seller_Type variables.\n",
    "\n",
    "**Question 2** _(3 points)\n",
    "* Create a new column which captures the age of the car as 'new' or 'old'.\n",
    "\n",
    "**Question 3** _(3 points)\n",
    "* Scale the Kms_Driven, Selling_Price, and Present_Price variables (i.e. ensure the variables have the same scale - thousands or tens. You can choose whichever scale you prefer).\n",
    "\n",
    "**Exploratory Analysis**\n",
    "\n",
    "**Question 4** _(3 points)_\n",
    "* Conduct exploratory analysis for the categorical variables. What are you findings?\n",
    "\n",
    "**Question 5** _(10 points)_\n",
    "* Conduct exploratory analysis for the continuous variables. Ensure you review each variable by itself, and in combination with the other variables to identify insights and trends. What are your findings?\n",
    "\n",
    "\n",
    "**Regression Model**\n",
    "\n",
    "**Question 6** _(1 point)_\n",
    "* Based on the insights identified, state a hypothesis which you can test with a regression model.  \n",
    "\n",
    "**Question 7** _(5 points)_\n",
    "* Build a linear regression model based on your hypothesis. Interpret the results.\n",
    "\n",
    "**Question 8** _(2 points)_\n",
    "* How could you make your model better? Is there data that you think would be helpful to achieve a higherd R2 value?"
   ]
  },
  {
   "cell_type": "code",
   "execution_count": null,
   "metadata": {},
   "outputs": [],
   "source": []
  },
  {
   "cell_type": "code",
   "execution_count": null,
   "metadata": {},
   "outputs": [],
   "source": []
  },
  {
   "cell_type": "code",
   "execution_count": null,
   "metadata": {},
   "outputs": [],
   "source": []
  },
  {
   "cell_type": "code",
   "execution_count": null,
   "metadata": {},
   "outputs": [],
   "source": []
  },
  {
   "cell_type": "code",
   "execution_count": null,
   "metadata": {},
   "outputs": [],
   "source": []
  }
 ],
 "metadata": {
  "kernelspec": {
   "display_name": "Python 3",
   "language": "python",
   "name": "python3"
  },
  "language_info": {
   "codemirror_mode": {
    "name": "ipython",
    "version": 3
   },
   "file_extension": ".py",
   "mimetype": "text/x-python",
   "name": "python",
   "nbconvert_exporter": "python",
   "pygments_lexer": "ipython3",
   "version": "3.7.7"
  }
 },
 "nbformat": 4,
 "nbformat_minor": 4
}
