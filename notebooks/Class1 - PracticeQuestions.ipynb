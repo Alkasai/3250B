{
 "cells": [
  {
   "cell_type": "markdown",
   "metadata": {},
   "source": [
    "## Data Cleaning Practice Questions\n",
    "\n",
    "Import the provided dataset 'sampledata.csv' and complete the following:\n",
    "\n",
    "* 1) Split the first and last name in 2 separate columns:\n",
    "* 2) Rename the two new columns to 'first_name' and 'last_name'\n",
    "* 3) Identify the errors in province names\n",
    "* 4) Create a dictionary object to change the wrongfully captured province names to the following format: ON, MB, QB, etc.\n",
    "* 5) Apply the dictionary to the 'province' column\n",
    "* 6) Fill in missing values in the 'province' column with 'Other'\n",
    "* 7) Convert the 'net_worth' column to a numeric data type. Hint: Python doesn't recognize currency so you will need to remove the '$' and ',' symbols from each value\n",
    "* 8) Add a new column for 'age' and calculate each person's age"
   ]
  },
  {
   "cell_type": "code",
   "execution_count": null,
   "metadata": {},
   "outputs": [],
   "source": [
    "#add answers here"
   ]
  },
  {
   "cell_type": "code",
   "execution_count": null,
   "metadata": {},
   "outputs": [],
   "source": []
  },
  {
   "cell_type": "code",
   "execution_count": null,
   "metadata": {},
   "outputs": [],
   "source": []
  },
  {
   "cell_type": "code",
   "execution_count": null,
   "metadata": {},
   "outputs": [],
   "source": []
  },
  {
   "cell_type": "code",
   "execution_count": null,
   "metadata": {},
   "outputs": [],
   "source": []
  },
  {
   "cell_type": "code",
   "execution_count": null,
   "metadata": {},
   "outputs": [],
   "source": []
  },
  {
   "cell_type": "code",
   "execution_count": null,
   "metadata": {},
   "outputs": [],
   "source": []
  },
  {
   "cell_type": "code",
   "execution_count": null,
   "metadata": {},
   "outputs": [],
   "source": []
  },
  {
   "cell_type": "code",
   "execution_count": null,
   "metadata": {},
   "outputs": [],
   "source": []
  },
  {
   "cell_type": "code",
   "execution_count": null,
   "metadata": {},
   "outputs": [],
   "source": []
  },
  {
   "cell_type": "code",
   "execution_count": null,
   "metadata": {},
   "outputs": [],
   "source": []
  },
  {
   "cell_type": "code",
   "execution_count": null,
   "metadata": {},
   "outputs": [],
   "source": []
  },
  {
   "cell_type": "code",
   "execution_count": null,
   "metadata": {},
   "outputs": [],
   "source": []
  },
  {
   "cell_type": "code",
   "execution_count": null,
   "metadata": {},
   "outputs": [],
   "source": []
  },
  {
   "cell_type": "code",
   "execution_count": null,
   "metadata": {},
   "outputs": [],
   "source": []
  },
  {
   "cell_type": "markdown",
   "metadata": {},
   "source": [
    "## Suggested Solutions\n",
    "\n",
    "We will first import all the relevant libraries, including some datetime classes and functions. Then, import the sampledata.csv file"
   ]
  },
  {
   "cell_type": "code",
   "execution_count": 1,
   "metadata": {},
   "outputs": [],
   "source": [
    "import numpy as np\n",
    "import pandas as pd\n",
    "import matplotlib.pyplot as plt\n",
    "%matplotlib inline\n",
    "import datetime as dt\n",
    "from datetime import datetime,timedelta\n"
   ]
  },
  {
   "cell_type": "code",
   "execution_count": 2,
   "metadata": {},
   "outputs": [],
   "source": [
    "df=pd.read_csv('sampledata.csv')"
   ]
  },
  {
   "cell_type": "markdown",
   "metadata": {},
   "source": [
    "Some of the issues noticed first hand: there are many variations of how the province variable is recorded, the net_worth column is text data (due to $ and , symbols), the first and last name aren't split, and we have some missing values in the province column."
   ]
  },
  {
   "cell_type": "code",
   "execution_count": 3,
   "metadata": {},
   "outputs": [
    {
     "data": {
      "text/html": [
       "<div>\n",
       "<style scoped>\n",
       "    .dataframe tbody tr th:only-of-type {\n",
       "        vertical-align: middle;\n",
       "    }\n",
       "\n",
       "    .dataframe tbody tr th {\n",
       "        vertical-align: top;\n",
       "    }\n",
       "\n",
       "    .dataframe thead th {\n",
       "        text-align: right;\n",
       "    }\n",
       "</style>\n",
       "<table border=\"1\" class=\"dataframe\">\n",
       "  <thead>\n",
       "    <tr style=\"text-align: right;\">\n",
       "      <th></th>\n",
       "      <th>customer_id</th>\n",
       "      <th>name</th>\n",
       "      <th>province</th>\n",
       "      <th>birth_date</th>\n",
       "      <th>net_worth</th>\n",
       "    </tr>\n",
       "  </thead>\n",
       "  <tbody>\n",
       "    <tr>\n",
       "      <th>0</th>\n",
       "      <td>1</td>\n",
       "      <td>Audrey Thomas</td>\n",
       "      <td>Ont.</td>\n",
       "      <td>December 27, 1992</td>\n",
       "      <td>$92,887.00</td>\n",
       "    </tr>\n",
       "    <tr>\n",
       "      <th>1</th>\n",
       "      <td>2</td>\n",
       "      <td>Byron Tucker</td>\n",
       "      <td>Ontario</td>\n",
       "      <td>May 1, 1995</td>\n",
       "      <td>$50,000.00</td>\n",
       "    </tr>\n",
       "    <tr>\n",
       "      <th>2</th>\n",
       "      <td>3</td>\n",
       "      <td>Melissa Watson</td>\n",
       "      <td>Ontario</td>\n",
       "      <td>August 11, 1996</td>\n",
       "      <td>$447,015.00</td>\n",
       "    </tr>\n",
       "    <tr>\n",
       "      <th>3</th>\n",
       "      <td>4</td>\n",
       "      <td>Alisa Holmes</td>\n",
       "      <td>ON</td>\n",
       "      <td>October 13, 1984</td>\n",
       "      <td>$294,583.00</td>\n",
       "    </tr>\n",
       "    <tr>\n",
       "      <th>4</th>\n",
       "      <td>5</td>\n",
       "      <td>Clark Crawford</td>\n",
       "      <td>BC</td>\n",
       "      <td>April 20, 2006</td>\n",
       "      <td>$24,873.00</td>\n",
       "    </tr>\n",
       "  </tbody>\n",
       "</table>\n",
       "</div>"
      ],
      "text/plain": [
       "   customer_id            name province         birth_date      net_worth\n",
       "0            1   Audrey Thomas     Ont.  December 27, 1992    $92,887.00 \n",
       "1            2    Byron Tucker  Ontario        May 1, 1995    $50,000.00 \n",
       "2            3  Melissa Watson  Ontario    August 11, 1996   $447,015.00 \n",
       "3            4    Alisa Holmes       ON   October 13, 1984   $294,583.00 \n",
       "4            5  Clark Crawford       BC     April 20, 2006    $24,873.00 "
      ]
     },
     "execution_count": 3,
     "metadata": {},
     "output_type": "execute_result"
    }
   ],
   "source": [
    "df.head()\n"
   ]
  },
  {
   "cell_type": "code",
   "execution_count": 4,
   "metadata": {},
   "outputs": [
    {
     "name": "stdout",
     "output_type": "stream",
     "text": [
      "<class 'pandas.core.frame.DataFrame'>\n",
      "RangeIndex: 50 entries, 0 to 49\n",
      "Data columns (total 5 columns):\n",
      " #   Column       Non-Null Count  Dtype \n",
      "---  ------       --------------  ----- \n",
      " 0   customer_id  50 non-null     int64 \n",
      " 1   name         50 non-null     object\n",
      " 2   province     42 non-null     object\n",
      " 3   birth_date   50 non-null     object\n",
      " 4   net_worth    50 non-null     object\n",
      "dtypes: int64(1), object(4)\n",
      "memory usage: 2.1+ KB\n"
     ]
    }
   ],
   "source": [
    "df.info()"
   ]
  },
  {
   "cell_type": "markdown",
   "metadata": {},
   "source": [
    "The first thing we will do is split up the first and last name. We can use str.split() or str.rsplit() for this.\n",
    "\n",
    "str.split() will split a string starting on the left hand side, while rsplit() will do so starting on the right hand side. The 'n' parameter in this function tells it how many times to split (once, twice, and so on). In our case, we only need to split once, and we will use rsplit(). Why? Bacause in cases where we have middle names, we are going to record these as part of the first name. You need to watch out for and determine how to treat common name issues, like hyphenated names, middle initials, middle names, 2 last names, and so on.\n",
    "\n",
    "Finally, the 'expand' argument in this function tells it to create two new columns - one for the first name and one for the last."
   ]
  },
  {
   "cell_type": "code",
   "execution_count": 5,
   "metadata": {},
   "outputs": [],
   "source": [
    "df2 = df['name'].str.rsplit(n=1, expand=True)"
   ]
  },
  {
   "cell_type": "code",
   "execution_count": 6,
   "metadata": {},
   "outputs": [
    {
     "data": {
      "text/html": [
       "<div>\n",
       "<style scoped>\n",
       "    .dataframe tbody tr th:only-of-type {\n",
       "        vertical-align: middle;\n",
       "    }\n",
       "\n",
       "    .dataframe tbody tr th {\n",
       "        vertical-align: top;\n",
       "    }\n",
       "\n",
       "    .dataframe thead th {\n",
       "        text-align: right;\n",
       "    }\n",
       "</style>\n",
       "<table border=\"1\" class=\"dataframe\">\n",
       "  <thead>\n",
       "    <tr style=\"text-align: right;\">\n",
       "      <th></th>\n",
       "      <th>0</th>\n",
       "      <th>1</th>\n",
       "    </tr>\n",
       "  </thead>\n",
       "  <tbody>\n",
       "    <tr>\n",
       "      <th>0</th>\n",
       "      <td>Audrey</td>\n",
       "      <td>Thomas</td>\n",
       "    </tr>\n",
       "    <tr>\n",
       "      <th>1</th>\n",
       "      <td>Byron</td>\n",
       "      <td>Tucker</td>\n",
       "    </tr>\n",
       "    <tr>\n",
       "      <th>2</th>\n",
       "      <td>Melissa</td>\n",
       "      <td>Watson</td>\n",
       "    </tr>\n",
       "    <tr>\n",
       "      <th>3</th>\n",
       "      <td>Alisa</td>\n",
       "      <td>Holmes</td>\n",
       "    </tr>\n",
       "    <tr>\n",
       "      <th>4</th>\n",
       "      <td>Clark</td>\n",
       "      <td>Crawford</td>\n",
       "    </tr>\n",
       "  </tbody>\n",
       "</table>\n",
       "</div>"
      ],
      "text/plain": [
       "         0         1\n",
       "0   Audrey    Thomas\n",
       "1    Byron    Tucker\n",
       "2  Melissa    Watson\n",
       "3    Alisa    Holmes\n",
       "4    Clark  Crawford"
      ]
     },
     "execution_count": 6,
     "metadata": {},
     "output_type": "execute_result"
    }
   ],
   "source": [
    "df2.head()"
   ]
  },
  {
   "cell_type": "markdown",
   "metadata": {},
   "source": [
    "We can use the join() function to combine our original dataframe with the two new columns. You can also achieve the same result using concat(). I will also rename the columns."
   ]
  },
  {
   "cell_type": "code",
   "execution_count": 7,
   "metadata": {},
   "outputs": [],
   "source": [
    "df=df.join(df2)"
   ]
  },
  {
   "cell_type": "code",
   "execution_count": 8,
   "metadata": {},
   "outputs": [],
   "source": [
    "df.rename(columns={0:'first_name',1:'last_name'}, inplace=True)"
   ]
  },
  {
   "cell_type": "markdown",
   "metadata": {},
   "source": [
    "Time to deal with the province issues. I'm going to create a dictionary which maps each unique value to the value I actually want."
   ]
  },
  {
   "cell_type": "code",
   "execution_count": 9,
   "metadata": {},
   "outputs": [
    {
     "data": {
      "text/plain": [
       "array(['Ont.', 'Ontario', 'ON', 'BC', 'British Columbia', 'B.C.',\n",
       "       'Manitoba', 'MB', 'M.B', 'M.B.', 'mb', 'Nfld', 'Newfoundland',\n",
       "       'NF', 'QB', 'Quebec', 'Q.B.', nan, 'Bc', 'Ontaario', 'Ont',\n",
       "       'Nunavut', 'Yukon', 'The Yukon', 'Sask', 'Saskatchewan', 'SK',\n",
       "       'Yukon Territory', 'Toronto', 'Canada', 'PEI', 'Matitoba'],\n",
       "      dtype=object)"
      ]
     },
     "execution_count": 9,
     "metadata": {},
     "output_type": "execute_result"
    }
   ],
   "source": [
    "df['province'].unique()"
   ]
  },
  {
   "cell_type": "code",
   "execution_count": 10,
   "metadata": {},
   "outputs": [],
   "source": [
    "dictionary={'Ont.':'ON', 'Ontario':'ON', 'British Columbia':'BC', 'B.C.':'BC',\n",
    "       'Manitoba':'MB', 'M.B':'MB', 'M.B.':'MB', 'mb':'MB', 'Nfld':'NF', 'Newfoundland':'NF', 'Quebec':'QB', \n",
    "            'Q.B.':'QB', 'Bc':'BC', 'Ontaario':'ON', 'Ont':'ON',\n",
    "       'Nunavut':'NV', 'Yukon':'YK', 'The Yukon':'YK', 'Sask':'SK', 'Saskatchewan':'SK',\n",
    "       'Yukon Territory':'YK', 'Toronto':'ON', 'Canada':'ON', 'Matitoba':'MB'}"
   ]
  },
  {
   "cell_type": "markdown",
   "metadata": {},
   "source": [
    "Then, I'm going to use the replace() function to replace the values in the province column with those from the dictionary. Finally, I'll just fill in the missing values with 'other'"
   ]
  },
  {
   "cell_type": "code",
   "execution_count": 11,
   "metadata": {},
   "outputs": [],
   "source": [
    "df.replace({'province':dictionary}, inplace=True)"
   ]
  },
  {
   "cell_type": "code",
   "execution_count": 12,
   "metadata": {},
   "outputs": [],
   "source": [
    "df['province'].fillna(value='Other',inplace=True)"
   ]
  },
  {
   "cell_type": "code",
   "execution_count": 13,
   "metadata": {},
   "outputs": [
    {
     "data": {
      "text/html": [
       "<div>\n",
       "<style scoped>\n",
       "    .dataframe tbody tr th:only-of-type {\n",
       "        vertical-align: middle;\n",
       "    }\n",
       "\n",
       "    .dataframe tbody tr th {\n",
       "        vertical-align: top;\n",
       "    }\n",
       "\n",
       "    .dataframe thead th {\n",
       "        text-align: right;\n",
       "    }\n",
       "</style>\n",
       "<table border=\"1\" class=\"dataframe\">\n",
       "  <thead>\n",
       "    <tr style=\"text-align: right;\">\n",
       "      <th></th>\n",
       "      <th>customer_id</th>\n",
       "      <th>name</th>\n",
       "      <th>province</th>\n",
       "      <th>birth_date</th>\n",
       "      <th>net_worth</th>\n",
       "      <th>first_name</th>\n",
       "      <th>last_name</th>\n",
       "    </tr>\n",
       "  </thead>\n",
       "  <tbody>\n",
       "    <tr>\n",
       "      <th>0</th>\n",
       "      <td>1</td>\n",
       "      <td>Audrey Thomas</td>\n",
       "      <td>ON</td>\n",
       "      <td>December 27, 1992</td>\n",
       "      <td>$92,887.00</td>\n",
       "      <td>Audrey</td>\n",
       "      <td>Thomas</td>\n",
       "    </tr>\n",
       "    <tr>\n",
       "      <th>1</th>\n",
       "      <td>2</td>\n",
       "      <td>Byron Tucker</td>\n",
       "      <td>ON</td>\n",
       "      <td>May 1, 1995</td>\n",
       "      <td>$50,000.00</td>\n",
       "      <td>Byron</td>\n",
       "      <td>Tucker</td>\n",
       "    </tr>\n",
       "  </tbody>\n",
       "</table>\n",
       "</div>"
      ],
      "text/plain": [
       "   customer_id           name province         birth_date     net_worth  \\\n",
       "0            1  Audrey Thomas       ON  December 27, 1992   $92,887.00    \n",
       "1            2   Byron Tucker       ON        May 1, 1995   $50,000.00    \n",
       "\n",
       "  first_name last_name  \n",
       "0     Audrey    Thomas  \n",
       "1      Byron    Tucker  "
      ]
     },
     "execution_count": 13,
     "metadata": {},
     "output_type": "execute_result"
    }
   ],
   "source": [
    "df.head(2)"
   ]
  },
  {
   "cell_type": "markdown",
   "metadata": {},
   "source": [
    "Time to clean that pesky dollar data! This should be easy - use the str.replace() method to get rid of $ and , symbols. Also, don't forget to change the type from string to float. You should use astype() for this."
   ]
  },
  {
   "cell_type": "code",
   "execution_count": 14,
   "metadata": {},
   "outputs": [],
   "source": [
    "df['net_worth']=df['net_worth'].str.replace('$','',regex=True)\n",
    "df['net_worth']=df['net_worth'].str.replace(',','',regex=True)"
   ]
  },
  {
   "cell_type": "code",
   "execution_count": 15,
   "metadata": {},
   "outputs": [],
   "source": [
    "df['net_worth']=df['net_worth'].astype(float)"
   ]
  },
  {
   "cell_type": "code",
   "execution_count": 16,
   "metadata": {},
   "outputs": [
    {
     "data": {
      "text/html": [
       "<div>\n",
       "<style scoped>\n",
       "    .dataframe tbody tr th:only-of-type {\n",
       "        vertical-align: middle;\n",
       "    }\n",
       "\n",
       "    .dataframe tbody tr th {\n",
       "        vertical-align: top;\n",
       "    }\n",
       "\n",
       "    .dataframe thead th {\n",
       "        text-align: right;\n",
       "    }\n",
       "</style>\n",
       "<table border=\"1\" class=\"dataframe\">\n",
       "  <thead>\n",
       "    <tr style=\"text-align: right;\">\n",
       "      <th></th>\n",
       "      <th>customer_id</th>\n",
       "      <th>name</th>\n",
       "      <th>province</th>\n",
       "      <th>birth_date</th>\n",
       "      <th>net_worth</th>\n",
       "      <th>first_name</th>\n",
       "      <th>last_name</th>\n",
       "    </tr>\n",
       "  </thead>\n",
       "  <tbody>\n",
       "    <tr>\n",
       "      <th>0</th>\n",
       "      <td>1</td>\n",
       "      <td>Audrey Thomas</td>\n",
       "      <td>ON</td>\n",
       "      <td>December 27, 1992</td>\n",
       "      <td>92887.0</td>\n",
       "      <td>Audrey</td>\n",
       "      <td>Thomas</td>\n",
       "    </tr>\n",
       "    <tr>\n",
       "      <th>1</th>\n",
       "      <td>2</td>\n",
       "      <td>Byron Tucker</td>\n",
       "      <td>ON</td>\n",
       "      <td>May 1, 1995</td>\n",
       "      <td>50000.0</td>\n",
       "      <td>Byron</td>\n",
       "      <td>Tucker</td>\n",
       "    </tr>\n",
       "    <tr>\n",
       "      <th>2</th>\n",
       "      <td>3</td>\n",
       "      <td>Melissa Watson</td>\n",
       "      <td>ON</td>\n",
       "      <td>August 11, 1996</td>\n",
       "      <td>447015.0</td>\n",
       "      <td>Melissa</td>\n",
       "      <td>Watson</td>\n",
       "    </tr>\n",
       "    <tr>\n",
       "      <th>3</th>\n",
       "      <td>4</td>\n",
       "      <td>Alisa Holmes</td>\n",
       "      <td>ON</td>\n",
       "      <td>October 13, 1984</td>\n",
       "      <td>294583.0</td>\n",
       "      <td>Alisa</td>\n",
       "      <td>Holmes</td>\n",
       "    </tr>\n",
       "    <tr>\n",
       "      <th>4</th>\n",
       "      <td>5</td>\n",
       "      <td>Clark Crawford</td>\n",
       "      <td>BC</td>\n",
       "      <td>April 20, 2006</td>\n",
       "      <td>24873.0</td>\n",
       "      <td>Clark</td>\n",
       "      <td>Crawford</td>\n",
       "    </tr>\n",
       "  </tbody>\n",
       "</table>\n",
       "</div>"
      ],
      "text/plain": [
       "   customer_id            name province         birth_date  net_worth  \\\n",
       "0            1   Audrey Thomas       ON  December 27, 1992    92887.0   \n",
       "1            2    Byron Tucker       ON        May 1, 1995    50000.0   \n",
       "2            3  Melissa Watson       ON    August 11, 1996   447015.0   \n",
       "3            4    Alisa Holmes       ON   October 13, 1984   294583.0   \n",
       "4            5  Clark Crawford       BC     April 20, 2006    24873.0   \n",
       "\n",
       "  first_name last_name  \n",
       "0     Audrey    Thomas  \n",
       "1      Byron    Tucker  \n",
       "2    Melissa    Watson  \n",
       "3      Alisa    Holmes  \n",
       "4      Clark  Crawford  "
      ]
     },
     "execution_count": 16,
     "metadata": {},
     "output_type": "execute_result"
    }
   ],
   "source": [
    "df.head()"
   ]
  },
  {
   "cell_type": "markdown",
   "metadata": {},
   "source": [
    "Now we can use the to_datetime() function to fix the format of our birth date data. This will help us calculate the age."
   ]
  },
  {
   "cell_type": "code",
   "execution_count": 17,
   "metadata": {},
   "outputs": [],
   "source": [
    "df['birth_date']=pd.to_datetime(df['birth_date'])"
   ]
  },
  {
   "cell_type": "code",
   "execution_count": 18,
   "metadata": {},
   "outputs": [
    {
     "data": {
      "text/html": [
       "<div>\n",
       "<style scoped>\n",
       "    .dataframe tbody tr th:only-of-type {\n",
       "        vertical-align: middle;\n",
       "    }\n",
       "\n",
       "    .dataframe tbody tr th {\n",
       "        vertical-align: top;\n",
       "    }\n",
       "\n",
       "    .dataframe thead th {\n",
       "        text-align: right;\n",
       "    }\n",
       "</style>\n",
       "<table border=\"1\" class=\"dataframe\">\n",
       "  <thead>\n",
       "    <tr style=\"text-align: right;\">\n",
       "      <th></th>\n",
       "      <th>customer_id</th>\n",
       "      <th>name</th>\n",
       "      <th>province</th>\n",
       "      <th>birth_date</th>\n",
       "      <th>net_worth</th>\n",
       "      <th>first_name</th>\n",
       "      <th>last_name</th>\n",
       "    </tr>\n",
       "  </thead>\n",
       "  <tbody>\n",
       "    <tr>\n",
       "      <th>0</th>\n",
       "      <td>1</td>\n",
       "      <td>Audrey Thomas</td>\n",
       "      <td>ON</td>\n",
       "      <td>1992-12-27</td>\n",
       "      <td>92887.0</td>\n",
       "      <td>Audrey</td>\n",
       "      <td>Thomas</td>\n",
       "    </tr>\n",
       "    <tr>\n",
       "      <th>1</th>\n",
       "      <td>2</td>\n",
       "      <td>Byron Tucker</td>\n",
       "      <td>ON</td>\n",
       "      <td>1995-05-01</td>\n",
       "      <td>50000.0</td>\n",
       "      <td>Byron</td>\n",
       "      <td>Tucker</td>\n",
       "    </tr>\n",
       "    <tr>\n",
       "      <th>2</th>\n",
       "      <td>3</td>\n",
       "      <td>Melissa Watson</td>\n",
       "      <td>ON</td>\n",
       "      <td>1996-08-11</td>\n",
       "      <td>447015.0</td>\n",
       "      <td>Melissa</td>\n",
       "      <td>Watson</td>\n",
       "    </tr>\n",
       "    <tr>\n",
       "      <th>3</th>\n",
       "      <td>4</td>\n",
       "      <td>Alisa Holmes</td>\n",
       "      <td>ON</td>\n",
       "      <td>1984-10-13</td>\n",
       "      <td>294583.0</td>\n",
       "      <td>Alisa</td>\n",
       "      <td>Holmes</td>\n",
       "    </tr>\n",
       "    <tr>\n",
       "      <th>4</th>\n",
       "      <td>5</td>\n",
       "      <td>Clark Crawford</td>\n",
       "      <td>BC</td>\n",
       "      <td>2006-04-20</td>\n",
       "      <td>24873.0</td>\n",
       "      <td>Clark</td>\n",
       "      <td>Crawford</td>\n",
       "    </tr>\n",
       "  </tbody>\n",
       "</table>\n",
       "</div>"
      ],
      "text/plain": [
       "   customer_id            name province birth_date  net_worth first_name  \\\n",
       "0            1   Audrey Thomas       ON 1992-12-27    92887.0     Audrey   \n",
       "1            2    Byron Tucker       ON 1995-05-01    50000.0      Byron   \n",
       "2            3  Melissa Watson       ON 1996-08-11   447015.0    Melissa   \n",
       "3            4    Alisa Holmes       ON 1984-10-13   294583.0      Alisa   \n",
       "4            5  Clark Crawford       BC 2006-04-20    24873.0      Clark   \n",
       "\n",
       "  last_name  \n",
       "0    Thomas  \n",
       "1    Tucker  \n",
       "2    Watson  \n",
       "3    Holmes  \n",
       "4  Crawford  "
      ]
     },
     "execution_count": 18,
     "metadata": {},
     "output_type": "execute_result"
    }
   ],
   "source": [
    "df.head()"
   ]
  },
  {
   "cell_type": "markdown",
   "metadata": {},
   "source": [
    "We also should import the data class from datetime, which will allow us pull out today's date, and subtract the birth date from it to calculate age."
   ]
  },
  {
   "cell_type": "code",
   "execution_count": 19,
   "metadata": {},
   "outputs": [],
   "source": [
    "from datetime import date"
   ]
  },
  {
   "cell_type": "code",
   "execution_count": 20,
   "metadata": {},
   "outputs": [],
   "source": [
    "today=date.today()"
   ]
  },
  {
   "cell_type": "code",
   "execution_count": 21,
   "metadata": {},
   "outputs": [
    {
     "data": {
      "text/plain": [
       "datetime.date(2021, 1, 13)"
      ]
     },
     "execution_count": 21,
     "metadata": {},
     "output_type": "execute_result"
    }
   ],
   "source": [
    "today"
   ]
  },
  {
   "cell_type": "code",
   "execution_count": 23,
   "metadata": {},
   "outputs": [],
   "source": [
    "def age(i):\n",
    "    today = date.today()\n",
    "    return today.year - i.year - ((today.month, today.day) < (i.month, i.day))"
   ]
  },
  {
   "cell_type": "code",
   "execution_count": 24,
   "metadata": {},
   "outputs": [],
   "source": [
    "df['age'] = df['birth_date'].apply(age)"
   ]
  },
  {
   "cell_type": "code",
   "execution_count": 25,
   "metadata": {},
   "outputs": [
    {
     "data": {
      "text/html": [
       "<div>\n",
       "<style scoped>\n",
       "    .dataframe tbody tr th:only-of-type {\n",
       "        vertical-align: middle;\n",
       "    }\n",
       "\n",
       "    .dataframe tbody tr th {\n",
       "        vertical-align: top;\n",
       "    }\n",
       "\n",
       "    .dataframe thead th {\n",
       "        text-align: right;\n",
       "    }\n",
       "</style>\n",
       "<table border=\"1\" class=\"dataframe\">\n",
       "  <thead>\n",
       "    <tr style=\"text-align: right;\">\n",
       "      <th></th>\n",
       "      <th>customer_id</th>\n",
       "      <th>name</th>\n",
       "      <th>province</th>\n",
       "      <th>birth_date</th>\n",
       "      <th>net_worth</th>\n",
       "      <th>first_name</th>\n",
       "      <th>last_name</th>\n",
       "      <th>age</th>\n",
       "    </tr>\n",
       "  </thead>\n",
       "  <tbody>\n",
       "    <tr>\n",
       "      <th>0</th>\n",
       "      <td>1</td>\n",
       "      <td>Audrey Thomas</td>\n",
       "      <td>ON</td>\n",
       "      <td>1992-12-27</td>\n",
       "      <td>92887.0</td>\n",
       "      <td>Audrey</td>\n",
       "      <td>Thomas</td>\n",
       "      <td>28</td>\n",
       "    </tr>\n",
       "    <tr>\n",
       "      <th>1</th>\n",
       "      <td>2</td>\n",
       "      <td>Byron Tucker</td>\n",
       "      <td>ON</td>\n",
       "      <td>1995-05-01</td>\n",
       "      <td>50000.0</td>\n",
       "      <td>Byron</td>\n",
       "      <td>Tucker</td>\n",
       "      <td>25</td>\n",
       "    </tr>\n",
       "    <tr>\n",
       "      <th>2</th>\n",
       "      <td>3</td>\n",
       "      <td>Melissa Watson</td>\n",
       "      <td>ON</td>\n",
       "      <td>1996-08-11</td>\n",
       "      <td>447015.0</td>\n",
       "      <td>Melissa</td>\n",
       "      <td>Watson</td>\n",
       "      <td>24</td>\n",
       "    </tr>\n",
       "    <tr>\n",
       "      <th>3</th>\n",
       "      <td>4</td>\n",
       "      <td>Alisa Holmes</td>\n",
       "      <td>ON</td>\n",
       "      <td>1984-10-13</td>\n",
       "      <td>294583.0</td>\n",
       "      <td>Alisa</td>\n",
       "      <td>Holmes</td>\n",
       "      <td>36</td>\n",
       "    </tr>\n",
       "    <tr>\n",
       "      <th>4</th>\n",
       "      <td>5</td>\n",
       "      <td>Clark Crawford</td>\n",
       "      <td>BC</td>\n",
       "      <td>2006-04-20</td>\n",
       "      <td>24873.0</td>\n",
       "      <td>Clark</td>\n",
       "      <td>Crawford</td>\n",
       "      <td>14</td>\n",
       "    </tr>\n",
       "  </tbody>\n",
       "</table>\n",
       "</div>"
      ],
      "text/plain": [
       "   customer_id            name province birth_date  net_worth first_name  \\\n",
       "0            1   Audrey Thomas       ON 1992-12-27    92887.0     Audrey   \n",
       "1            2    Byron Tucker       ON 1995-05-01    50000.0      Byron   \n",
       "2            3  Melissa Watson       ON 1996-08-11   447015.0    Melissa   \n",
       "3            4    Alisa Holmes       ON 1984-10-13   294583.0      Alisa   \n",
       "4            5  Clark Crawford       BC 2006-04-20    24873.0      Clark   \n",
       "\n",
       "  last_name  age  \n",
       "0    Thomas   28  \n",
       "1    Tucker   25  \n",
       "2    Watson   24  \n",
       "3    Holmes   36  \n",
       "4  Crawford   14  "
      ]
     },
     "execution_count": 25,
     "metadata": {},
     "output_type": "execute_result"
    }
   ],
   "source": [
    "df.head()"
   ]
  },
  {
   "cell_type": "code",
   "execution_count": null,
   "metadata": {},
   "outputs": [],
   "source": []
  }
 ],
 "metadata": {
  "kernelspec": {
   "display_name": "Python 3.9.12 ('base')",
   "language": "python",
   "name": "python3"
  },
  "language_info": {
   "codemirror_mode": {
    "name": "ipython",
    "version": 3
   },
   "file_extension": ".py",
   "mimetype": "text/x-python",
   "name": "python",
   "nbconvert_exporter": "python",
   "pygments_lexer": "ipython3",
   "version": "3.9.12"
  },
  "vscode": {
   "interpreter": {
    "hash": "cbab5e14ac642e0b7d4f8b3c341f39ee1a1cfd41468eefd45b78af4896dd8d2b"
   }
  }
 },
 "nbformat": 4,
 "nbformat_minor": 4
}
